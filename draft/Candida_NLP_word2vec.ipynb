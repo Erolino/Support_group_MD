{
 "cells": [
  {
   "cell_type": "markdown",
   "metadata": {},
   "source": [
    "# WORD2VEC"
   ]
  },
  {
   "cell_type": "code",
   "execution_count": 12,
   "metadata": {
    "collapsed": true
   },
   "outputs": [],
   "source": [
    "from os.path import join as joinp\n",
    "import pandas as pd\n",
    "import numpy as np\n",
    "import codecs\n",
    "import itertools as it\n",
    "import spacy\n",
    "import boto3\n",
    "from gensim.models import Phrases\n",
    "from gensim.models.word2vec import LineSentence\n",
    "\n",
    "nlp = spacy.load('en')\n",
    "\n",
    "spacy.lang.en.STOP_WORDS.add(\"-PRON-\")\n",
    "spacy.lang.en.STOP_WORDS.add(\"'\")"
   ]
  },
  {
   "cell_type": "code",
   "execution_count": 9,
   "metadata": {
    "collapsed": true
   },
   "outputs": [],
   "source": [
    "pilot_path='/Users/eran/Galvanize_more_repositories/Support_group_MD/pilot'  # thr directory with the final files of the project\n",
    "word_path='/Users/eran/Galvanize_more_repositories/Support_group_MD/word2vec_files'  # thr directory with the final files of the project\n"
   ]
  },
  {
   "cell_type": "markdown",
   "metadata": {},
   "source": [
    "importing word2vec"
   ]
  },
  {
   "cell_type": "code",
   "execution_count": 15,
   "metadata": {},
   "outputs": [
    {
     "data": {
      "text/plain": [
       "'/Users/eran/Galvanize_more_repositories/Support_group_MD/word2vec_files/word2vec_model_all'"
      ]
     },
     "execution_count": 15,
     "metadata": {},
     "output_type": "execute_result"
    }
   ],
   "source": [
    "from gensim.models import Word2Vec\n",
    "\n",
    "trigram_sentences = LineSentence(joinp(pilot_path,'trigram_sentences_all.txt'))\n",
    "# old: trigram_sentences = LineSentence(trigram_sentences_filepath)\n",
    "\n",
    "#word2vec_filepath = joinp(word_path, 'word2vec_model_all')\n",
    "joinp(word_path, 'word2vec_model_all')"
   ]
  },
  {
   "cell_type": "markdown",
   "metadata": {},
   "source": [
    "just to remember how trigram.. looks like"
   ]
  },
  {
   "cell_type": "code",
   "execution_count": 11,
   "metadata": {},
   "outputs": [
    {
     "name": "stdout",
     "output_type": "stream",
     "text": [
      "hii coconut_nectar and coconut_butter ok to have when treat candida\n",
      "\n",
      "thank for -PRON- help\n",
      "\n",
      "not sure about coconut_butter\n",
      "\n",
      "coconut_nectar would be a definite no because of the high natural sugar_content\n",
      "\n"
     ]
    }
   ],
   "source": [
    "with codecs.open(joinp(pilot_path,'trigram_sentences_all.txt'), encoding='utf_8') as f:\n",
    "    for sent in it.islice(f, 0, 4):\n",
    "        print(sent)"
   ]
  },
  {
   "cell_type": "code",
   "execution_count": 21,
   "metadata": {},
   "outputs": [
    {
     "name": "stderr",
     "output_type": "stream",
     "text": [
      "/Users/eran/anaconda3/lib/python3.6/site-packages/ipykernel_launcher.py:15: DeprecationWarning: Call to deprecated `iter` (Attribute will be removed in 4.0.0, use self.epochs instead).\n",
      "  from ipykernel import kernelapp as app\n"
     ]
    },
    {
     "name": "stdout",
     "output_type": "stream",
     "text": [
      "12 training epochs so far.\n",
      "CPU times: user 26min 13s, sys: 5.76 s, total: 26min 18s\n",
      "Wall time: 7min 28s\n"
     ]
    }
   ],
   "source": [
    "%%time\n",
    "\n",
    "# this is a bit time consuming - make the if statement True\n",
    "# if you want to train the word2vec model yourself.\n",
    "if 1 == 1:\n",
    "\n",
    "    # initiate the model and perform the first epoch of training\n",
    "    candi2vec = Word2Vec(trigram_sentences, size=100, window=5,\n",
    "                        min_count=20, sg=1, workers=4)\n",
    "    \n",
    "    #old: candi2vec.save(word2vec_filepath)\n",
    "    candi2vec.save(joinp(word_path, 'word2vec_model_all'))\n",
    "    # perform another 11 epochs of training\n",
    "    for i in range(1,12):\n",
    "\n",
    "        candi2vec.train(trigram_sentences,total_examples=candi2vec.corpus_count, epochs=candi2vec.iter,)\n",
    "        candi2vec.save(joinp(word_path, 'word2vec_model_all'))\n",
    "        \n",
    "# load the finished model from disk\n",
    "candi2vec = Word2Vec.load(joinp(word_path, 'word2vec_model_all'))\n",
    "candi2vec.init_sims()\n",
    "\n",
    "print(u'{} training epochs so far.'.format(candi2vec.train_count))"
   ]
  },
  {
   "cell_type": "code",
   "execution_count": 23,
   "metadata": {},
   "outputs": [
    {
     "name": "stdout",
     "output_type": "stream",
     "text": [
      "9,032 terms in the candi2vec vocabulary.\n"
     ]
    }
   ],
   "source": [
    "print(u'{:,} terms in the candi2vec vocabulary.'.format(len(candi2vec.wv.vocab))) "
   ]
  },
  {
   "cell_type": "markdown",
   "metadata": {},
   "source": [
    "Let's take a peek at the word vectors our model has learned. We'll create a pandas DataFrame with the terms as the row labels, and the 100 dimensions of the word vector model as the columns."
   ]
  },
  {
   "cell_type": "code",
   "execution_count": 27,
   "metadata": {
    "collapsed": true
   },
   "outputs": [],
   "source": [
    "from six import iteritems"
   ]
  },
  {
   "cell_type": "code",
   "execution_count": 36,
   "metadata": {},
   "outputs": [
    {
     "name": "stderr",
     "output_type": "stream",
     "text": [
      "/Users/eran/anaconda3/lib/python3.6/site-packages/ipykernel_launcher.py:13: DeprecationWarning: Call to deprecated `syn0` (Attribute will be removed in 4.0.0, use self.wv.vectors instead).\n",
      "  del sys.path[0]\n"
     ]
    }
   ],
   "source": [
    "# build a list of the terms, integer indices,\n",
    "# and term counts from the candi2vec model vocabulary\n",
    "ordered_vocab = [(term, voc.index, voc.count) for term, voc in candi2vec.wv.vocab.items()]\n",
    "\n",
    "# sort by the term counts, so the most common terms appear first\n",
    "ordered_vocab = sorted(ordered_vocab, key=lambda k: k[2])\n",
    "\n",
    "# unzip the terms, integer indices, and counts into separate lists\n",
    "ordered_terms, term_indices, term_counts = zip(*ordered_vocab)\n",
    "\n",
    "# create a DataFrame with the food2vec vectors as data,\n",
    "# and the terms as row labels\n",
    "word_vectors = pd.DataFrame(candi2vec.wv.syn0[term_indices, :], index=ordered_terms)"
   ]
  },
  {
   "cell_type": "code",
   "execution_count": 40,
   "metadata": {},
   "outputs": [
    {
     "name": "stdout",
     "output_type": "stream",
     "text": [
      "matrix shape: (9032, 100)\n"
     ]
    },
    {
     "data": {
      "text/html": [
       "<div>\n",
       "<style>\n",
       "    .dataframe thead tr:only-child th {\n",
       "        text-align: right;\n",
       "    }\n",
       "\n",
       "    .dataframe thead th {\n",
       "        text-align: left;\n",
       "    }\n",
       "\n",
       "    .dataframe tbody tr th {\n",
       "        vertical-align: top;\n",
       "    }\n",
       "</style>\n",
       "<table border=\"1\" class=\"dataframe\">\n",
       "  <thead>\n",
       "    <tr style=\"text-align: right;\">\n",
       "      <th></th>\n",
       "      <th>0</th>\n",
       "      <th>1</th>\n",
       "      <th>2</th>\n",
       "      <th>3</th>\n",
       "      <th>4</th>\n",
       "      <th>5</th>\n",
       "      <th>6</th>\n",
       "      <th>7</th>\n",
       "      <th>8</th>\n",
       "      <th>9</th>\n",
       "      <th>...</th>\n",
       "      <th>90</th>\n",
       "      <th>91</th>\n",
       "      <th>92</th>\n",
       "      <th>93</th>\n",
       "      <th>94</th>\n",
       "      <th>95</th>\n",
       "      <th>96</th>\n",
       "      <th>97</th>\n",
       "      <th>98</th>\n",
       "      <th>99</th>\n",
       "    </tr>\n",
       "  </thead>\n",
       "  <tbody>\n",
       "    <tr>\n",
       "      <th>nori</th>\n",
       "      <td>0.681589</td>\n",
       "      <td>0.086686</td>\n",
       "      <td>0.237987</td>\n",
       "      <td>0.628737</td>\n",
       "      <td>-0.286396</td>\n",
       "      <td>0.799993</td>\n",
       "      <td>-0.451227</td>\n",
       "      <td>0.068365</td>\n",
       "      <td>-0.874252</td>\n",
       "      <td>-0.267618</td>\n",
       "      <td>...</td>\n",
       "      <td>-0.492964</td>\n",
       "      <td>0.164013</td>\n",
       "      <td>-0.310790</td>\n",
       "      <td>0.293377</td>\n",
       "      <td>-0.286912</td>\n",
       "      <td>-0.445305</td>\n",
       "      <td>-0.250312</td>\n",
       "      <td>1.029296</td>\n",
       "      <td>-0.805014</td>\n",
       "      <td>-0.175689</td>\n",
       "    </tr>\n",
       "    <tr>\n",
       "      <th>read_elsewhere</th>\n",
       "      <td>0.499326</td>\n",
       "      <td>0.662274</td>\n",
       "      <td>-0.624381</td>\n",
       "      <td>-0.966111</td>\n",
       "      <td>-0.090979</td>\n",
       "      <td>0.385780</td>\n",
       "      <td>0.060170</td>\n",
       "      <td>-0.100796</td>\n",
       "      <td>0.475549</td>\n",
       "      <td>-0.234469</td>\n",
       "      <td>...</td>\n",
       "      <td>-0.340177</td>\n",
       "      <td>0.203632</td>\n",
       "      <td>-0.516947</td>\n",
       "      <td>-0.121309</td>\n",
       "      <td>-0.139134</td>\n",
       "      <td>0.094469</td>\n",
       "      <td>0.448722</td>\n",
       "      <td>-0.230956</td>\n",
       "      <td>0.101692</td>\n",
       "      <td>0.763892</td>\n",
       "    </tr>\n",
       "    <tr>\n",
       "      <th>rectal_itch</th>\n",
       "      <td>-0.146520</td>\n",
       "      <td>1.186770</td>\n",
       "      <td>-0.712997</td>\n",
       "      <td>-0.325527</td>\n",
       "      <td>0.082472</td>\n",
       "      <td>0.629991</td>\n",
       "      <td>-0.045502</td>\n",
       "      <td>-0.233636</td>\n",
       "      <td>-0.738069</td>\n",
       "      <td>0.720573</td>\n",
       "      <td>...</td>\n",
       "      <td>-0.402532</td>\n",
       "      <td>0.216625</td>\n",
       "      <td>0.037251</td>\n",
       "      <td>-0.271751</td>\n",
       "      <td>0.371983</td>\n",
       "      <td>-0.211234</td>\n",
       "      <td>-0.469016</td>\n",
       "      <td>0.126783</td>\n",
       "      <td>-1.030901</td>\n",
       "      <td>-0.219837</td>\n",
       "    </tr>\n",
       "    <tr>\n",
       "      <th>rope</th>\n",
       "      <td>-0.194221</td>\n",
       "      <td>0.404943</td>\n",
       "      <td>0.456506</td>\n",
       "      <td>1.566476</td>\n",
       "      <td>0.608982</td>\n",
       "      <td>-0.165681</td>\n",
       "      <td>0.101460</td>\n",
       "      <td>0.243865</td>\n",
       "      <td>-0.371924</td>\n",
       "      <td>-0.137304</td>\n",
       "      <td>...</td>\n",
       "      <td>-0.447617</td>\n",
       "      <td>-0.002306</td>\n",
       "      <td>-0.222654</td>\n",
       "      <td>-0.527519</td>\n",
       "      <td>0.343860</td>\n",
       "      <td>-0.207709</td>\n",
       "      <td>-0.494058</td>\n",
       "      <td>-1.052127</td>\n",
       "      <td>-0.821473</td>\n",
       "      <td>-0.119269</td>\n",
       "    </tr>\n",
       "    <tr>\n",
       "      <th>an_intestinal_overgrowth</th>\n",
       "      <td>-0.238418</td>\n",
       "      <td>0.164938</td>\n",
       "      <td>-0.127787</td>\n",
       "      <td>-0.495216</td>\n",
       "      <td>-0.585488</td>\n",
       "      <td>0.882389</td>\n",
       "      <td>-0.110022</td>\n",
       "      <td>-0.183745</td>\n",
       "      <td>0.140242</td>\n",
       "      <td>0.219921</td>\n",
       "      <td>...</td>\n",
       "      <td>-0.082567</td>\n",
       "      <td>0.454462</td>\n",
       "      <td>-0.015244</td>\n",
       "      <td>-0.180688</td>\n",
       "      <td>1.209564</td>\n",
       "      <td>0.139542</td>\n",
       "      <td>-0.616158</td>\n",
       "      <td>-0.308763</td>\n",
       "      <td>-0.305312</td>\n",
       "      <td>-0.171400</td>\n",
       "    </tr>\n",
       "  </tbody>\n",
       "</table>\n",
       "<p>5 rows × 100 columns</p>\n",
       "</div>"
      ],
      "text/plain": [
       "                                0         1         2         3         4   \\\n",
       "nori                      0.681589  0.086686  0.237987  0.628737 -0.286396   \n",
       "read_elsewhere            0.499326  0.662274 -0.624381 -0.966111 -0.090979   \n",
       "rectal_itch              -0.146520  1.186770 -0.712997 -0.325527  0.082472   \n",
       "rope                     -0.194221  0.404943  0.456506  1.566476  0.608982   \n",
       "an_intestinal_overgrowth -0.238418  0.164938 -0.127787 -0.495216 -0.585488   \n",
       "\n",
       "                                5         6         7         8         9   \\\n",
       "nori                      0.799993 -0.451227  0.068365 -0.874252 -0.267618   \n",
       "read_elsewhere            0.385780  0.060170 -0.100796  0.475549 -0.234469   \n",
       "rectal_itch               0.629991 -0.045502 -0.233636 -0.738069  0.720573   \n",
       "rope                     -0.165681  0.101460  0.243865 -0.371924 -0.137304   \n",
       "an_intestinal_overgrowth  0.882389 -0.110022 -0.183745  0.140242  0.219921   \n",
       "\n",
       "                            ...           90        91        92        93  \\\n",
       "nori                        ...    -0.492964  0.164013 -0.310790  0.293377   \n",
       "read_elsewhere              ...    -0.340177  0.203632 -0.516947 -0.121309   \n",
       "rectal_itch                 ...    -0.402532  0.216625  0.037251 -0.271751   \n",
       "rope                        ...    -0.447617 -0.002306 -0.222654 -0.527519   \n",
       "an_intestinal_overgrowth    ...    -0.082567  0.454462 -0.015244 -0.180688   \n",
       "\n",
       "                                94        95        96        97        98  \\\n",
       "nori                     -0.286912 -0.445305 -0.250312  1.029296 -0.805014   \n",
       "read_elsewhere           -0.139134  0.094469  0.448722 -0.230956  0.101692   \n",
       "rectal_itch               0.371983 -0.211234 -0.469016  0.126783 -1.030901   \n",
       "rope                      0.343860 -0.207709 -0.494058 -1.052127 -0.821473   \n",
       "an_intestinal_overgrowth  1.209564  0.139542 -0.616158 -0.308763 -0.305312   \n",
       "\n",
       "                                99  \n",
       "nori                     -0.175689  \n",
       "read_elsewhere            0.763892  \n",
       "rectal_itch              -0.219837  \n",
       "rope                     -0.119269  \n",
       "an_intestinal_overgrowth -0.171400  \n",
       "\n",
       "[5 rows x 100 columns]"
      ]
     },
     "execution_count": 40,
     "metadata": {},
     "output_type": "execute_result"
    }
   ],
   "source": [
    "print(\"matrix shape:\",word_vectors.shape)\n",
    "word_vectors.head()"
   ]
  },
  {
   "cell_type": "markdown",
   "metadata": {},
   "source": [
    "### most similar topics"
   ]
  },
  {
   "cell_type": "code",
   "execution_count": 151,
   "metadata": {
    "collapsed": true
   },
   "outputs": [],
   "source": [
    "def get_related_terms(token, topn=10):\n",
    "    \"\"\"\n",
    "    look up the topn most similar terms to token\n",
    "    and print them as a formatted list\n",
    "    \"\"\"\n",
    "    dic={}\n",
    "    for word, similarity in candi2vec.most_similar(positive=[token], topn=topn):\n",
    "\n",
    "        print(u'{:20} {}'.format(word, round(similarity, 3)))\n",
    "        dic[word]=similarity\n",
    "    dff=pd.DataFrame.from_dict(dic,orient='index')\n",
    "    dff.columns=[': '.join(['similarity with',str(token)])]    \n",
    "    return(dff)"
   ]
  },
  {
   "cell_type": "code",
   "execution_count": 193,
   "metadata": {},
   "outputs": [
    {
     "name": "stdout",
     "output_type": "stream",
     "text": [
      "abx                  0.51\n",
      "round                0.505\n",
      "ppi_’s               0.504\n",
      "flagyl               0.498\n",
      "birth_control        0.486\n",
      "antibiotic           0.474\n",
      "nizoral              0.469\n",
      "tail                 0.462\n",
      "tylenol              0.461\n",
      "diflucan             0.461\n",
      "sinus_infection      0.455\n",
      "dos                  0.446\n",
      "anti_biotic          0.445\n",
      "pill                 0.441\n",
      "inner_ear            0.438\n"
     ]
    },
    {
     "name": "stderr",
     "output_type": "stream",
     "text": [
      "/Users/eran/anaconda3/lib/python3.6/site-packages/ipykernel_launcher.py:7: DeprecationWarning: Call to deprecated `most_similar` (Method will be removed in 4.0.0, use self.wv.most_similar() instead).\n",
      "  import sys\n"
     ]
    }
   ],
   "source": [
    "i=get_related_terms(u'antibiotics',15)"
   ]
  },
  {
   "cell_type": "code",
   "execution_count": 164,
   "metadata": {
    "collapsed": true
   },
   "outputs": [],
   "source": [
    "import seaborn as sns\n",
    "import matplotlib.pyplot as plt\n",
    "%matplotlib inline"
   ]
  },
  {
   "cell_type": "code",
   "execution_count": 227,
   "metadata": {},
   "outputs": [
    {
     "name": "stdout",
     "output_type": "stream",
     "text": [
      "Populating the interactive namespace from numpy and matplotlib\n"
     ]
    },
    {
     "name": "stderr",
     "output_type": "stream",
     "text": [
      "/Users/eran/anaconda3/lib/python3.6/site-packages/IPython/core/magics/pylab.py:160: UserWarning: pylab import has clobbered these variables: ['f', 'ylim']\n",
      "`%matplotlib` prevents importing * from pylab and numpy\n",
      "  \"\\n`%matplotlib` prevents importing * from pylab and numpy\"\n"
     ]
    }
   ],
   "source": [
    "%pylab inline\n",
    "pylab.rcParams['figure.figsize'] = (19, 4)"
   ]
  },
  {
   "cell_type": "code",
   "execution_count": null,
   "metadata": {
    "collapsed": true
   },
   "outputs": [],
   "source": [
    "i['word']=i.index"
   ]
  },
  {
   "cell_type": "code",
   "execution_count": 216,
   "metadata": {},
   "outputs": [
    {
     "data": {
      "text/plain": [
       "[(0.4, 0.55)]"
      ]
     },
     "execution_count": 216,
     "metadata": {},
     "output_type": "execute_result"
    },
    {
     "data": {
      "image/png": "[encoded data removed]",
      "text/plain": [
       "<matplotlib.figure.Figure at 0x1a256e4710>"
      ]
     },
     "metadata": {},
     "output_type": "display_data"
    }
   ],
   "source": [
    "i.columns[0] ## the similarity column\n",
    "g=sns.barplot(x='word',y=i.columns[0],data=i)\n",
    "g.set(ylim=(0.4, 0.55)) ## look at the data 1st to see what is the range"
   ]
  },
  {
   "cell_type": "code",
   "execution_count": 226,
   "metadata": {},
   "outputs": [
    {
     "name": "stdout",
     "output_type": "stream",
     "text": [
      "anti_fungal          0.852\n",
      "natural_antifungal   0.739\n",
      "oregano_oil          0.685\n",
      "caprylic_acid        0.654\n",
      "nystatin             0.648\n",
      "probiotic            0.645\n",
      "gse                  0.638\n",
      "sf722                0.633\n",
      "grapefruit_seed_extract 0.592\n",
      "diflucan             0.592\n",
      "coconut_oil          0.577\n",
      "natural_anti_fungal  0.575\n"
     ]
    },
    {
     "name": "stderr",
     "output_type": "stream",
     "text": [
      "/Users/eran/anaconda3/lib/python3.6/site-packages/ipykernel_launcher.py:7: DeprecationWarning: Call to deprecated `most_similar` (Method will be removed in 4.0.0, use self.wv.most_similar() instead).\n",
      "  import sys\n"
     ]
    }
   ],
   "source": [
    "fung=get_related_terms(u'antifungal',12)\n",
    "# fung.describe()['min']"
   ]
  },
  {
   "cell_type": "code",
   "execution_count": 228,
   "metadata": {},
   "outputs": [
    {
     "data": {
      "text/plain": [
       "[(0.5, 0.9)]"
      ]
     },
     "execution_count": 228,
     "metadata": {},
     "output_type": "execute_result"
    },
    {
     "data": {
      "image/png": "[encoded data removed]",
      "text/plain": [
       "<matplotlib.figure.Figure at 0x1a2acc9a20>"
      ]
     },
     "metadata": {},
     "output_type": "display_data"
    }
   ],
   "source": [
    "fung['word']=fung.index\n",
    "fung.columns[0] ## the similarity column\n",
    "f=sns.barplot(x='word',y=fung.columns[0],data=fung)\n",
    "f.set(ylim=(0.5, 0.9)) ## look at the data 1st to see what is the range"
   ]
  },
  {
   "cell_type": "code",
   "execution_count": 244,
   "metadata": {},
   "outputs": [
    {
     "name": "stdout",
     "output_type": "stream",
     "text": [
      "dry_cough            0.535\n",
      "gout                 0.525\n",
      "ic                   0.516\n",
      "chest_infection      0.516\n",
      "bladder              0.514\n",
      "crohn_’s_disease     0.508\n",
      "chronic_fatigue_syndrome 0.506\n",
      "ulcerative_colitis   0.498\n",
      "asthma               0.498\n",
      "fibromyalgia         0.491\n"
     ]
    },
    {
     "name": "stderr",
     "output_type": "stream",
     "text": [
      "/Users/eran/anaconda3/lib/python3.6/site-packages/ipykernel_launcher.py:7: DeprecationWarning: Call to deprecated `most_similar` (Method will be removed in 4.0.0, use self.wv.most_similar() instead).\n",
      "  import sys\n"
     ]
    },
    {
     "data": {
      "text/html": [
       "<div>\n",
       "<style>\n",
       "    .dataframe thead tr:only-child th {\n",
       "        text-align: right;\n",
       "    }\n",
       "\n",
       "    .dataframe thead th {\n",
       "        text-align: left;\n",
       "    }\n",
       "\n",
       "    .dataframe tbody tr th {\n",
       "        vertical-align: top;\n",
       "    }\n",
       "</style>\n",
       "<table border=\"1\" class=\"dataframe\">\n",
       "  <thead>\n",
       "    <tr style=\"text-align: right;\">\n",
       "      <th></th>\n",
       "      <th>similarity with: interstitial_cystitis</th>\n",
       "    </tr>\n",
       "  </thead>\n",
       "  <tbody>\n",
       "    <tr>\n",
       "      <th>dry_cough</th>\n",
       "      <td>0.535267</td>\n",
       "    </tr>\n",
       "    <tr>\n",
       "      <th>gout</th>\n",
       "      <td>0.524657</td>\n",
       "    </tr>\n",
       "    <tr>\n",
       "      <th>ic</th>\n",
       "      <td>0.516067</td>\n",
       "    </tr>\n",
       "    <tr>\n",
       "      <th>chest_infection</th>\n",
       "      <td>0.515547</td>\n",
       "    </tr>\n",
       "    <tr>\n",
       "      <th>bladder</th>\n",
       "      <td>0.513995</td>\n",
       "    </tr>\n",
       "    <tr>\n",
       "      <th>crohn_’s_disease</th>\n",
       "      <td>0.508149</td>\n",
       "    </tr>\n",
       "    <tr>\n",
       "      <th>chronic_fatigue_syndrome</th>\n",
       "      <td>0.505920</td>\n",
       "    </tr>\n",
       "    <tr>\n",
       "      <th>ulcerative_colitis</th>\n",
       "      <td>0.498289</td>\n",
       "    </tr>\n",
       "    <tr>\n",
       "      <th>asthma</th>\n",
       "      <td>0.498130</td>\n",
       "    </tr>\n",
       "    <tr>\n",
       "      <th>fibromyalgia</th>\n",
       "      <td>0.490910</td>\n",
       "    </tr>\n",
       "  </tbody>\n",
       "</table>\n",
       "</div>"
      ],
      "text/plain": [
       "                          similarity with: interstitial_cystitis\n",
       "dry_cough                                               0.535267\n",
       "gout                                                    0.524657\n",
       "ic                                                      0.516067\n",
       "chest_infection                                         0.515547\n",
       "bladder                                                 0.513995\n",
       "crohn_’s_disease                                        0.508149\n",
       "chronic_fatigue_syndrome                                0.505920\n",
       "ulcerative_colitis                                      0.498289\n",
       "asthma                                                  0.498130\n",
       "fibromyalgia                                            0.490910"
      ]
     },
     "execution_count": 244,
     "metadata": {},
     "output_type": "execute_result"
    }
   ],
   "source": [
    "get_related_terms(u'interstitial_cystitis')"
   ]
  },
  {
   "cell_type": "code",
   "execution_count": 43,
   "metadata": {},
   "outputs": [
    {
     "name": "stdout",
     "output_type": "stream",
     "text": [
      "ache                 0.762\n",
      "discomfort           0.753\n",
      "cramp                0.711\n",
      "muscle_pain          0.703\n",
      "bladder              0.672\n",
      "neck                 0.669\n",
      "chest                0.669\n",
      "nausea               0.668\n",
      "irritation           0.664\n",
      "joint_pain           0.664\n"
     ]
    },
    {
     "name": "stderr",
     "output_type": "stream",
     "text": [
      "/Users/eran/anaconda3/lib/python3.6/site-packages/ipykernel_launcher.py:7: DeprecationWarning: Call to deprecated `most_similar` (Method will be removed in 4.0.0, use self.wv.most_similar() instead).\n",
      "  import sys\n"
     ]
    }
   ],
   "source": [
    "get_related_terms(u'pain')"
   ]
  },
  {
   "cell_type": "code",
   "execution_count": 240,
   "metadata": {},
   "outputs": [
    {
     "name": "stdout",
     "output_type": "stream",
     "text": [
      "levaquin             0.725\n",
      "antibiotic           0.679\n",
      "diflucan             0.648\n",
      "flagyl               0.626\n",
      "anti_biotic          0.598\n",
      "amoxicillin          0.563\n",
      "prednisone           0.555\n",
      "nexium               0.551\n",
      "ppi                  0.525\n",
      "steroid              0.522\n"
     ]
    },
    {
     "name": "stderr",
     "output_type": "stream",
     "text": [
      "/Users/eran/anaconda3/lib/python3.6/site-packages/ipykernel_launcher.py:7: DeprecationWarning: Call to deprecated `most_similar` (Method will be removed in 4.0.0, use self.wv.most_similar() instead).\n",
      "  import sys\n"
     ]
    },
    {
     "data": {
      "text/html": [
       "<div>\n",
       "<style>\n",
       "    .dataframe thead tr:only-child th {\n",
       "        text-align: right;\n",
       "    }\n",
       "\n",
       "    .dataframe thead th {\n",
       "        text-align: left;\n",
       "    }\n",
       "\n",
       "    .dataframe tbody tr th {\n",
       "        vertical-align: top;\n",
       "    }\n",
       "</style>\n",
       "<table border=\"1\" class=\"dataframe\">\n",
       "  <thead>\n",
       "    <tr style=\"text-align: right;\">\n",
       "      <th></th>\n",
       "      <th>similarity with: cipro</th>\n",
       "    </tr>\n",
       "  </thead>\n",
       "  <tbody>\n",
       "    <tr>\n",
       "      <th>levaquin</th>\n",
       "      <td>0.725394</td>\n",
       "    </tr>\n",
       "    <tr>\n",
       "      <th>antibiotic</th>\n",
       "      <td>0.679248</td>\n",
       "    </tr>\n",
       "    <tr>\n",
       "      <th>diflucan</th>\n",
       "      <td>0.647980</td>\n",
       "    </tr>\n",
       "    <tr>\n",
       "      <th>flagyl</th>\n",
       "      <td>0.625898</td>\n",
       "    </tr>\n",
       "    <tr>\n",
       "      <th>anti_biotic</th>\n",
       "      <td>0.597832</td>\n",
       "    </tr>\n",
       "    <tr>\n",
       "      <th>amoxicillin</th>\n",
       "      <td>0.563250</td>\n",
       "    </tr>\n",
       "    <tr>\n",
       "      <th>prednisone</th>\n",
       "      <td>0.555032</td>\n",
       "    </tr>\n",
       "    <tr>\n",
       "      <th>nexium</th>\n",
       "      <td>0.551271</td>\n",
       "    </tr>\n",
       "    <tr>\n",
       "      <th>ppi</th>\n",
       "      <td>0.524827</td>\n",
       "    </tr>\n",
       "    <tr>\n",
       "      <th>steroid</th>\n",
       "      <td>0.522301</td>\n",
       "    </tr>\n",
       "  </tbody>\n",
       "</table>\n",
       "</div>"
      ],
      "text/plain": [
       "             similarity with: cipro\n",
       "levaquin                   0.725394\n",
       "antibiotic                 0.679248\n",
       "diflucan                   0.647980\n",
       "flagyl                     0.625898\n",
       "anti_biotic                0.597832\n",
       "amoxicillin                0.563250\n",
       "prednisone                 0.555032\n",
       "nexium                     0.551271\n",
       "ppi                        0.524827\n",
       "steroid                    0.522301"
      ]
     },
     "execution_count": 240,
     "metadata": {},
     "output_type": "execute_result"
    }
   ],
   "source": [
    "get_related_terms(u'cipro')"
   ]
  },
  {
   "cell_type": "markdown",
   "metadata": {},
   "source": [
    "### word algebra"
   ]
  },
  {
   "cell_type": "markdown",
   "metadata": {},
   "source": [
    "### (+)"
   ]
  },
  {
   "cell_type": "code",
   "execution_count": 52,
   "metadata": {},
   "outputs": [],
   "source": [
    "def word_algebra(add=[], subtract=[], topn=3):\n",
    "    \"\"\"\n",
    "    combine the vectors associated with the words provided\n",
    "    in add= and subtract=, look up the topn most similar\n",
    "    terms to the combined vector, and print the result(s)\n",
    "    \"\"\"\n",
    "    answers = candi2vec.most_similar(positive=add, negative=subtract, topn=topn)\n",
    "    \n",
    "    for term, similarity in answers:\n",
    "        print(term)"
   ]
  },
  {
   "cell_type": "markdown",
   "metadata": {},
   "source": [
    "candida symptoms:\n",
    "    \n",
    "    candida + symptom = ?"
   ]
  },
  {
   "cell_type": "code",
   "execution_count": 70,
   "metadata": {},
   "outputs": [
    {
     "name": "stdout",
     "output_type": "stream",
     "text": [
      "candida_overgrowth\n",
      "oral_thrush\n",
      "yeast_infection\n",
      "brain_fog\n",
      "infestation\n",
      "thrush\n",
      "die_off_symptom\n",
      "fatigue\n",
      "candidiasis\n",
      "infection\n"
     ]
    },
    {
     "name": "stderr",
     "output_type": "stream",
     "text": [
      "/Users/eran/anaconda3/lib/python3.6/site-packages/ipykernel_launcher.py:7: DeprecationWarning: Call to deprecated `most_similar` (Method will be removed in 4.0.0, use self.wv.most_similar() instead).\n",
      "  import sys\n"
     ]
    }
   ],
   "source": [
    "word_algebra(add=[u'symptom',u'candida'],topn=10)"
   ]
  },
  {
   "cell_type": "code",
   "execution_count": 71,
   "metadata": {},
   "outputs": [
    {
     "name": "stdout",
     "output_type": "stream",
     "text": [
      "anti_fungal\n",
      "die_off_symptom\n",
      "sympton\n",
      "diflucan\n",
      "natural_antifungal\n",
      "die_off\n",
      "side_effect\n",
      "symtom\n",
      "oregano_oil\n",
      "brain_fog\n"
     ]
    },
    {
     "name": "stderr",
     "output_type": "stream",
     "text": [
      "/Users/eran/anaconda3/lib/python3.6/site-packages/ipykernel_launcher.py:7: DeprecationWarning: Call to deprecated `most_similar` (Method will be removed in 4.0.0, use self.wv.most_similar() instead).\n",
      "  import sys\n"
     ]
    }
   ],
   "source": [
    "word_algebra(add=[u'symptom',u'antifungal'],topn=10)"
   ]
  },
  {
   "cell_type": "code",
   "execution_count": 230,
   "metadata": {},
   "outputs": [
    {
     "name": "stdout",
     "output_type": "stream",
     "text": [
      "bloating\n",
      "nausea\n",
      "stomach_pain\n",
      "brain_fog\n",
      "headache\n",
      "pain\n",
      "dizziness\n",
      "fatigue\n",
      "acid_reflux\n",
      "bloat\n"
     ]
    },
    {
     "name": "stderr",
     "output_type": "stream",
     "text": [
      "/Users/eran/anaconda3/lib/python3.6/site-packages/ipykernel_launcher.py:7: DeprecationWarning: Call to deprecated `most_similar` (Method will be removed in 4.0.0, use self.wv.most_similar() instead).\n",
      "  import sys\n"
     ]
    }
   ],
   "source": [
    "word_algebra(add=[u'symptom',u'stomach'],topn=10)"
   ]
  },
  {
   "cell_type": "code",
   "execution_count": 231,
   "metadata": {},
   "outputs": [
    {
     "name": "stdout",
     "output_type": "stream",
     "text": [
      "digestive_problem\n",
      "brain_fog\n",
      "bloating\n",
      "digestive_issue\n",
      "inflammation\n",
      "gas_bloating\n",
      "leaky_gut\n",
      "intestine\n",
      "digestive_tract\n",
      "flora\n"
     ]
    },
    {
     "name": "stderr",
     "output_type": "stream",
     "text": [
      "/Users/eran/anaconda3/lib/python3.6/site-packages/ipykernel_launcher.py:7: DeprecationWarning: Call to deprecated `most_similar` (Method will be removed in 4.0.0, use self.wv.most_similar() instead).\n",
      "  import sys\n"
     ]
    }
   ],
   "source": [
    "word_algebra(add=[u'symptom',u'gut'],topn=10)"
   ]
  },
  {
   "cell_type": "code",
   "execution_count": 241,
   "metadata": {},
   "outputs": [
    {
     "name": "stdout",
     "output_type": "stream",
     "text": [
      "levaquin\n",
      "brain_fog\n",
      "thrush\n",
      "yeast_infection\n",
      "diflucan\n",
      "sinus_infection\n",
      "oral_thrush\n",
      "rash\n",
      "dizziness\n",
      "acne\n",
      "migraine\n",
      "fatigue\n"
     ]
    },
    {
     "name": "stderr",
     "output_type": "stream",
     "text": [
      "/Users/eran/anaconda3/lib/python3.6/site-packages/ipykernel_launcher.py:7: DeprecationWarning: Call to deprecated `most_similar` (Method will be removed in 4.0.0, use self.wv.most_similar() instead).\n",
      "  import sys\n"
     ]
    }
   ],
   "source": [
    "word_algebra(add=['symptom','cipro'],topn=12)"
   ]
  },
  {
   "cell_type": "code",
   "execution_count": 103,
   "metadata": {},
   "outputs": [
    {
     "name": "stdout",
     "output_type": "stream",
     "text": [
      "infestation\n",
      "ailment\n",
      "die_off_symptom\n"
     ]
    },
    {
     "name": "stderr",
     "output_type": "stream",
     "text": [
      "/Users/eran/anaconda3/lib/python3.6/site-packages/ipykernel_launcher.py:7: DeprecationWarning: Call to deprecated `most_similar` (Method will be removed in 4.0.0, use self.wv.most_similar() instead).\n",
      "  import sys\n"
     ]
    }
   ],
   "source": [
    "word_algebra(add=[u'treatment',u'symptom'])"
   ]
  },
  {
   "cell_type": "markdown",
   "metadata": {},
   "source": [
    "### (-)"
   ]
  },
  {
   "cell_type": "markdown",
   "metadata": {},
   "source": [
    "skin is to rash : head is to? \n",
    "    \n",
    "rash - skin + head = ?\n",
    "\n",
    "(didn't work very well.)"
   ]
  },
  {
   "cell_type": "code",
   "execution_count": 66,
   "metadata": {},
   "outputs": [
    {
     "name": "stdout",
     "output_type": "stream",
     "text": [
      "arm\n",
      "elbow\n",
      "neck\n"
     ]
    },
    {
     "name": "stderr",
     "output_type": "stream",
     "text": [
      "/Users/eran/anaconda3/lib/python3.6/site-packages/ipykernel_launcher.py:7: DeprecationWarning: Call to deprecated `most_similar` (Method will be removed in 4.0.0, use self.wv.most_similar() instead).\n",
      "  import sys\n"
     ]
    }
   ],
   "source": [
    "word_algebra(add=[u'rash',u'head'],subtract=[u'skin'])"
   ]
  },
  {
   "cell_type": "code",
   "execution_count": 99,
   "metadata": {},
   "outputs": [
    {
     "name": "stdout",
     "output_type": "stream",
     "text": [
      "pop\n",
      "burn_sensation\n",
      "dull\n"
     ]
    },
    {
     "name": "stderr",
     "output_type": "stream",
     "text": [
      "/Users/eran/anaconda3/lib/python3.6/site-packages/ipykernel_launcher.py:7: DeprecationWarning: Call to deprecated `most_similar` (Method will be removed in 4.0.0, use self.wv.most_similar() instead).\n",
      "  import sys\n"
     ]
    }
   ],
   "source": [
    "word_algebra(add=[u'full',u'stomach'],subtract=[u'skin'])"
   ]
  },
  {
   "cell_type": "markdown",
   "metadata": {},
   "source": [
    "## Word Vector Visualization with t-SNE¶"
   ]
  },
  {
   "cell_type": "markdown",
   "metadata": {},
   "source": [
    "[t-Distributed Stochastic Neighbor Embedding](https://lvdmaaten.github.io/publications/papers/JMLR_2008.pdf), or *t-SNE* for short, is a dimensionality reduction technique to assist with visualizing high-dimensional datasets. It attempts to map high-dimensional data onto a low two- or three-dimensional representation such that the relative distances between points are preserved as closely as possible in both high-dimensional and low-dimensional space.\n",
    "\n",
    "scikit-learn provides a convenient implementation of the t-SNE algorithm with its [TSNE](http://scikit-learn.org/stable/modules/generated/sklearn.manifold.TSNE.html) class."
   ]
  },
  {
   "cell_type": "code",
   "execution_count": 72,
   "metadata": {
    "collapsed": true
   },
   "outputs": [],
   "source": [
    "from sklearn.manifold import TSNE"
   ]
  },
  {
   "cell_type": "code",
   "execution_count": 88,
   "metadata": {
    "collapsed": true
   },
   "outputs": [],
   "source": [
    "import pickle\n",
    "spacy.lang.en.STOP_WORDS.add(\"-PRON-\")\n",
    "spacy.lang.en.STOP_WORDS.add(\"'\")\n",
    "spacy.lang.en.STOP_WORDS.add(\"’\")\n",
    "spacy.lang.en.STOP_WORDS.add(\"-\")\n",
    "\n",
    "tsne_input = word_vectors.drop(spacy.lang.en.STOP_WORDS, errors=u'ignore')\n",
    "tsne_input = tsne_input.head(1000)"
   ]
  },
  {
   "cell_type": "code",
   "execution_count": 89,
   "metadata": {},
   "outputs": [
    {
     "data": {
      "text/html": [
       "<div>\n",
       "<style>\n",
       "    .dataframe thead tr:only-child th {\n",
       "        text-align: right;\n",
       "    }\n",
       "\n",
       "    .dataframe thead th {\n",
       "        text-align: left;\n",
       "    }\n",
       "\n",
       "    .dataframe tbody tr th {\n",
       "        vertical-align: top;\n",
       "    }\n",
       "</style>\n",
       "<table border=\"1\" class=\"dataframe\">\n",
       "  <thead>\n",
       "    <tr style=\"text-align: right;\">\n",
       "      <th></th>\n",
       "      <th>0</th>\n",
       "      <th>1</th>\n",
       "      <th>2</th>\n",
       "      <th>3</th>\n",
       "      <th>4</th>\n",
       "      <th>5</th>\n",
       "      <th>6</th>\n",
       "      <th>7</th>\n",
       "      <th>8</th>\n",
       "      <th>9</th>\n",
       "      <th>...</th>\n",
       "      <th>90</th>\n",
       "      <th>91</th>\n",
       "      <th>92</th>\n",
       "      <th>93</th>\n",
       "      <th>94</th>\n",
       "      <th>95</th>\n",
       "      <th>96</th>\n",
       "      <th>97</th>\n",
       "      <th>98</th>\n",
       "      <th>99</th>\n",
       "    </tr>\n",
       "  </thead>\n",
       "  <tbody>\n",
       "    <tr>\n",
       "      <th>nori</th>\n",
       "      <td>0.681589</td>\n",
       "      <td>0.086686</td>\n",
       "      <td>0.237987</td>\n",
       "      <td>0.628737</td>\n",
       "      <td>-0.286396</td>\n",
       "      <td>0.799993</td>\n",
       "      <td>-0.451227</td>\n",
       "      <td>0.068365</td>\n",
       "      <td>-0.874252</td>\n",
       "      <td>-0.267618</td>\n",
       "      <td>...</td>\n",
       "      <td>-0.492964</td>\n",
       "      <td>0.164013</td>\n",
       "      <td>-0.310790</td>\n",
       "      <td>0.293377</td>\n",
       "      <td>-0.286912</td>\n",
       "      <td>-0.445305</td>\n",
       "      <td>-0.250312</td>\n",
       "      <td>1.029296</td>\n",
       "      <td>-0.805014</td>\n",
       "      <td>-0.175689</td>\n",
       "    </tr>\n",
       "    <tr>\n",
       "      <th>read_elsewhere</th>\n",
       "      <td>0.499326</td>\n",
       "      <td>0.662274</td>\n",
       "      <td>-0.624381</td>\n",
       "      <td>-0.966111</td>\n",
       "      <td>-0.090979</td>\n",
       "      <td>0.385780</td>\n",
       "      <td>0.060170</td>\n",
       "      <td>-0.100796</td>\n",
       "      <td>0.475549</td>\n",
       "      <td>-0.234469</td>\n",
       "      <td>...</td>\n",
       "      <td>-0.340177</td>\n",
       "      <td>0.203632</td>\n",
       "      <td>-0.516947</td>\n",
       "      <td>-0.121309</td>\n",
       "      <td>-0.139134</td>\n",
       "      <td>0.094469</td>\n",
       "      <td>0.448722</td>\n",
       "      <td>-0.230956</td>\n",
       "      <td>0.101692</td>\n",
       "      <td>0.763892</td>\n",
       "    </tr>\n",
       "    <tr>\n",
       "      <th>rectal_itch</th>\n",
       "      <td>-0.146520</td>\n",
       "      <td>1.186770</td>\n",
       "      <td>-0.712997</td>\n",
       "      <td>-0.325527</td>\n",
       "      <td>0.082472</td>\n",
       "      <td>0.629991</td>\n",
       "      <td>-0.045502</td>\n",
       "      <td>-0.233636</td>\n",
       "      <td>-0.738069</td>\n",
       "      <td>0.720573</td>\n",
       "      <td>...</td>\n",
       "      <td>-0.402532</td>\n",
       "      <td>0.216625</td>\n",
       "      <td>0.037251</td>\n",
       "      <td>-0.271751</td>\n",
       "      <td>0.371983</td>\n",
       "      <td>-0.211234</td>\n",
       "      <td>-0.469016</td>\n",
       "      <td>0.126783</td>\n",
       "      <td>-1.030901</td>\n",
       "      <td>-0.219837</td>\n",
       "    </tr>\n",
       "    <tr>\n",
       "      <th>rope</th>\n",
       "      <td>-0.194221</td>\n",
       "      <td>0.404943</td>\n",
       "      <td>0.456506</td>\n",
       "      <td>1.566476</td>\n",
       "      <td>0.608982</td>\n",
       "      <td>-0.165681</td>\n",
       "      <td>0.101460</td>\n",
       "      <td>0.243865</td>\n",
       "      <td>-0.371924</td>\n",
       "      <td>-0.137304</td>\n",
       "      <td>...</td>\n",
       "      <td>-0.447617</td>\n",
       "      <td>-0.002306</td>\n",
       "      <td>-0.222654</td>\n",
       "      <td>-0.527519</td>\n",
       "      <td>0.343860</td>\n",
       "      <td>-0.207709</td>\n",
       "      <td>-0.494058</td>\n",
       "      <td>-1.052127</td>\n",
       "      <td>-0.821473</td>\n",
       "      <td>-0.119269</td>\n",
       "    </tr>\n",
       "    <tr>\n",
       "      <th>an_intestinal_overgrowth</th>\n",
       "      <td>-0.238418</td>\n",
       "      <td>0.164938</td>\n",
       "      <td>-0.127787</td>\n",
       "      <td>-0.495216</td>\n",
       "      <td>-0.585488</td>\n",
       "      <td>0.882389</td>\n",
       "      <td>-0.110022</td>\n",
       "      <td>-0.183745</td>\n",
       "      <td>0.140242</td>\n",
       "      <td>0.219921</td>\n",
       "      <td>...</td>\n",
       "      <td>-0.082567</td>\n",
       "      <td>0.454462</td>\n",
       "      <td>-0.015244</td>\n",
       "      <td>-0.180688</td>\n",
       "      <td>1.209564</td>\n",
       "      <td>0.139542</td>\n",
       "      <td>-0.616158</td>\n",
       "      <td>-0.308763</td>\n",
       "      <td>-0.305312</td>\n",
       "      <td>-0.171400</td>\n",
       "    </tr>\n",
       "  </tbody>\n",
       "</table>\n",
       "<p>5 rows × 100 columns</p>\n",
       "</div>"
      ],
      "text/plain": [
       "                                0         1         2         3         4   \\\n",
       "nori                      0.681589  0.086686  0.237987  0.628737 -0.286396   \n",
       "read_elsewhere            0.499326  0.662274 -0.624381 -0.966111 -0.090979   \n",
       "rectal_itch              -0.146520  1.186770 -0.712997 -0.325527  0.082472   \n",
       "rope                     -0.194221  0.404943  0.456506  1.566476  0.608982   \n",
       "an_intestinal_overgrowth -0.238418  0.164938 -0.127787 -0.495216 -0.585488   \n",
       "\n",
       "                                5         6         7         8         9   \\\n",
       "nori                      0.799993 -0.451227  0.068365 -0.874252 -0.267618   \n",
       "read_elsewhere            0.385780  0.060170 -0.100796  0.475549 -0.234469   \n",
       "rectal_itch               0.629991 -0.045502 -0.233636 -0.738069  0.720573   \n",
       "rope                     -0.165681  0.101460  0.243865 -0.371924 -0.137304   \n",
       "an_intestinal_overgrowth  0.882389 -0.110022 -0.183745  0.140242  0.219921   \n",
       "\n",
       "                            ...           90        91        92        93  \\\n",
       "nori                        ...    -0.492964  0.164013 -0.310790  0.293377   \n",
       "read_elsewhere              ...    -0.340177  0.203632 -0.516947 -0.121309   \n",
       "rectal_itch                 ...    -0.402532  0.216625  0.037251 -0.271751   \n",
       "rope                        ...    -0.447617 -0.002306 -0.222654 -0.527519   \n",
       "an_intestinal_overgrowth    ...    -0.082567  0.454462 -0.015244 -0.180688   \n",
       "\n",
       "                                94        95        96        97        98  \\\n",
       "nori                     -0.286912 -0.445305 -0.250312  1.029296 -0.805014   \n",
       "read_elsewhere           -0.139134  0.094469  0.448722 -0.230956  0.101692   \n",
       "rectal_itch               0.371983 -0.211234 -0.469016  0.126783 -1.030901   \n",
       "rope                      0.343860 -0.207709 -0.494058 -1.052127 -0.821473   \n",
       "an_intestinal_overgrowth  1.209564  0.139542 -0.616158 -0.308763 -0.305312   \n",
       "\n",
       "                                99  \n",
       "nori                     -0.175689  \n",
       "read_elsewhere            0.763892  \n",
       "rectal_itch              -0.219837  \n",
       "rope                     -0.119269  \n",
       "an_intestinal_overgrowth -0.171400  \n",
       "\n",
       "[5 rows x 100 columns]"
      ]
     },
     "execution_count": 89,
     "metadata": {},
     "output_type": "execute_result"
    }
   ],
   "source": [
    "tsne_input.head()"
   ]
  },
  {
   "cell_type": "code",
   "execution_count": 90,
   "metadata": {
    "collapsed": true
   },
   "outputs": [],
   "source": [
    "tsne_filepath = joinp(word_path,u'tsne_model')\n",
    "\n",
    "tsne_vectors_filepath = joinp(word_path,u'tsne_vectors.npy')"
   ]
  },
  {
   "cell_type": "code",
   "execution_count": 91,
   "metadata": {},
   "outputs": [
    {
     "name": "stdout",
     "output_type": "stream",
     "text": [
      "CPU times: user 20.4 s, sys: 2.24 s, total: 22.6 s\n",
      "Wall time: 22.8 s\n"
     ]
    }
   ],
   "source": [
    "%%time\n",
    "\n",
    "if 1 == 1:\n",
    "    \n",
    "    tsne = TSNE()\n",
    "    tsne_vectors = tsne.fit_transform(tsne_input.values)\n",
    "    \n",
    "    #with open(joinp(pilot_path,'ldavis_25'), 'wb') as f:\n",
    "       # pickle.dump(LDAvis_prepared, f)\n",
    "        \n",
    "    with open(tsne_filepath, 'wb') as f:\n",
    "        pickle.dump(tsne, f)\n",
    "\n",
    "    pd.np.save(tsne_vectors_filepath, tsne_vectors)\n",
    "    \n",
    "with codecs.open(tsne_filepath,'rb') as f:\n",
    "    tsne = pickle.load(f)\n",
    "    \n",
    "tsne_vectors = pd.np.load(tsne_vectors_filepath)\n",
    "\n",
    "tsne_vectors = pd.DataFrame(tsne_vectors,\n",
    "                            index=pd.Index(tsne_input.index),\n",
    "                            columns=[u'x_coord', u'y_coord'])"
   ]
  },
  {
   "cell_type": "code",
   "execution_count": 92,
   "metadata": {},
   "outputs": [
    {
     "data": {
      "text/html": [
       "<div>\n",
       "<style>\n",
       "    .dataframe thead tr:only-child th {\n",
       "        text-align: right;\n",
       "    }\n",
       "\n",
       "    .dataframe thead th {\n",
       "        text-align: left;\n",
       "    }\n",
       "\n",
       "    .dataframe tbody tr th {\n",
       "        vertical-align: top;\n",
       "    }\n",
       "</style>\n",
       "<table border=\"1\" class=\"dataframe\">\n",
       "  <thead>\n",
       "    <tr style=\"text-align: right;\">\n",
       "      <th></th>\n",
       "      <th>x_coord</th>\n",
       "      <th>y_coord</th>\n",
       "    </tr>\n",
       "  </thead>\n",
       "  <tbody>\n",
       "    <tr>\n",
       "      <th>nori</th>\n",
       "      <td>5.924352</td>\n",
       "      <td>4.221960</td>\n",
       "    </tr>\n",
       "    <tr>\n",
       "      <th>read_elsewhere</th>\n",
       "      <td>2.629639</td>\n",
       "      <td>1.754719</td>\n",
       "    </tr>\n",
       "    <tr>\n",
       "      <th>rectal_itch</th>\n",
       "      <td>1.362227</td>\n",
       "      <td>-4.988245</td>\n",
       "    </tr>\n",
       "    <tr>\n",
       "      <th>rope</th>\n",
       "      <td>3.371720</td>\n",
       "      <td>-2.830123</td>\n",
       "    </tr>\n",
       "    <tr>\n",
       "      <th>an_intestinal_overgrowth</th>\n",
       "      <td>-2.771406</td>\n",
       "      <td>-3.149047</td>\n",
       "    </tr>\n",
       "  </tbody>\n",
       "</table>\n",
       "</div>"
      ],
      "text/plain": [
       "                           x_coord   y_coord\n",
       "nori                      5.924352  4.221960\n",
       "read_elsewhere            2.629639  1.754719\n",
       "rectal_itch               1.362227 -4.988245\n",
       "rope                      3.371720 -2.830123\n",
       "an_intestinal_overgrowth -2.771406 -3.149047"
      ]
     },
     "execution_count": 92,
     "metadata": {},
     "output_type": "execute_result"
    }
   ],
   "source": [
    "# now we have 2 dimentional space:\n",
    "tsne_vectors.head()"
   ]
  },
  {
   "cell_type": "code",
   "execution_count": 96,
   "metadata": {},
   "outputs": [
    {
     "data": {
      "text/plain": [
       "Index(['nori', 'read_elsewhere', 'rectal_itch', 'rope'], dtype='object')"
      ]
     },
     "execution_count": 96,
     "metadata": {},
     "output_type": "execute_result"
    }
   ],
   "source": [
    "tsne_vectors.index[0:4]"
   ]
  },
  {
   "cell_type": "code",
   "execution_count": 97,
   "metadata": {
    "collapsed": true
   },
   "outputs": [],
   "source": [
    "tsne_vectors[u'word'] = tsne_vectors.index"
   ]
  },
  {
   "cell_type": "markdown",
   "metadata": {},
   "source": [
    "### Plotting with Bokeh"
   ]
  },
  {
   "cell_type": "code",
   "execution_count": 87,
   "metadata": {},
   "outputs": [
    {
     "data": {
      "text/html": [
       "\n",
       "    <div class=\"bk-root\">\n",
       "        <a href=\"https://bokeh.pydata.org\" target=\"_blank\" class=\"bk-logo bk-logo-small bk-logo-notebook\"></a>\n",
       "        <span id=\"dfedafe6-17ea-4d79-8b7b-1a6356c2038b\">Loading BokehJS ...</span>\n",
       "    </div>"
      ]
     },
     "metadata": {},
     "output_type": "display_data"
    },
    {
     "data": {
      "application/javascript": [
       "\n",
       "(function(root) {\n",
       "  function now() {\n",
       "    return new Date();\n",
       "  }\n",
       "\n",
       "  var force = true;\n",
       "\n",
       "  if (typeof (root._bokeh_onload_callbacks) === \"undefined\" || force === true) {\n",
       "    root._bokeh_onload_callbacks = [];\n",
       "    root._bokeh_is_loading = undefined;\n",
       "  }\n",
       "\n",
       "  var JS_MIME_TYPE = 'application/javascript';\n",
       "  var HTML_MIME_TYPE = 'text/html';\n",
       "  var EXEC_MIME_TYPE = 'application/vnd.bokehjs_exec.v0+json';\n",
       "  var CLASS_NAME = 'output_bokeh rendered_html';\n",
       "\n",
       "  /**\n",
       "   * Render data to the DOM node\n",
       "   */\n",
       "  function render(props, node) {\n",
       "    var script = document.createElement(\"script\");\n",
       "    node.appendChild(script);\n",
       "  }\n",
       "\n",
       "  /**\n",
       "   * Handle when an output is cleared or removed\n",
       "   */\n",
       "  function handleClearOutput(event, handle) {\n",
       "    var cell = handle.cell;\n",
       "\n",
       "    var id = cell.output_area._bokeh_element_id;\n",
       "    var server_id = cell.output_area._bokeh_server_id;\n",
       "    // Clean up Bokeh references\n",
       "    if (id !== undefined) {\n",
       "      Bokeh.index[id].model.document.clear();\n",
       "      delete Bokeh.index[id];\n",
       "    }\n",
       "\n",
       "    if (server_id !== undefined) {\n",
       "      // Clean up Bokeh references\n",
       "      var cmd = \"from bokeh.io.state import curstate; print(curstate().uuid_to_server['\" + server_id + \"'].get_sessions()[0].document.roots[0]._id)\";\n",
       "      cell.notebook.kernel.execute(cmd, {\n",
       "        iopub: {\n",
       "          output: function(msg) {\n",
       "            var element_id = msg.content.text.trim();\n",
       "            Bokeh.index[element_id].model.document.clear();\n",
       "            delete Bokeh.index[element_id];\n",
       "          }\n",
       "        }\n",
       "      });\n",
       "      // Destroy server and session\n",
       "      var cmd = \"import bokeh.io.notebook as ion; ion.destroy_server('\" + server_id + \"')\";\n",
       "      cell.notebook.kernel.execute(cmd);\n",
       "    }\n",
       "  }\n",
       "\n",
       "  /**\n",
       "   * Handle when a new output is added\n",
       "   */\n",
       "  function handleAddOutput(event, handle) {\n",
       "    var output_area = handle.output_area;\n",
       "    var output = handle.output;\n",
       "\n",
       "    // limit handleAddOutput to display_data with EXEC_MIME_TYPE content only\n",
       "    if ((output.output_type != \"display_data\") || (!output.data.hasOwnProperty(EXEC_MIME_TYPE))) {\n",
       "      return\n",
       "    }\n",
       "\n",
       "    var toinsert = output_area.element.find(`.${CLASS_NAME.split(' ')[0]}`);\n",
       "\n",
       "    if (output.metadata[EXEC_MIME_TYPE][\"id\"] !== undefined) {\n",
       "      toinsert[0].firstChild.textContent = output.data[JS_MIME_TYPE];\n",
       "      // store reference to embed id on output_area\n",
       "      output_area._bokeh_element_id = output.metadata[EXEC_MIME_TYPE][\"id\"];\n",
       "    }\n",
       "    if (output.metadata[EXEC_MIME_TYPE][\"server_id\"] !== undefined) {\n",
       "      var bk_div = document.createElement(\"div\");\n",
       "      bk_div.innerHTML = output.data[HTML_MIME_TYPE];\n",
       "      var script_attrs = bk_div.children[0].attributes;\n",
       "      for (var i = 0; i < script_attrs.length; i++) {\n",
       "        toinsert[0].firstChild.setAttribute(script_attrs[i].name, script_attrs[i].value);\n",
       "      }\n",
       "      // store reference to server id on output_area\n",
       "      output_area._bokeh_server_id = output.metadata[EXEC_MIME_TYPE][\"server_id\"];\n",
       "    }\n",
       "  }\n",
       "\n",
       "  function register_renderer(events, OutputArea) {\n",
       "\n",
       "    function append_mime(data, metadata, element) {\n",
       "      // create a DOM node to render to\n",
       "      var toinsert = this.create_output_subarea(\n",
       "        metadata,\n",
       "        CLASS_NAME,\n",
       "        EXEC_MIME_TYPE\n",
       "      );\n",
       "      this.keyboard_manager.register_events(toinsert);\n",
       "      // Render to node\n",
       "      var props = {data: data, metadata: metadata[EXEC_MIME_TYPE]};\n",
       "      render(props, toinsert[0]);\n",
       "      element.append(toinsert);\n",
       "      return toinsert\n",
       "    }\n",
       "\n",
       "    /* Handle when an output is cleared or removed */\n",
       "    events.on('clear_output.CodeCell', handleClearOutput);\n",
       "    events.on('delete.Cell', handleClearOutput);\n",
       "\n",
       "    /* Handle when a new output is added */\n",
       "    events.on('output_added.OutputArea', handleAddOutput);\n",
       "\n",
       "    /**\n",
       "     * Register the mime type and append_mime function with output_area\n",
       "     */\n",
       "    OutputArea.prototype.register_mime_type(EXEC_MIME_TYPE, append_mime, {\n",
       "      /* Is output safe? */\n",
       "      safe: true,\n",
       "      /* Index of renderer in `output_area.display_order` */\n",
       "      index: 0\n",
       "    });\n",
       "  }\n",
       "\n",
       "  // register the mime type if in Jupyter Notebook environment and previously unregistered\n",
       "  if (root.Jupyter !== undefined) {\n",
       "    var events = require('base/js/events');\n",
       "    var OutputArea = require('notebook/js/outputarea').OutputArea;\n",
       "\n",
       "    if (OutputArea.prototype.mime_types().indexOf(EXEC_MIME_TYPE) == -1) {\n",
       "      register_renderer(events, OutputArea);\n",
       "    }\n",
       "  }\n",
       "\n",
       "  \n",
       "  if (typeof (root._bokeh_timeout) === \"undefined\" || force === true) {\n",
       "    root._bokeh_timeout = Date.now() + 5000;\n",
       "    root._bokeh_failed_load = false;\n",
       "  }\n",
       "\n",
       "  var NB_LOAD_WARNING = {'data': {'text/html':\n",
       "     \"<div style='background-color: #fdd'>\\n\"+\n",
       "     \"<p>\\n\"+\n",
       "     \"BokehJS does not appear to have successfully loaded. If loading BokehJS from CDN, this \\n\"+\n",
       "     \"may be due to a slow or bad network connection. Possible fixes:\\n\"+\n",
       "     \"</p>\\n\"+\n",
       "     \"<ul>\\n\"+\n",
       "     \"<li>re-rerun `output_notebook()` to attempt to load from CDN again, or</li>\\n\"+\n",
       "     \"<li>use INLINE resources instead, as so:</li>\\n\"+\n",
       "     \"</ul>\\n\"+\n",
       "     \"<code>\\n\"+\n",
       "     \"from bokeh.resources import INLINE\\n\"+\n",
       "     \"output_notebook(resources=INLINE)\\n\"+\n",
       "     \"</code>\\n\"+\n",
       "     \"</div>\"}};\n",
       "\n",
       "  function display_loaded() {\n",
       "    var el = document.getElementById(\"dfedafe6-17ea-4d79-8b7b-1a6356c2038b\");\n",
       "    if (el != null) {\n",
       "      el.textContent = \"BokehJS is loading...\";\n",
       "    }\n",
       "    if (root.Bokeh !== undefined) {\n",
       "      if (el != null) {\n",
       "        el.textContent = \"BokehJS \" + root.Bokeh.version + \" successfully loaded.\";\n",
       "      }\n",
       "    } else if (Date.now() < root._bokeh_timeout) {\n",
       "      setTimeout(display_loaded, 100)\n",
       "    }\n",
       "  }\n",
       "\n",
       "\n",
       "  function run_callbacks() {\n",
       "    try {\n",
       "      root._bokeh_onload_callbacks.forEach(function(callback) { callback() });\n",
       "    }\n",
       "    finally {\n",
       "      delete root._bokeh_onload_callbacks\n",
       "    }\n",
       "    console.info(\"Bokeh: all callbacks have finished\");\n",
       "  }\n",
       "\n",
       "  function load_libs(js_urls, callback) {\n",
       "    root._bokeh_onload_callbacks.push(callback);\n",
       "    if (root._bokeh_is_loading > 0) {\n",
       "      console.log(\"Bokeh: BokehJS is being loaded, scheduling callback at\", now());\n",
       "      return null;\n",
       "    }\n",
       "    if (js_urls == null || js_urls.length === 0) {\n",
       "      run_callbacks();\n",
       "      return null;\n",
       "    }\n",
       "    console.log(\"Bokeh: BokehJS not loaded, scheduling load and callback at\", now());\n",
       "    root._bokeh_is_loading = js_urls.length;\n",
       "    for (var i = 0; i < js_urls.length; i++) {\n",
       "      var url = js_urls[i];\n",
       "      var s = document.createElement('script');\n",
       "      s.src = url;\n",
       "      s.async = false;\n",
       "      s.onreadystatechange = s.onload = function() {\n",
       "        root._bokeh_is_loading--;\n",
       "        if (root._bokeh_is_loading === 0) {\n",
       "          console.log(\"Bokeh: all BokehJS libraries loaded\");\n",
       "          run_callbacks()\n",
       "        }\n",
       "      };\n",
       "      s.onerror = function() {\n",
       "        console.warn(\"failed to load library \" + url);\n",
       "      };\n",
       "      console.log(\"Bokeh: injecting script tag for BokehJS library: \", url);\n",
       "      document.getElementsByTagName(\"head\")[0].appendChild(s);\n",
       "    }\n",
       "  };var element = document.getElementById(\"dfedafe6-17ea-4d79-8b7b-1a6356c2038b\");\n",
       "  if (element == null) {\n",
       "    console.log(\"Bokeh: ERROR: autoload.js configured with elementid 'dfedafe6-17ea-4d79-8b7b-1a6356c2038b' but no matching script tag was found. \")\n",
       "    return false;\n",
       "  }\n",
       "\n",
       "  var js_urls = [\"https://cdn.pydata.org/bokeh/release/bokeh-0.12.10.min.js\", \"https://cdn.pydata.org/bokeh/release/bokeh-widgets-0.12.10.min.js\", \"https://cdn.pydata.org/bokeh/release/bokeh-tables-0.12.10.min.js\", \"https://cdn.pydata.org/bokeh/release/bokeh-gl-0.12.10.min.js\"];\n",
       "\n",
       "  var inline_js = [\n",
       "    function(Bokeh) {\n",
       "      Bokeh.set_log_level(\"info\");\n",
       "    },\n",
       "    \n",
       "    function(Bokeh) {\n",
       "      \n",
       "    },\n",
       "    function(Bokeh) {\n",
       "      console.log(\"Bokeh: injecting CSS: https://cdn.pydata.org/bokeh/release/bokeh-0.12.10.min.css\");\n",
       "      Bokeh.embed.inject_css(\"https://cdn.pydata.org/bokeh/release/bokeh-0.12.10.min.css\");\n",
       "      console.log(\"Bokeh: injecting CSS: https://cdn.pydata.org/bokeh/release/bokeh-widgets-0.12.10.min.css\");\n",
       "      Bokeh.embed.inject_css(\"https://cdn.pydata.org/bokeh/release/bokeh-widgets-0.12.10.min.css\");\n",
       "      console.log(\"Bokeh: injecting CSS: https://cdn.pydata.org/bokeh/release/bokeh-tables-0.12.10.min.css\");\n",
       "      Bokeh.embed.inject_css(\"https://cdn.pydata.org/bokeh/release/bokeh-tables-0.12.10.min.css\");\n",
       "    }\n",
       "  ];\n",
       "\n",
       "  function run_inline_js() {\n",
       "    \n",
       "    if ((root.Bokeh !== undefined) || (force === true)) {\n",
       "      for (var i = 0; i < inline_js.length; i++) {\n",
       "        inline_js[i].call(root, root.Bokeh);\n",
       "      }if (force === true) {\n",
       "        display_loaded();\n",
       "      }} else if (Date.now() < root._bokeh_timeout) {\n",
       "      setTimeout(run_inline_js, 100);\n",
       "    } else if (!root._bokeh_failed_load) {\n",
       "      console.log(\"Bokeh: BokehJS failed to load within specified timeout.\");\n",
       "      root._bokeh_failed_load = true;\n",
       "    } else if (force !== true) {\n",
       "      var cell = $(document.getElementById(\"dfedafe6-17ea-4d79-8b7b-1a6356c2038b\")).parents('.cell').data().cell;\n",
       "      cell.output_area.append_execute_result(NB_LOAD_WARNING)\n",
       "    }\n",
       "\n",
       "  }\n",
       "\n",
       "  if (root._bokeh_is_loading === 0) {\n",
       "    console.log(\"Bokeh: BokehJS loaded, going straight to plotting\");\n",
       "    run_inline_js();\n",
       "  } else {\n",
       "    load_libs(js_urls, function() {\n",
       "      console.log(\"Bokeh: BokehJS plotting callback run at\", now());\n",
       "      run_inline_js();\n",
       "    });\n",
       "  }\n",
       "}(window));"
      ],
      "application/vnd.bokehjs_load.v0+json": "\n(function(root) {\n  function now() {\n    return new Date();\n  }\n\n  var force = true;\n\n  if (typeof (root._bokeh_onload_callbacks) === \"undefined\" || force === true) {\n    root._bokeh_onload_callbacks = [];\n    root._bokeh_is_loading = undefined;\n  }\n\n  \n\n  \n  if (typeof (root._bokeh_timeout) === \"undefined\" || force === true) {\n    root._bokeh_timeout = Date.now() + 5000;\n    root._bokeh_failed_load = false;\n  }\n\n  var NB_LOAD_WARNING = {'data': {'text/html':\n     \"<div style='background-color: #fdd'>\\n\"+\n     \"<p>\\n\"+\n     \"BokehJS does not appear to have successfully loaded. If loading BokehJS from CDN, this \\n\"+\n     \"may be due to a slow or bad network connection. Possible fixes:\\n\"+\n     \"</p>\\n\"+\n     \"<ul>\\n\"+\n     \"<li>re-rerun `output_notebook()` to attempt to load from CDN again, or</li>\\n\"+\n     \"<li>use INLINE resources instead, as so:</li>\\n\"+\n     \"</ul>\\n\"+\n     \"<code>\\n\"+\n     \"from bokeh.resources import INLINE\\n\"+\n     \"output_notebook(resources=INLINE)\\n\"+\n     \"</code>\\n\"+\n     \"</div>\"}};\n\n  function display_loaded() {\n    var el = document.getElementById(\"dfedafe6-17ea-4d79-8b7b-1a6356c2038b\");\n    if (el != null) {\n      el.textContent = \"BokehJS is loading...\";\n    }\n    if (root.Bokeh !== undefined) {\n      if (el != null) {\n        el.textContent = \"BokehJS \" + root.Bokeh.version + \" successfully loaded.\";\n      }\n    } else if (Date.now() < root._bokeh_timeout) {\n      setTimeout(display_loaded, 100)\n    }\n  }\n\n\n  function run_callbacks() {\n    try {\n      root._bokeh_onload_callbacks.forEach(function(callback) { callback() });\n    }\n    finally {\n      delete root._bokeh_onload_callbacks\n    }\n    console.info(\"Bokeh: all callbacks have finished\");\n  }\n\n  function load_libs(js_urls, callback) {\n    root._bokeh_onload_callbacks.push(callback);\n    if (root._bokeh_is_loading > 0) {\n      console.log(\"Bokeh: BokehJS is being loaded, scheduling callback at\", now());\n      return null;\n    }\n    if (js_urls == null || js_urls.length === 0) {\n      run_callbacks();\n      return null;\n    }\n    console.log(\"Bokeh: BokehJS not loaded, scheduling load and callback at\", now());\n    root._bokeh_is_loading = js_urls.length;\n    for (var i = 0; i < js_urls.length; i++) {\n      var url = js_urls[i];\n      var s = document.createElement('script');\n      s.src = url;\n      s.async = false;\n      s.onreadystatechange = s.onload = function() {\n        root._bokeh_is_loading--;\n        if (root._bokeh_is_loading === 0) {\n          console.log(\"Bokeh: all BokehJS libraries loaded\");\n          run_callbacks()\n        }\n      };\n      s.onerror = function() {\n        console.warn(\"failed to load library \" + url);\n      };\n      console.log(\"Bokeh: injecting script tag for BokehJS library: \", url);\n      document.getElementsByTagName(\"head\")[0].appendChild(s);\n    }\n  };var element = document.getElementById(\"dfedafe6-17ea-4d79-8b7b-1a6356c2038b\");\n  if (element == null) {\n    console.log(\"Bokeh: ERROR: autoload.js configured with elementid 'dfedafe6-17ea-4d79-8b7b-1a6356c2038b' but no matching script tag was found. \")\n    return false;\n  }\n\n  var js_urls = [\"https://cdn.pydata.org/bokeh/release/bokeh-0.12.10.min.js\", \"https://cdn.pydata.org/bokeh/release/bokeh-widgets-0.12.10.min.js\", \"https://cdn.pydata.org/bokeh/release/bokeh-tables-0.12.10.min.js\", \"https://cdn.pydata.org/bokeh/release/bokeh-gl-0.12.10.min.js\"];\n\n  var inline_js = [\n    function(Bokeh) {\n      Bokeh.set_log_level(\"info\");\n    },\n    \n    function(Bokeh) {\n      \n    },\n    function(Bokeh) {\n      console.log(\"Bokeh: injecting CSS: https://cdn.pydata.org/bokeh/release/bokeh-0.12.10.min.css\");\n      Bokeh.embed.inject_css(\"https://cdn.pydata.org/bokeh/release/bokeh-0.12.10.min.css\");\n      console.log(\"Bokeh: injecting CSS: https://cdn.pydata.org/bokeh/release/bokeh-widgets-0.12.10.min.css\");\n      Bokeh.embed.inject_css(\"https://cdn.pydata.org/bokeh/release/bokeh-widgets-0.12.10.min.css\");\n      console.log(\"Bokeh: injecting CSS: https://cdn.pydata.org/bokeh/release/bokeh-tables-0.12.10.min.css\");\n      Bokeh.embed.inject_css(\"https://cdn.pydata.org/bokeh/release/bokeh-tables-0.12.10.min.css\");\n    }\n  ];\n\n  function run_inline_js() {\n    \n    if ((root.Bokeh !== undefined) || (force === true)) {\n      for (var i = 0; i < inline_js.length; i++) {\n        inline_js[i].call(root, root.Bokeh);\n      }if (force === true) {\n        display_loaded();\n      }} else if (Date.now() < root._bokeh_timeout) {\n      setTimeout(run_inline_js, 100);\n    } else if (!root._bokeh_failed_load) {\n      console.log(\"Bokeh: BokehJS failed to load within specified timeout.\");\n      root._bokeh_failed_load = true;\n    } else if (force !== true) {\n      var cell = $(document.getElementById(\"dfedafe6-17ea-4d79-8b7b-1a6356c2038b\")).parents('.cell').data().cell;\n      cell.output_area.append_execute_result(NB_LOAD_WARNING)\n    }\n\n  }\n\n  if (root._bokeh_is_loading === 0) {\n    console.log(\"Bokeh: BokehJS loaded, going straight to plotting\");\n    run_inline_js();\n  } else {\n    load_libs(js_urls, function() {\n      console.log(\"Bokeh: BokehJS plotting callback run at\", now());\n      run_inline_js();\n    });\n  }\n}(window));"
     },
     "metadata": {},
     "output_type": "display_data"
    }
   ],
   "source": [
    "from bokeh.plotting import figure, show, output_notebook\n",
    "from bokeh.models import HoverTool, ColumnDataSource, value\n",
    "\n",
    "output_notebook()"
   ]
  },
  {
   "cell_type": "code",
   "execution_count": 98,
   "metadata": {},
   "outputs": [
    {
     "data": {
      "text/html": [
       "\n",
       "<div class=\"bk-root\">\n",
       "    <div class=\"bk-plotdiv\" id=\"7eb6d4ff-36ef-414c-b389-a362f7e5b12c\"></div>\n",
       "</div>"
      ]
     },
     "metadata": {},
     "output_type": "display_data"
    },
    {
     "data": {
      "application/javascript": [
       "(function(root) {\n",
       "  function embed_document(root) {\n",
       "    var docs_json = {\"c99d64ad-d2a0-44fc-ac55-448337cf9954\":{\"roots\":{\"references\":[{\"attributes\":{\"data_source\":{\"id\":\"4996a942-9063-447b-b47d-98aa4d933dad\",\"type\":\"ColumnDataSource\"},\"glyph\":{\"id\":\"fd294405-e2c6-40f7-876e-45c4eb814a88\",\"type\":\"Circle\"},\"hover_glyph\":{\"id\":\"e5bba367-a925-4a7e-88ae-d2d767e4782e\",\"type\":\"Circle\"},\"muted_glyph\":null,\"nonselection_glyph\":{\"id\":\"83a5887f-097c-44bd-ada8-974b7a6b5eb7\",\"type\":\"Circle\"},\"selection_glyph\":null,\"view\":{\"id\":\"41f0fad0-c9c4-4450-9fc2-fb1c137f0f2b\",\"type\":\"CDSView\"}},\"id\":\"a1cb2e0c-9b18-43ce-aa8f-2a45e15ce001\",\"type\":\"GlyphRenderer\"},{\"attributes\":{\"source\":{\"id\":\"4996a942-9063-447b-b47d-98aa4d933dad\",\"type\":\"ColumnDataSource\"}},\"id\":\"41f0fad0-c9c4-4450-9fc2-fb1c137f0f2b\",\"type\":\"CDSView\"},{\"attributes\":{},\"id\":\"7cf627e4-c656-44e9-8cef-579ee7fc73db\",\"type\":\"WheelZoomTool\"},{\"attributes\":{\"callback\":null},\"id\":\"e99d9b30-86fa-4b6e-9cff-396c6b8a48eb\",\"type\":\"DataRange1d\"},{\"attributes\":{},\"id\":\"4af07a41-3714-4380-a7ec-be2dd6358216\",\"type\":\"BasicTickFormatter\"},{\"attributes\":{\"formatter\":{\"id\":\"4af07a41-3714-4380-a7ec-be2dd6358216\",\"type\":\"BasicTickFormatter\"},\"plot\":{\"id\":\"894a928d-a2b5-48a1-b813-700ca7fb341a\",\"subtype\":\"Figure\",\"type\":\"Plot\"},\"ticker\":{\"id\":\"254209b5-5ea5-4410-a2a8-3f26a4bf3ada\",\"type\":\"BasicTicker\"},\"visible\":false},\"id\":\"3e685941-63fe-4d5c-9717-da7bf3ecb924\",\"type\":\"LinearAxis\"},{\"attributes\":{\"callback\":null},\"id\":\"7d9e4c2f-2366-433a-bdbc-adc6a2fb19aa\",\"type\":\"DataRange1d\"},{\"attributes\":{\"fill_alpha\":{\"value\":0.1},\"fill_color\":{\"value\":\"#1f77b4\"},\"line_alpha\":{\"value\":0.1},\"line_color\":{\"value\":\"#1f77b4\"},\"size\":{\"units\":\"screen\",\"value\":10},\"x\":{\"field\":\"x_coord\"},\"y\":{\"field\":\"y_coord\"}},\"id\":\"83a5887f-097c-44bd-ada8-974b7a6b5eb7\",\"type\":\"Circle\"},{\"attributes\":{\"overlay\":{\"id\":\"64181184-0b15-4521-8e70-3aebc5770196\",\"type\":\"BoxAnnotation\"}},\"id\":\"d7b08105-14b5-47f3-abe4-9a46f7029200\",\"type\":\"BoxZoomTool\"},{\"attributes\":{\"bottom_units\":\"screen\",\"fill_alpha\":{\"value\":0.5},\"fill_color\":{\"value\":\"lightgrey\"},\"left_units\":\"screen\",\"level\":\"overlay\",\"line_alpha\":{\"value\":1.0},\"line_color\":{\"value\":\"black\"},\"line_dash\":[4,4],\"line_width\":{\"value\":2},\"plot\":null,\"render_mode\":\"css\",\"right_units\":\"screen\",\"top_units\":\"screen\"},\"id\":\"64181184-0b15-4521-8e70-3aebc5770196\",\"type\":\"BoxAnnotation\"},{\"attributes\":{\"active_drag\":\"auto\",\"active_inspect\":\"auto\",\"active_scroll\":{\"id\":\"7cf627e4-c656-44e9-8cef-579ee7fc73db\",\"type\":\"WheelZoomTool\"},\"active_tap\":\"auto\",\"tools\":[{\"id\":\"c8714132-aa8f-4974-8104-e433e3d5eaef\",\"type\":\"PanTool\"},{\"id\":\"7cf627e4-c656-44e9-8cef-579ee7fc73db\",\"type\":\"WheelZoomTool\"},{\"id\":\"d7b08105-14b5-47f3-abe4-9a46f7029200\",\"type\":\"BoxZoomTool\"},{\"id\":\"5f615724-8cf7-4a18-9647-ddf8661862ab\",\"type\":\"BoxSelectTool\"},{\"id\":\"aecbc889-6bec-490d-a357-0fdbf1a92b1e\",\"type\":\"ResetTool\"},{\"id\":\"d0964a17-ef54-4ed5-a744-62248c37a00b\",\"type\":\"HoverTool\"}]},\"id\":\"63d5e15f-6544-4357-8100-8724d5462f5a\",\"type\":\"Toolbar\"},{\"attributes\":{\"plot\":null,\"text\":\"t-SNE Word Embeddings\",\"text_font_size\":{\"value\":\"16pt\"}},\"id\":\"fb7f9e25-d936-456c-89ed-03f03eddc2df\",\"type\":\"Title\"},{\"attributes\":{},\"id\":\"ad802db3-b6a9-4b8c-8933-f00c580db033\",\"type\":\"BasicTickFormatter\"},{\"attributes\":{},\"id\":\"a07bde36-3d49-4cc9-a035-26924a17c403\",\"type\":\"LinearScale\"},{\"attributes\":{},\"id\":\"a95f4fb5-b036-4611-8e5f-d2e7c91c8962\",\"type\":\"LinearScale\"},{\"attributes\":{\"bottom_units\":\"screen\",\"fill_alpha\":{\"value\":0.5},\"fill_color\":{\"value\":\"lightgrey\"},\"left_units\":\"screen\",\"level\":\"overlay\",\"line_alpha\":{\"value\":1.0},\"line_color\":{\"value\":\"black\"},\"line_dash\":[4,4],\"line_width\":{\"value\":2},\"plot\":null,\"render_mode\":\"css\",\"right_units\":\"screen\",\"top_units\":\"screen\"},\"id\":\"bcac5bd7-c3b6-4cb7-972e-78db5fef0df1\",\"type\":\"BoxAnnotation\"},{\"attributes\":{\"fill_color\":{\"value\":\"#1f77b4\"},\"size\":{\"units\":\"screen\",\"value\":10},\"x\":{\"field\":\"x_coord\"},\"y\":{\"field\":\"y_coord\"}},\"id\":\"e5bba367-a925-4a7e-88ae-d2d767e4782e\",\"type\":\"Circle\"},{\"attributes\":{},\"id\":\"254209b5-5ea5-4410-a2a8-3f26a4bf3ada\",\"type\":\"BasicTicker\"},{\"attributes\":{\"dimension\":1,\"grid_line_color\":{\"value\":null},\"plot\":{\"id\":\"894a928d-a2b5-48a1-b813-700ca7fb341a\",\"subtype\":\"Figure\",\"type\":\"Plot\"},\"ticker\":{\"id\":\"254209b5-5ea5-4410-a2a8-3f26a4bf3ada\",\"type\":\"BasicTicker\"}},\"id\":\"502dd947-a549-4949-a3cc-6764388d6c52\",\"type\":\"Grid\"},{\"attributes\":{\"callback\":null,\"overlay\":{\"id\":\"bcac5bd7-c3b6-4cb7-972e-78db5fef0df1\",\"type\":\"BoxAnnotation\"},\"renderers\":[{\"id\":\"a1cb2e0c-9b18-43ce-aa8f-2a45e15ce001\",\"type\":\"GlyphRenderer\"}]},\"id\":\"5f615724-8cf7-4a18-9647-ddf8661862ab\",\"type\":\"BoxSelectTool\"},{\"attributes\":{\"below\":[{\"id\":\"b21a7db1-8443-427c-99aa-6f0964397034\",\"type\":\"LinearAxis\"}],\"left\":[{\"id\":\"3e685941-63fe-4d5c-9717-da7bf3ecb924\",\"type\":\"LinearAxis\"}],\"outline_line_color\":{\"value\":null},\"plot_width\":900,\"renderers\":[{\"id\":\"b21a7db1-8443-427c-99aa-6f0964397034\",\"type\":\"LinearAxis\"},{\"id\":\"9e5256b7-94c8-4459-9da0-76bdfda9a792\",\"type\":\"Grid\"},{\"id\":\"3e685941-63fe-4d5c-9717-da7bf3ecb924\",\"type\":\"LinearAxis\"},{\"id\":\"502dd947-a549-4949-a3cc-6764388d6c52\",\"type\":\"Grid\"},{\"id\":\"64181184-0b15-4521-8e70-3aebc5770196\",\"type\":\"BoxAnnotation\"},{\"id\":\"bcac5bd7-c3b6-4cb7-972e-78db5fef0df1\",\"type\":\"BoxAnnotation\"},{\"id\":\"a1cb2e0c-9b18-43ce-aa8f-2a45e15ce001\",\"type\":\"GlyphRenderer\"}],\"title\":{\"id\":\"fb7f9e25-d936-456c-89ed-03f03eddc2df\",\"type\":\"Title\"},\"toolbar\":{\"id\":\"63d5e15f-6544-4357-8100-8724d5462f5a\",\"type\":\"Toolbar\"},\"x_range\":{\"id\":\"e99d9b30-86fa-4b6e-9cff-396c6b8a48eb\",\"type\":\"DataRange1d\"},\"x_scale\":{\"id\":\"a07bde36-3d49-4cc9-a035-26924a17c403\",\"type\":\"LinearScale\"},\"y_range\":{\"id\":\"7d9e4c2f-2366-433a-bdbc-adc6a2fb19aa\",\"type\":\"DataRange1d\"},\"y_scale\":{\"id\":\"a95f4fb5-b036-4611-8e5f-d2e7c91c8962\",\"type\":\"LinearScale\"}},\"id\":\"894a928d-a2b5-48a1-b813-700ca7fb341a\",\"subtype\":\"Figure\",\"type\":\"Plot\"},{\"attributes\":{\"grid_line_color\":{\"value\":null},\"plot\":{\"id\":\"894a928d-a2b5-48a1-b813-700ca7fb341a\",\"subtype\":\"Figure\",\"type\":\"Plot\"},\"ticker\":{\"id\":\"a3758726-89ef-461e-8d69-669016e261df\",\"type\":\"BasicTicker\"}},\"id\":\"9e5256b7-94c8-4459-9da0-76bdfda9a792\",\"type\":\"Grid\"},{\"attributes\":{},\"id\":\"c8714132-aa8f-4974-8104-e433e3d5eaef\",\"type\":\"PanTool\"},{\"attributes\":{\"callback\":null,\"column_names\":[\"x_coord\",\"y_coord\",\"word\",\"index\"],\"data\":{\"index\":[\"nori\",\"read_elsewhere\",\"rectal_itch\",\"rope\",\"an_intestinal_overgrowth\",\"magnesium_glycinate\",\"calming\",\"insight_into\",\"le\",\"oddly_enough\",\"auto_immune_disorder\",\"vial\",\"barium\",\"6_gram\",\"crohns\",\"improve_greatly\",\"utterly\",\"interstitial_cystitis\",\"multiple_strain\",\"daily_regimen\",\"underarm\",\"wan\",\"library\",\"47\",\"injure\",\"epithelial_cell\",\"modulate\",\"erica\",\"map\",\"recomend\",\"forum_user\",\"aldosterone\",\"18_year_old\",\"tachycardia\",\"ordeal\",\"flash\",\"omeprazole\",\"inter_relate\",\"long_term_solution\",\"enzyme_production\",\"quit_coffee\",\"fully_heal\",\"buckwheat_flake\",\"ail\",\"'s\",\"30_40\",\"1999\",\"5x\",\"x2\",\"sing\",\"starving\",\"seat\",\"pig_out\",\"bit_confusing\",\"immunologic\",\"restoration\",\"chronic_sinus\",\"awaken\",\"preference\",\"ob_gyn\",\"thickener\",\"bounty\",\"glycogen\",\"mitigate\",\"0.1\",\"soft_stool\",\"generalize\",\"chug\",\"professor\",\"extreme_bloating\",\"extremely_bloated\",\"oppose\",\"ultimate_cure\",\"orgasm\",\"intimate\",\"dark_brown\",\"discoloration\",\"relatively_new\",\"blood_flow\",\"animal_meat\",\"coated\",\"immune_cell\",\"lactobacillus_plantarum\",\"vessel\",\"tempting\",\"ear_ache\",\"amazon_uk\",\"prescription_anti_fungal\",\"perscription\",\"overeating\",\"lauricidin\",\"debris\",\"mixer\",\"leakage\",\"foreskin\",\"false_positive\",\"gate\",\"avocadoe\",\"2_tbs\",\"moodiness\",\"rapid_weight_loss\",\"difulcan\",\"c\\u1ee7a\",\"refreshing\",\"brown_rice_quinoa\",\"choke\",\"completely_disappear\",\"ranch\",\"disable\",\"medical_profession\",\"paranoid_about\",\"sleep_apnea\",\"pessary\",\"fillet\",\"glue\",\"immense\",\"gulp\",\"1.0\",\"thrilled\",\"initial_cleanse\",\"protect_against\",\"uterus\",\"vsl_3\",\"ayurvedic_medicine\",\"acacia_fiber\",\"associated\",\"ibs_d\",\"enzymes\",\"interesting_article\",\"grape_fruit\",\"red_potato\",\"small_bowl\",\"pause\",\"hydrogen_breath_test\",\"attractive\",\"guard\",\"intelligent\",\"downright\",\"shortly_thereafter\",\"wallet\",\"fibrous\",\"chiropractic\",\"painfully\",\"eachother\",\"osteoporosis\",\"narrow_down\",\"liquor\",\"entry\",\"an_official\",\"8_ounce\",\"granule\",\"20_30_year\",\"fat_content\",\"matt\",\"convenience\",\"raise_blood_sugar\",\"tout\",\"enormous\",\"3_bm_\\u2019s\",\"cancer_patient\",\"135\",\"exceptionally\",\"co_factor\",\"lobster\",\"mercury_exposure\",\"perception\",\"healthy_eating\",\"vitality\",\"antiobiotic\",\"quinoa_brown_rice\",\"reoccur\",\"strenuous\",\"clump\",\"digestive_process\",\"waking\",\"water_filter\",\"undigested_food_particle\",\"peripheral\",\"zantac\",\"crook\",\"coffee_drinker\",\"candida_thrif\",\"re_balance\",\"non_toxic\",\"cbs_mutation\",\"faq\",\"second_batch\",\"reasoning_behind\",\"supress\",\"worthless\",\"http://www.thecandidadiet.com/forum/yaf_postst9434_die-off-remedies-post\\u2013will-edit-more-in-time.aspx_-raster\",\"proper_diagnosis\",\"incurable\",\"hemp_oil\",\"em\",\"historically\",\"h2o2\",\"quick_update\",\"doe\",\"hyperventilate\",\"abundant\",\"750\",\"joe\",\"within_minute\",\"neighbor\",\"stint\",\"science_behind\",\"hero\",\"worldwide\",\"pubmed\",\"mobilize\",\"http://www.thecandidadiet.com/forum/yaf_postst1222_chew-your-food-longer\\u2013simple-tip-to-improve-your-health.aspx\",\"cured\\u2019\",\"growth_factor\",\"excerpt\",\"pretty_damn\",\"desperately\",\"eaten\",\"down_regulate\",\"blessed\",\"lodge\",\"regular_md\",\"protection_against\",\"major_factor\",\"celtic\",\"mistakenly\",\"screening\",\"madness\",\"omega_6\",\"homeostasis\",\"wierd\",\"an_acidic_ph\",\"wander\",\"full_moon\",\"hardly_ever\",\"naturegirl27_write\",\"downer\",\"territory\",\"restricted\",\"rush_into\",\"pr\",\"brenda_watson\",\"i\\u00b4m_afraid\",\"humble\",\"brita\",\"park\",\"tightly\",\"deem\",\"northern\",\"herring\",\"significance\",\"15_blueberry\",\"annie_\\u2019s\",\"et\",\"chronic_insomnia\",\"unavailable\",\"animal_milk\",\"assessment\",\"feel_lethargic\",\"oh_man\",\"eastern\",\"methane\",\"vet\",\"leaky_guy\",\"low_ferritin\",\"cultured_veggie\",\"positive_attitude\",\"major_improvement\",\"slack\",\"heart_palpation\",\"sasha\",\"rancid\",\"mannitol\",\"6000\",\"uro\",\"naive\",\"plain_yoghurt\",\"lightly_cook\",\"poorly_absorb_by\",\"sicker_than\",\"bison\",\"store_buy_kefir\",\"dr._mercola\",\"labor\",\"evo\",\"green_leafy_vegetable\",\"hp\",\"vitamin_shop\",\"grease\",\"75_mg\",\"crispy\",\">_>\",\"turkish\",\"kefir_grains\",\"1_chicken_breast\",\"abe\",\"phase_2_item\",\"apo\",\"sock\",\"hum\",\"telephone\",\"real_deal\",\"klonopin\",\"overcook\",\"slice_per_day\",\"ethyl_alcohol\",\"baby_carrier\",\"quark\",\"debt\",\"ejaculate\",\"big_role\",\"penile\",\"crease\",\"sweep\",\"big_difference_between\",\"oral_suspension\",\"textbook\",\"phytic_acid\",\".if\",\"forth_between\",\"cater\",\"functional_medicine_doctor\",\"restroom\",\"improve_dramatically\",\"spend_thousand\",\"caloric\",\"topical_treatment\",\"cvs\",\"conflicting_info\",\"brain_chemistry\",\"human_cell\",\"flaxseed_meal\",\"holistic_dr\",\"formulate\",\"cautiously\",\"vsl3\",\"insanely\",\"tylenol\",\"quinoa_millet\",\"breed\",\"revolve_around\",\"an_endocrinologist\",\"aftertaste\",\"no_carbs\",\"hellish\",\"traumatic\",\"forearm\",\"swollen_lymph_node\",\"gamble\",\"quit_smoke\",\"10_pound\",\"bullshit\",\"six_month_ago\",\"glance\",\"adult_life\",\"urgent\",\"stage_2/3\",\"vegetables\",\"39\",\"athletic\",\"leg_muscle\",\"mushy\",\"underwear\",\"almost_instantly\",\"extremely_helpful\",\"natural_sweetener\",\"regenerate\",\"race_heart\",\"extremely_weak\",\"750_mg\",\"invasion\",\"persistant\",\"worst\",\"arrive_today\",\"costco\",\"culturelle\",\"1,000\",\"sourdough\",\"square\",\"allergy_intolerance\",\"mrs._candida\",\"nutritionally\",\"6_billion\",\"irregular_heartbeat\",\"proliferate\",\"red_patch\",\"ring_worm\",\"tinea\",\"specialty\",\"50/50\",\"bread_pasta\",\"2,000\",\"hello_everybody\",\"generally_speak\",\"during_phase_1\",\"mgl\",\"coordination\",\"drained\",\"crisis\",\"closely_related\",\"argentina\",\"perseverance\",\"900\",\"acacia\",\"sooth\",\"0_g\",\"laundry\",\"af_betafood\",\"stovariste\",\"lisa_\\u2019s\",\"frozen_vegetable\",\"aroma\",\"burdock\",\"antiseptic\",\"quinine\",\"an_indicator\",\"sincerely_able\",\"sally\",\"no_big_deal\",\"tray\",\"splash\",\"gluten_free_pasta\",\"fri\",\"vastly\",\"suicide\",\"100_gram\",\"scientific_study\",\"such_as_fermented_cod\",\"okra_pepsin\",\"participant\",\"butyrate\",\"56\",\"refined_carb\",\"per_dose\",\"probability\",\"wire\",\"underestimate\",\"deer\",\"secure\",\"household\",\"welt\",\"canker_sore\",\"ph_neutral\",\"exasperate\",\"old_self\",\"vast_majority\",\"mcdonalds\",\"specific_carbohydrate_diet\",\"difflucan\",\"selective\",\"choc\",\"specialist_who\",\"close_friend\",\"compounding_pharmacy\",\"milligram\",\"breastf\",\"writer\",\"non_pathogenic_form\",\"candia5\",\"function_normally\",\"90_billion\",\"deli\",\"enjoyment\",\"citrus_fruit\",\"irritant\",\"special_occasion\",\"hyperthyroidism\",\"polarize\",\"diversity\",\"improperly\",\"mend\",\"sibo_small\",\"ergosterol\",\"echinocandins\",\"forgo\",\"aa\",\"atp\",\"cardiovascular_disease\",\"electron\",\"consciousness\",\"crandall\",\"cell_mediate\",\"viral_infection\",\"amalgam_removal\",\"large_salad\",\"farmer_market\",\"toxic_load\",\"personal_message\",\"nasal_passage\",\"alas\",\"among_many\",\"hunt\",\"docter\",\"brain_function\",\"non_fat\",\"similarity\",\"blood_circulation\",\"progressive\",\"food\\u2019\",\"imagination\",\"leader\",\"candidastat\",\"oregon_grape\",\"anecdotal_evidence\",\"lunch_dinner\",\"udo_\\u2019s\",\"fence\",\"transient\",\"vital_organ\",\"iam\",\"heavy_metal_poisoning\",\"alcat\",\"colonisation\",\"\\u2019s_office\",\"intent\",\"mic\",\"a&d\",\"spanish\",\"obsessive\",\"fast_metabolism\",\"minimal_amount\",\"answering\",\"15th\",\"producer\",\"neutropenia\",\"thiamin\",\"bin\",\"15_g\",\"lifeway\",\"meadow\",\"pumpkin_muffin_bread\",\"nourishment\",\"enamel\",\"buckwheat_pasta\",\"small_town\",\"billion_per_capsule\",\"poss\",\"skim_milk\",\"51\",\"pap\",\"54\",\"malaise\",\"environmental_toxin\",\".the\",\"id\",\"reason_behind\",\"edamame\",\"play_havoc\",\"soooooo\",\"against_candida_albican\",\"wean_off\",\"into_account\",\"quick_search\",\"medical_history\",\"foil\",\"suicidal\",\"magnesium_calcium\",\"dvd\",\"bok_choy\",\"significant_change\",\"mb\",\"May\",\"chive\",\"fluconazole_itraconazole\",\"th2_mode\",\"commercial_yogurt\",\"dr._crook\",\"24_48_hour\",\"steamed_veg\",\"competitive\",\"mince_garlic\",\"customer_service\",\"proprietary_blend\",\"doctor_office\",\"flipper\",\"daily_requirement\",\"inulin_fos\",\"trader_joe\",\"ultimate_flora_critical_care\",\"rachelle\",\"glass_container\",\"chock\",\"blakek89_write\",\"healhy_write\",\"security_image\",\"hongo\",\"tratamiento\",\"green_onion\",\"steam_room_sauna_hot\",\"microbiome\",\"natural_approach\",\"pinworm\",\"clog_up\",\"reap\",\"tonsil_stone\",\"inaccurate\",\"less_frequent\",\"venison\",\"49\",\"chef\",\"reoccurr\",\"leach\",\"\\ud83d\\ude10\",\"annoy\",\"young_child\",\"8_9\",\"regrowth\",\"xanthan_gum\",\"jittery\",\"young_age\",\"repopulat\",\"150_billion\",\"prepp\",\"chemotherapy\",\"96\",\"puffy\",\"coco\",\"immune_booster\",\"gaia\",\"become_constipate\",\"ya\\u2019ll\",\"2015\",\"apologise\",\"rank\",\"cl\",\"52\",\"u_ml\",\"jaundice\",\"ginger_garlic\",\"canesten\",\"vain\",\"follow_an_anticandida\",\"teh\",\"alteration\",\"alarming\",\"spinach_salad\",\"uncooked\",\"disgust\",\"celery_cucumber\",\"would_consider_consult\",\"localize\",\"favorable\",\"slightly_elevated\",\"nerve_damage\",\"jim\",\"dao\",\"radical\",\"lose_faith\",\"pcr\",\"regularity\",\"since_january\",\"commensal\",\"weep\",\"leap\",\"shelf_stable\",\"refrigerated\",\"mount\",\"-no\",\"dds1\",\"6_tablespoon\",\"any_drawback\",\"high_potency\",\"midnight\",\"silicon_dioxide\",\"1,000_mg\",\"jarrow_formulas\",\"44\",\"hold_onto\",\"chronic_sinus_infection\",\"ferritin\",\"sf\",\"too_starchy\",\"xmas\",\"white_coat\",\"hy\",\"genova_diagnostic\",\"10th\",\"erase\",\"overloaded\",\"rice_pasta\",\"ouch\",\"resilient\",\"helpless\",\"fabric\",\"cauliflower_broccoli\",\"classify_as\",\"5th_day\",\"tbl\",\"kidney_function\",\"cancer_cell\",\"bright_red\",\"glandular\",\"navigate\",\"own_personal\",\"provider\",\"smear\",\"escherichia_coli\",\"salmonella\",\"fairly_certain\",\"resolution\",\"stomach_acid_level\",\"only_human_derive\",\"too_harsh\",\"brave\",\"retention\",\"hi_chris\",\"bottled\",\"depletion\",\"warrant\",\"dr_morse\",\"defensive\",\"twist\",\"ringing\",\"amanda\",\"half_ass\",\"robert\",\"seasonal\",\"cosmetic\",\"tail\",\"stevia_cinnamon\",\"nutmeg\",\"thecandidadiet.com\",\"progressively_bad\",\"pure_encapsulation\",\"lifelong\",\"hashimoto_\\u2019s\",\"cut_out_gluten\",\"chronic_prostatitis\",\"su\",\"starbucks\",\"withdrawal_symptom\",\"natropath\",\"detrimental_effect\",\"2x_daily\",\"megafood_megaflora\",\"overkill\",\"idiot\",\"appreciation\",\"seattle\",\"bouncy\",\"brittle\",\"amalgam_remove\",\"gray\",\"bitters\",\"8_month_ago\",\"st\",\"2-\",\"fork\",\"candisol\",\"station\",\"gg\",\"n_acetyl_cysteine\",\"symptomatic\",\"duty\",\"dom_\\u2019s_kefir\",\"transit\",\"policy\",\"summer_squash\",\"remote\",\"tee\",\"15_min\",\"magically\",\"intrigue\",\"worker\",\"offensive\",\"ween\",\"lactate\",\"crop_up\",\"oat_meal\",\"humid\",\"bile_flow\",\"12.5_mg\",\"debilitating\",\"sept\",\"distinguish\",\"search_engine\",\"thyroid_med\",\"chewable\",\"reccommend\",\"kolorex\",\"60_billion\",\"very_encouraging\",\"experimentation\",\"3000\",\"worthy\",\"stomache\",\"serious_illness\",\"vehicle\",\"soya_milk\",\"butyric_acid\",\"sandra\",\"cold_hand_foot\",\"jp\",\"outlook\",\"stall\",\"george\",\"horopito\",\"inspiring\",\"rupture\",\"payment\",\"soy_bean\",\"stomach_flu\",\"24_hour_period\",\"3_tbs\",\"7_g\",\"obsession\",\"taking\",\"non_organic_meat\",\"carrot_juice\",\"ferment_cod_liver\",\"kyolic\",\"pronounce\",\"minded\",\"much_conflicting_information\",\"kinesiologist\",\".its\",\"diced\",\"satisfactory\",\"drama\",\"toxic_effect\",\"viewpoint\",\"ace\",\"teaching\",\"bone_marrow\",\"palate\",\"triglyceride\",\"woozy\",\"oct\",\"healing_grace\",\"black_coffee\",\"stirfry\",\"kohlrabi\",\"kate\",\"zeolite\",\"urinary_issue\",\"nistatin\",\"country_life\",\"betaine_hci\",\"formaldehyde\",\"depend_on_whether\",\"pumpkin_pie\",\"euro\",\"designer\",\"guinea_pig\",\"p73\",\"brett\",\"monsanto\",\"post_title\",\"tangy\",\"degenerative_disease\",\"puree\",\"http://nutritiondata.self.com/facts/cereal-grains-and-pasta/5710/2\",\"(1\",\"rice_bran_flour\",\"hiatus_hernia\",\"low_fibre_diet\",\"usda\",\"bilberry\",\"por\",\"skg\",\"organic_non_sweeten\",\"kty\",\"hello_katy\",\"navel\",\"fluctuation\",\"asymptomatic\",\"rare_case\",\"inositol\",\"chicken_soup\",\"http://www.thecandidadiet.com/forum/yaf_postst4116_the-benefits-of-sweating-out-toxins-mineral-water-and-minerals.aspx\",\"technic\",\"surround_by\",\"one_size_fit\",\"an_ultrasound\",\"accustomed\",\"derail\",\"rice_quinoa\",\"800_mg\",\"annoyed\",\"thirty\",\"unhappy\",\"vulva\",\"weight_lifting\",\"booster\",\"tomatoes\",\"bpm\",\"heating\",\"prime\",\"cervical\",\"open_minded\",\"liposomal\",\"magnesium_zinc\",\"apple_cidar_vinegar\",\"exhausting\",\"anti_viral\",\"amphotericin_b\",\"an_overdose\",\"valerian\",\"collard\",\"jalapenos\",\"145\",\"mg_dl\",\"bombard\",\"slew\",\"poor_sleep\",\"penny\",\"still_persist\",\"consequently\",\"cluster\",\"greenish\",\"infuse\",\"fascinating\",\"intensify\",\"groin_area\",\"diligent\",\"cfu_per\",\"specialized\",\"dairy_intolerance\",\"comforting\",\"aerobic\",\"presentation\",\"depression_fatigue\",\"faecal\",\"several_week_ago\",\"uptake\",\"bile_production\",\"vitamin_c_1000_mg\",\"glucosamine\",\"barrett\",\"emphasize\",\"nutrition_fact\",\"spend_hundred\",\"beware\",\"plausible\",\"43\",\"nostril\",\"nutribullet\",\"tempeh\",\"nothing_wrong\",\"bank\",\"inorganic\",\"calf_muscle\",\"headaches\",\"allergies\",\"115\",\"gm\",\"light_headed\",\"benefit_than_detriment\",\"dime\",\"|\",\"contraction\",\"you\\u2019ll\",\"ashamed\",\"margarine\",\"oat_groat\",\"headache_nausea\",\"hormone_imbalance\",\"physical_therapy\",\"jerk\",\"similase\",\"gut_ecology\",\"describe_above\",\"pancreatic\",\"digestive_juice\",\"personal_opinion\",\"miracle_cure\",\"renew\",\"three_lac\",\"2004\",\"crippling\",\"sauna_hot_tub_jacuzzi\",\"eve\",\"helper\",\"alternative_method\",\"message_board\",\"cane_juice\",\"ridiculous_amount\",\"more_efficient\",\"lozenge\",\"bedtime\",\"hair_analysis\",\"bogus\",\"metagenics\",\"creamy_buckwheat\",\"bifidobacterium_bifidum\",\"bile_salt\",\"erection\",\"fifth\",\"cheddar\",\"food_grade_source\",\"stomach_upset\",\"teff_buckwheat\",\"candid\",\"most_recent\",\"illustrate\",\"theoretically\",\"manic\",\"magical\",\"sinus_congestion\",\"halt\"],\"word\":[\"nori\",\"read_elsewhere\",\"rectal_itch\",\"rope\",\"an_intestinal_overgrowth\",\"magnesium_glycinate\",\"calming\",\"insight_into\",\"le\",\"oddly_enough\",\"auto_immune_disorder\",\"vial\",\"barium\",\"6_gram\",\"crohns\",\"improve_greatly\",\"utterly\",\"interstitial_cystitis\",\"multiple_strain\",\"daily_regimen\",\"underarm\",\"wan\",\"library\",\"47\",\"injure\",\"epithelial_cell\",\"modulate\",\"erica\",\"map\",\"recomend\",\"forum_user\",\"aldosterone\",\"18_year_old\",\"tachycardia\",\"ordeal\",\"flash\",\"omeprazole\",\"inter_relate\",\"long_term_solution\",\"enzyme_production\",\"quit_coffee\",\"fully_heal\",\"buckwheat_flake\",\"ail\",\"'s\",\"30_40\",\"1999\",\"5x\",\"x2\",\"sing\",\"starving\",\"seat\",\"pig_out\",\"bit_confusing\",\"immunologic\",\"restoration\",\"chronic_sinus\",\"awaken\",\"preference\",\"ob_gyn\",\"thickener\",\"bounty\",\"glycogen\",\"mitigate\",\"0.1\",\"soft_stool\",\"generalize\",\"chug\",\"professor\",\"extreme_bloating\",\"extremely_bloated\",\"oppose\",\"ultimate_cure\",\"orgasm\",\"intimate\",\"dark_brown\",\"discoloration\",\"relatively_new\",\"blood_flow\",\"animal_meat\",\"coated\",\"immune_cell\",\"lactobacillus_plantarum\",\"vessel\",\"tempting\",\"ear_ache\",\"amazon_uk\",\"prescription_anti_fungal\",\"perscription\",\"overeating\",\"lauricidin\",\"debris\",\"mixer\",\"leakage\",\"foreskin\",\"false_positive\",\"gate\",\"avocadoe\",\"2_tbs\",\"moodiness\",\"rapid_weight_loss\",\"difulcan\",\"c\\u1ee7a\",\"refreshing\",\"brown_rice_quinoa\",\"choke\",\"completely_disappear\",\"ranch\",\"disable\",\"medical_profession\",\"paranoid_about\",\"sleep_apnea\",\"pessary\",\"fillet\",\"glue\",\"immense\",\"gulp\",\"1.0\",\"thrilled\",\"initial_cleanse\",\"protect_against\",\"uterus\",\"vsl_3\",\"ayurvedic_medicine\",\"acacia_fiber\",\"associated\",\"ibs_d\",\"enzymes\",\"interesting_article\",\"grape_fruit\",\"red_potato\",\"small_bowl\",\"pause\",\"hydrogen_breath_test\",\"attractive\",\"guard\",\"intelligent\",\"downright\",\"shortly_thereafter\",\"wallet\",\"fibrous\",\"chiropractic\",\"painfully\",\"eachother\",\"osteoporosis\",\"narrow_down\",\"liquor\",\"entry\",\"an_official\",\"8_ounce\",\"granule\",\"20_30_year\",\"fat_content\",\"matt\",\"convenience\",\"raise_blood_sugar\",\"tout\",\"enormous\",\"3_bm_\\u2019s\",\"cancer_patient\",\"135\",\"exceptionally\",\"co_factor\",\"lobster\",\"mercury_exposure\",\"perception\",\"healthy_eating\",\"vitality\",\"antiobiotic\",\"quinoa_brown_rice\",\"reoccur\",\"strenuous\",\"clump\",\"digestive_process\",\"waking\",\"water_filter\",\"undigested_food_particle\",\"peripheral\",\"zantac\",\"crook\",\"coffee_drinker\",\"candida_thrif\",\"re_balance\",\"non_toxic\",\"cbs_mutation\",\"faq\",\"second_batch\",\"reasoning_behind\",\"supress\",\"worthless\",\"http://www.thecandidadiet.com/forum/yaf_postst9434_die-off-remedies-post\\u2013will-edit-more-in-time.aspx_-raster\",\"proper_diagnosis\",\"incurable\",\"hemp_oil\",\"em\",\"historically\",\"h2o2\",\"quick_update\",\"doe\",\"hyperventilate\",\"abundant\",\"750\",\"joe\",\"within_minute\",\"neighbor\",\"stint\",\"science_behind\",\"hero\",\"worldwide\",\"pubmed\",\"mobilize\",\"http://www.thecandidadiet.com/forum/yaf_postst1222_chew-your-food-longer\\u2013simple-tip-to-improve-your-health.aspx\",\"cured\\u2019\",\"growth_factor\",\"excerpt\",\"pretty_damn\",\"desperately\",\"eaten\",\"down_regulate\",\"blessed\",\"lodge\",\"regular_md\",\"protection_against\",\"major_factor\",\"celtic\",\"mistakenly\",\"screening\",\"madness\",\"omega_6\",\"homeostasis\",\"wierd\",\"an_acidic_ph\",\"wander\",\"full_moon\",\"hardly_ever\",\"naturegirl27_write\",\"downer\",\"territory\",\"restricted\",\"rush_into\",\"pr\",\"brenda_watson\",\"i\\u00b4m_afraid\",\"humble\",\"brita\",\"park\",\"tightly\",\"deem\",\"northern\",\"herring\",\"significance\",\"15_blueberry\",\"annie_\\u2019s\",\"et\",\"chronic_insomnia\",\"unavailable\",\"animal_milk\",\"assessment\",\"feel_lethargic\",\"oh_man\",\"eastern\",\"methane\",\"vet\",\"leaky_guy\",\"low_ferritin\",\"cultured_veggie\",\"positive_attitude\",\"major_improvement\",\"slack\",\"heart_palpation\",\"sasha\",\"rancid\",\"mannitol\",\"6000\",\"uro\",\"naive\",\"plain_yoghurt\",\"lightly_cook\",\"poorly_absorb_by\",\"sicker_than\",\"bison\",\"store_buy_kefir\",\"dr._mercola\",\"labor\",\"evo\",\"green_leafy_vegetable\",\"hp\",\"vitamin_shop\",\"grease\",\"75_mg\",\"crispy\",\">_>\",\"turkish\",\"kefir_grains\",\"1_chicken_breast\",\"abe\",\"phase_2_item\",\"apo\",\"sock\",\"hum\",\"telephone\",\"real_deal\",\"klonopin\",\"overcook\",\"slice_per_day\",\"ethyl_alcohol\",\"baby_carrier\",\"quark\",\"debt\",\"ejaculate\",\"big_role\",\"penile\",\"crease\",\"sweep\",\"big_difference_between\",\"oral_suspension\",\"textbook\",\"phytic_acid\",\".if\",\"forth_between\",\"cater\",\"functional_medicine_doctor\",\"restroom\",\"improve_dramatically\",\"spend_thousand\",\"caloric\",\"topical_treatment\",\"cvs\",\"conflicting_info\",\"brain_chemistry\",\"human_cell\",\"flaxseed_meal\",\"holistic_dr\",\"formulate\",\"cautiously\",\"vsl3\",\"insanely\",\"tylenol\",\"quinoa_millet\",\"breed\",\"revolve_around\",\"an_endocrinologist\",\"aftertaste\",\"no_carbs\",\"hellish\",\"traumatic\",\"forearm\",\"swollen_lymph_node\",\"gamble\",\"quit_smoke\",\"10_pound\",\"bullshit\",\"six_month_ago\",\"glance\",\"adult_life\",\"urgent\",\"stage_2/3\",\"vegetables\",\"39\",\"athletic\",\"leg_muscle\",\"mushy\",\"underwear\",\"almost_instantly\",\"extremely_helpful\",\"natural_sweetener\",\"regenerate\",\"race_heart\",\"extremely_weak\",\"750_mg\",\"invasion\",\"persistant\",\"worst\",\"arrive_today\",\"costco\",\"culturelle\",\"1,000\",\"sourdough\",\"square\",\"allergy_intolerance\",\"mrs._candida\",\"nutritionally\",\"6_billion\",\"irregular_heartbeat\",\"proliferate\",\"red_patch\",\"ring_worm\",\"tinea\",\"specialty\",\"50/50\",\"bread_pasta\",\"2,000\",\"hello_everybody\",\"generally_speak\",\"during_phase_1\",\"mgl\",\"coordination\",\"drained\",\"crisis\",\"closely_related\",\"argentina\",\"perseverance\",\"900\",\"acacia\",\"sooth\",\"0_g\",\"laundry\",\"af_betafood\",\"stovariste\",\"lisa_\\u2019s\",\"frozen_vegetable\",\"aroma\",\"burdock\",\"antiseptic\",\"quinine\",\"an_indicator\",\"sincerely_able\",\"sally\",\"no_big_deal\",\"tray\",\"splash\",\"gluten_free_pasta\",\"fri\",\"vastly\",\"suicide\",\"100_gram\",\"scientific_study\",\"such_as_fermented_cod\",\"okra_pepsin\",\"participant\",\"butyrate\",\"56\",\"refined_carb\",\"per_dose\",\"probability\",\"wire\",\"underestimate\",\"deer\",\"secure\",\"household\",\"welt\",\"canker_sore\",\"ph_neutral\",\"exasperate\",\"old_self\",\"vast_majority\",\"mcdonalds\",\"specific_carbohydrate_diet\",\"difflucan\",\"selective\",\"choc\",\"specialist_who\",\"close_friend\",\"compounding_pharmacy\",\"milligram\",\"breastf\",\"writer\",\"non_pathogenic_form\",\"candia5\",\"function_normally\",\"90_billion\",\"deli\",\"enjoyment\",\"citrus_fruit\",\"irritant\",\"special_occasion\",\"hyperthyroidism\",\"polarize\",\"diversity\",\"improperly\",\"mend\",\"sibo_small\",\"ergosterol\",\"echinocandins\",\"forgo\",\"aa\",\"atp\",\"cardiovascular_disease\",\"electron\",\"consciousness\",\"crandall\",\"cell_mediate\",\"viral_infection\",\"amalgam_removal\",\"large_salad\",\"farmer_market\",\"toxic_load\",\"personal_message\",\"nasal_passage\",\"alas\",\"among_many\",\"hunt\",\"docter\",\"brain_function\",\"non_fat\",\"similarity\",\"blood_circulation\",\"progressive\",\"food\\u2019\",\"imagination\",\"leader\",\"candidastat\",\"oregon_grape\",\"anecdotal_evidence\",\"lunch_dinner\",\"udo_\\u2019s\",\"fence\",\"transient\",\"vital_organ\",\"iam\",\"heavy_metal_poisoning\",\"alcat\",\"colonisation\",\"\\u2019s_office\",\"intent\",\"mic\",\"a&d\",\"spanish\",\"obsessive\",\"fast_metabolism\",\"minimal_amount\",\"answering\",\"15th\",\"producer\",\"neutropenia\",\"thiamin\",\"bin\",\"15_g\",\"lifeway\",\"meadow\",\"pumpkin_muffin_bread\",\"nourishment\",\"enamel\",\"buckwheat_pasta\",\"small_town\",\"billion_per_capsule\",\"poss\",\"skim_milk\",\"51\",\"pap\",\"54\",\"malaise\",\"environmental_toxin\",\".the\",\"id\",\"reason_behind\",\"edamame\",\"play_havoc\",\"soooooo\",\"against_candida_albican\",\"wean_off\",\"into_account\",\"quick_search\",\"medical_history\",\"foil\",\"suicidal\",\"magnesium_calcium\",\"dvd\",\"bok_choy\",\"significant_change\",\"mb\",\"May\",\"chive\",\"fluconazole_itraconazole\",\"th2_mode\",\"commercial_yogurt\",\"dr._crook\",\"24_48_hour\",\"steamed_veg\",\"competitive\",\"mince_garlic\",\"customer_service\",\"proprietary_blend\",\"doctor_office\",\"flipper\",\"daily_requirement\",\"inulin_fos\",\"trader_joe\",\"ultimate_flora_critical_care\",\"rachelle\",\"glass_container\",\"chock\",\"blakek89_write\",\"healhy_write\",\"security_image\",\"hongo\",\"tratamiento\",\"green_onion\",\"steam_room_sauna_hot\",\"microbiome\",\"natural_approach\",\"pinworm\",\"clog_up\",\"reap\",\"tonsil_stone\",\"inaccurate\",\"less_frequent\",\"venison\",\"49\",\"chef\",\"reoccurr\",\"leach\",\"\\ud83d\\ude10\",\"annoy\",\"young_child\",\"8_9\",\"regrowth\",\"xanthan_gum\",\"jittery\",\"young_age\",\"repopulat\",\"150_billion\",\"prepp\",\"chemotherapy\",\"96\",\"puffy\",\"coco\",\"immune_booster\",\"gaia\",\"become_constipate\",\"ya\\u2019ll\",\"2015\",\"apologise\",\"rank\",\"cl\",\"52\",\"u_ml\",\"jaundice\",\"ginger_garlic\",\"canesten\",\"vain\",\"follow_an_anticandida\",\"teh\",\"alteration\",\"alarming\",\"spinach_salad\",\"uncooked\",\"disgust\",\"celery_cucumber\",\"would_consider_consult\",\"localize\",\"favorable\",\"slightly_elevated\",\"nerve_damage\",\"jim\",\"dao\",\"radical\",\"lose_faith\",\"pcr\",\"regularity\",\"since_january\",\"commensal\",\"weep\",\"leap\",\"shelf_stable\",\"refrigerated\",\"mount\",\"-no\",\"dds1\",\"6_tablespoon\",\"any_drawback\",\"high_potency\",\"midnight\",\"silicon_dioxide\",\"1,000_mg\",\"jarrow_formulas\",\"44\",\"hold_onto\",\"chronic_sinus_infection\",\"ferritin\",\"sf\",\"too_starchy\",\"xmas\",\"white_coat\",\"hy\",\"genova_diagnostic\",\"10th\",\"erase\",\"overloaded\",\"rice_pasta\",\"ouch\",\"resilient\",\"helpless\",\"fabric\",\"cauliflower_broccoli\",\"classify_as\",\"5th_day\",\"tbl\",\"kidney_function\",\"cancer_cell\",\"bright_red\",\"glandular\",\"navigate\",\"own_personal\",\"provider\",\"smear\",\"escherichia_coli\",\"salmonella\",\"fairly_certain\",\"resolution\",\"stomach_acid_level\",\"only_human_derive\",\"too_harsh\",\"brave\",\"retention\",\"hi_chris\",\"bottled\",\"depletion\",\"warrant\",\"dr_morse\",\"defensive\",\"twist\",\"ringing\",\"amanda\",\"half_ass\",\"robert\",\"seasonal\",\"cosmetic\",\"tail\",\"stevia_cinnamon\",\"nutmeg\",\"thecandidadiet.com\",\"progressively_bad\",\"pure_encapsulation\",\"lifelong\",\"hashimoto_\\u2019s\",\"cut_out_gluten\",\"chronic_prostatitis\",\"su\",\"starbucks\",\"withdrawal_symptom\",\"natropath\",\"detrimental_effect\",\"2x_daily\",\"megafood_megaflora\",\"overkill\",\"idiot\",\"appreciation\",\"seattle\",\"bouncy\",\"brittle\",\"amalgam_remove\",\"gray\",\"bitters\",\"8_month_ago\",\"st\",\"2-\",\"fork\",\"candisol\",\"station\",\"gg\",\"n_acetyl_cysteine\",\"symptomatic\",\"duty\",\"dom_\\u2019s_kefir\",\"transit\",\"policy\",\"summer_squash\",\"remote\",\"tee\",\"15_min\",\"magically\",\"intrigue\",\"worker\",\"offensive\",\"ween\",\"lactate\",\"crop_up\",\"oat_meal\",\"humid\",\"bile_flow\",\"12.5_mg\",\"debilitating\",\"sept\",\"distinguish\",\"search_engine\",\"thyroid_med\",\"chewable\",\"reccommend\",\"kolorex\",\"60_billion\",\"very_encouraging\",\"experimentation\",\"3000\",\"worthy\",\"stomache\",\"serious_illness\",\"vehicle\",\"soya_milk\",\"butyric_acid\",\"sandra\",\"cold_hand_foot\",\"jp\",\"outlook\",\"stall\",\"george\",\"horopito\",\"inspiring\",\"rupture\",\"payment\",\"soy_bean\",\"stomach_flu\",\"24_hour_period\",\"3_tbs\",\"7_g\",\"obsession\",\"taking\",\"non_organic_meat\",\"carrot_juice\",\"ferment_cod_liver\",\"kyolic\",\"pronounce\",\"minded\",\"much_conflicting_information\",\"kinesiologist\",\".its\",\"diced\",\"satisfactory\",\"drama\",\"toxic_effect\",\"viewpoint\",\"ace\",\"teaching\",\"bone_marrow\",\"palate\",\"triglyceride\",\"woozy\",\"oct\",\"healing_grace\",\"black_coffee\",\"stirfry\",\"kohlrabi\",\"kate\",\"zeolite\",\"urinary_issue\",\"nistatin\",\"country_life\",\"betaine_hci\",\"formaldehyde\",\"depend_on_whether\",\"pumpkin_pie\",\"euro\",\"designer\",\"guinea_pig\",\"p73\",\"brett\",\"monsanto\",\"post_title\",\"tangy\",\"degenerative_disease\",\"puree\",\"http://nutritiondata.self.com/facts/cereal-grains-and-pasta/5710/2\",\"(1\",\"rice_bran_flour\",\"hiatus_hernia\",\"low_fibre_diet\",\"usda\",\"bilberry\",\"por\",\"skg\",\"organic_non_sweeten\",\"kty\",\"hello_katy\",\"navel\",\"fluctuation\",\"asymptomatic\",\"rare_case\",\"inositol\",\"chicken_soup\",\"http://www.thecandidadiet.com/forum/yaf_postst4116_the-benefits-of-sweating-out-toxins-mineral-water-and-minerals.aspx\",\"technic\",\"surround_by\",\"one_size_fit\",\"an_ultrasound\",\"accustomed\",\"derail\",\"rice_quinoa\",\"800_mg\",\"annoyed\",\"thirty\",\"unhappy\",\"vulva\",\"weight_lifting\",\"booster\",\"tomatoes\",\"bpm\",\"heating\",\"prime\",\"cervical\",\"open_minded\",\"liposomal\",\"magnesium_zinc\",\"apple_cidar_vinegar\",\"exhausting\",\"anti_viral\",\"amphotericin_b\",\"an_overdose\",\"valerian\",\"collard\",\"jalapenos\",\"145\",\"mg_dl\",\"bombard\",\"slew\",\"poor_sleep\",\"penny\",\"still_persist\",\"consequently\",\"cluster\",\"greenish\",\"infuse\",\"fascinating\",\"intensify\",\"groin_area\",\"diligent\",\"cfu_per\",\"specialized\",\"dairy_intolerance\",\"comforting\",\"aerobic\",\"presentation\",\"depression_fatigue\",\"faecal\",\"several_week_ago\",\"uptake\",\"bile_production\",\"vitamin_c_1000_mg\",\"glucosamine\",\"barrett\",\"emphasize\",\"nutrition_fact\",\"spend_hundred\",\"beware\",\"plausible\",\"43\",\"nostril\",\"nutribullet\",\"tempeh\",\"nothing_wrong\",\"bank\",\"inorganic\",\"calf_muscle\",\"headaches\",\"allergies\",\"115\",\"gm\",\"light_headed\",\"benefit_than_detriment\",\"dime\",\"|\",\"contraction\",\"you\\u2019ll\",\"ashamed\",\"margarine\",\"oat_groat\",\"headache_nausea\",\"hormone_imbalance\",\"physical_therapy\",\"jerk\",\"similase\",\"gut_ecology\",\"describe_above\",\"pancreatic\",\"digestive_juice\",\"personal_opinion\",\"miracle_cure\",\"renew\",\"three_lac\",\"2004\",\"crippling\",\"sauna_hot_tub_jacuzzi\",\"eve\",\"helper\",\"alternative_method\",\"message_board\",\"cane_juice\",\"ridiculous_amount\",\"more_efficient\",\"lozenge\",\"bedtime\",\"hair_analysis\",\"bogus\",\"metagenics\",\"creamy_buckwheat\",\"bifidobacterium_bifidum\",\"bile_salt\",\"erection\",\"fifth\",\"cheddar\",\"food_grade_source\",\"stomach_upset\",\"teff_buckwheat\",\"candid\",\"most_recent\",\"illustrate\",\"theoretically\",\"manic\",\"magical\",\"sinus_congestion\",\"halt\"],\"x_coord\":{\"__ndarray__\":\"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\",\"dtype\":\"float32\",\"shape\":[1000]},\"y_coord\":{\"__ndarray__\":\"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\",\"dtype\":\"float32\",\"shape\":[1000]}}},\"id\":\"4996a942-9063-447b-b47d-98aa4d933dad\",\"type\":\"ColumnDataSource\"},{\"attributes\":{\"formatter\":{\"id\":\"ad802db3-b6a9-4b8c-8933-f00c580db033\",\"type\":\"BasicTickFormatter\"},\"plot\":{\"id\":\"894a928d-a2b5-48a1-b813-700ca7fb341a\",\"subtype\":\"Figure\",\"type\":\"Plot\"},\"ticker\":{\"id\":\"a3758726-89ef-461e-8d69-669016e261df\",\"type\":\"BasicTicker\"},\"visible\":false},\"id\":\"b21a7db1-8443-427c-99aa-6f0964397034\",\"type\":\"LinearAxis\"},{\"attributes\":{},\"id\":\"aecbc889-6bec-490d-a357-0fdbf1a92b1e\",\"type\":\"ResetTool\"},{\"attributes\":{},\"id\":\"a3758726-89ef-461e-8d69-669016e261df\",\"type\":\"BasicTicker\"},{\"attributes\":{\"fill_alpha\":{\"value\":0.1},\"fill_color\":{\"value\":\"blue\"},\"line_alpha\":{\"value\":0.2},\"line_color\":{\"value\":\"blue\"},\"size\":{\"units\":\"screen\",\"value\":10},\"x\":{\"field\":\"x_coord\"},\"y\":{\"field\":\"y_coord\"}},\"id\":\"fd294405-e2c6-40f7-876e-45c4eb814a88\",\"type\":\"Circle\"},{\"attributes\":{\"callback\":null,\"tooltips\":\"@word\"},\"id\":\"d0964a17-ef54-4ed5-a744-62248c37a00b\",\"type\":\"HoverTool\"}],\"root_ids\":[\"894a928d-a2b5-48a1-b813-700ca7fb341a\"]},\"title\":\"Bokeh Application\",\"version\":\"0.12.10\"}};\n",
       "    var render_items = [{\"docid\":\"c99d64ad-d2a0-44fc-ac55-448337cf9954\",\"elementid\":\"7eb6d4ff-36ef-414c-b389-a362f7e5b12c\",\"modelid\":\"894a928d-a2b5-48a1-b813-700ca7fb341a\"}];\n",
       "\n",
       "    root.Bokeh.embed.embed_items(docs_json, render_items);\n",
       "  }\n",
       "\n",
       "  if (root.Bokeh !== undefined) {\n",
       "    embed_document(root);\n",
       "  } else {\n",
       "    var attempts = 0;\n",
       "    var timer = setInterval(function(root) {\n",
       "      if (root.Bokeh !== undefined) {\n",
       "        embed_document(root);\n",
       "        clearInterval(timer);\n",
       "      }\n",
       "      attempts++;\n",
       "      if (attempts > 100) {\n",
       "        console.log(\"Bokeh: ERROR: Unable to embed document because BokehJS library is missing\")\n",
       "        clearInterval(timer);\n",
       "      }\n",
       "    }, 10, root)\n",
       "  }\n",
       "})(window);"
      ],
      "application/vnd.bokehjs_exec.v0+json": ""
     },
     "metadata": {
      "application/vnd.bokehjs_exec.v0+json": {
       "id": "894a928d-a2b5-48a1-b813-700ca7fb341a"
      }
     },
     "output_type": "display_data"
    }
   ],
   "source": [
    "# add our DataFrame as a ColumnDataSource for Bokeh\n",
    "plot_data = ColumnDataSource(tsne_vectors)\n",
    "\n",
    "# create the plot and configure the\n",
    "# title, dimensions, and tools\n",
    "tsne_plot = figure(title=u't-SNE Word Embeddings',\n",
    "                   plot_width = 900,\n",
    "                   plot_height = 600,\n",
    "                   tools= (u'pan, wheel_zoom, box_zoom,'\n",
    "                           u'box_select, reset'),\n",
    "                   active_scroll=u'wheel_zoom')\n",
    "\n",
    "# add a hover tool to display words on roll-over\n",
    "tsne_plot.add_tools( HoverTool(tooltips = u'@word') )\n",
    "\n",
    "# draw the words as circles on the plot\n",
    "tsne_plot.circle(u'x_coord', u'y_coord', source=plot_data,\n",
    "                 color=u'blue', line_alpha=0.2, fill_alpha=0.1,\n",
    "                 size=10, hover_line_color=u'black')\n",
    "\n",
    "# configure visual elements of the plot\n",
    "tsne_plot.title.text_font_size = value(u'16pt')\n",
    "tsne_plot.xaxis.visible = False\n",
    "tsne_plot.yaxis.visible = False\n",
    "tsne_plot.grid.grid_line_color = None\n",
    "tsne_plot.outline_line_color = None\n",
    "\n",
    "# engage!\n",
    "show(tsne_plot);"
   ]
  },
  {
   "cell_type": "markdown",
   "metadata": {},
   "source": [
    "#### relevant and prevalent words by \"word2vec association\" and LDA rank "
   ]
  },
  {
   "cell_type": "markdown",
   "metadata": {},
   "source": [
    "this is to later on filter sentences for sentiment analysis"
   ]
  },
  {
   "cell_type": "code",
   "execution_count": 245,
   "metadata": {},
   "outputs": [
    {
     "name": "stdout",
     "output_type": "stream",
     "text": [
      "anti_fungal          0.852\n",
      "natural_antifungal   0.739\n",
      "oregano_oil          0.685\n",
      "caprylic_acid        0.654\n",
      "nystatin             0.648\n",
      "probiotic            0.645\n",
      "gse                  0.638\n",
      "sf722                0.633\n",
      "grapefruit_seed_extract 0.592\n",
      "diflucan             0.592\n",
      "coconut_oil          0.577\n",
      "natural_anti_fungal  0.575\n"
     ]
    },
    {
     "name": "stderr",
     "output_type": "stream",
     "text": [
      "/Users/eran/anaconda3/lib/python3.6/site-packages/ipykernel_launcher.py:7: DeprecationWarning: Call to deprecated `most_similar` (Method will be removed in 4.0.0, use self.wv.most_similar() instead).\n",
      "  import sys\n"
     ]
    }
   ],
   "source": [
    "fung=get_related_terms(u'antifungal',12)\n",
    "# fung.describe()['min']"
   ]
  },
  {
   "cell_type": "markdown",
   "metadata": {},
   "source": [
    "choose specific terms and not general (like Nystatin and not natural_antifungal), and do related terms again:"
   ]
  },
  {
   "cell_type": "markdown",
   "metadata": {},
   "source": [
    "by using 'sents_LDA.py' we see that nystatin is in several topics, but it is high up (in the 12th place) only in topic 3 - 'dietary restriction /natural treatment' (named by me)"
   ]
  },
  {
   "cell_type": "code",
   "execution_count": 247,
   "metadata": {},
   "outputs": [
    {
     "name": "stdout",
     "output_type": "stream",
     "text": [
      "diflucan             0.82\n",
      "fluconazole          0.759\n",
      "itraconazole         0.665\n",
      "lamisil              0.657\n",
      "ketoconazole         0.654\n",
      "terbinafine          0.651\n",
      "rx                   0.65\n",
      "clotrimazole         0.649\n",
      "antifungal           0.648\n",
      "nystatin_powder      0.629\n",
      "sf-722               0.602\n",
      "rx_antifungal        0.597\n",
      "oregano_oil          0.596\n"
     ]
    },
    {
     "name": "stderr",
     "output_type": "stream",
     "text": [
      "/Users/eran/anaconda3/lib/python3.6/site-packages/ipykernel_launcher.py:7: DeprecationWarning: Call to deprecated `most_similar` (Method will be removed in 4.0.0, use self.wv.most_similar() instead).\n",
      "  import sys\n"
     ]
    }
   ],
   "source": [
    "nys=get_related_terms(u'nystatin',13)"
   ]
  },
  {
   "cell_type": "markdown",
   "metadata": {},
   "source": [
    "let's continue with the \"association game\" let's choose fluconazole to see where it is and how prevalent:\n",
    "\n",
    "highest rank is in topic 7 - 'experience / feeling / symptom' but in the 2319, so not as prevalent    "
   ]
  },
  {
   "cell_type": "markdown",
   "metadata": {},
   "source": [
    "let's try - \"sf722\": rank 817 in topic 0 \"daily do's and dont's\"\n"
   ]
  },
  {
   "cell_type": "code",
   "execution_count": 248,
   "metadata": {
    "collapsed": true
   },
   "outputs": [],
   "source": [
    "from collections import Counter     \n"
   ]
  },
  {
   "cell_type": "code",
   "execution_count": null,
   "metadata": {
    "collapsed": true
   },
   "outputs": [],
   "source": [
    "Counter().most_common(5)"
   ]
  },
  {
   "cell_type": "markdown",
   "metadata": {},
   "source": [
    "#### The next cells are tied to sent_LDA.py in the algorithm section: \"find relevant sentences/words to treatment\" where we need to use word2Vec"
   ]
  },
  {
   "cell_type": "code",
   "execution_count": 251,
   "metadata": {},
   "outputs": [
    {
     "name": "stdout",
     "output_type": "stream",
     "text": [
      "therapy              0.562\n",
      "diet                 0.539\n",
      "journey              0.536\n",
      "recovery             0.532\n",
      "infestation          0.525\n",
      "program              0.506\n",
      "protocol             0.504\n",
      "healing              0.474\n",
      "stage                0.467\n",
      "healing_process      0.464\n",
      "treat                0.462\n",
      "cure                 0.452\n",
      "experimental         0.444\n",
      "elimination_diet     0.441\n",
      "diagnosis            0.436\n",
      "phase                0.436\n",
      "period               0.433\n",
      "career               0.432\n",
      "cleanse              0.43\n",
      "regime               0.429\n",
      "systemic             0.427\n",
      "regimen              0.427\n",
      "progress             0.421\n",
      "approach             0.42\n",
      "informed             0.416\n",
      "outcome              0.408\n",
      "phase_2              0.406\n",
      "fight_against        0.405\n",
      "azole                0.404\n",
      "jeopardize           0.404\n",
      "http://www.thecandidadiet.com/forum/yaf_postst1922_index-of-posts.aspx 0.404\n",
      "planning             0.403\n",
      "medical              0.403\n",
      "during               0.402\n",
      "shorten              0.402\n",
      "colonization         0.397\n",
      "phase_1              0.396\n",
      "illness              0.394\n",
      "recommend_consult    0.391\n",
      "stage_1_long_term    0.391\n",
      "antifungal           0.39\n",
      "pregnancy            0.39\n",
      "second_stage         0.389\n",
      "pharmaceutical_probiotic 0.388\n",
      "chelation            0.385\n",
      "stage_1              0.384\n",
      "diflucan             0.384\n",
      "prevention           0.382\n",
      "supervision          0.382\n",
      "successful           0.381\n"
     ]
    },
    {
     "name": "stderr",
     "output_type": "stream",
     "text": [
      "/Users/eran/anaconda3/lib/python3.6/site-packages/ipykernel_launcher.py:7: DeprecationWarning: Call to deprecated `most_similar` (Method will be removed in 4.0.0, use self.wv.most_similar() instead).\n",
      "  import sys\n"
     ]
    }
   ],
   "source": [
    "nys=get_related_terms(u'treatment',50) \n",
    "# general: treat,cure \n",
    "# specific: antifungal "
   ]
  },
  {
   "cell_type": "code",
   "execution_count": null,
   "metadata": {
    "collapsed": true
   },
   "outputs": [],
   "source": []
  }
 ],
 "metadata": {
  "kernelspec": {
   "display_name": "Python 3",
   "language": "python",
   "name": "python3"
  },
  "language_info": {
   "codemirror_mode": {
    "name": "ipython",
    "version": 3
   },
   "file_extension": ".py",
   "mimetype": "text/x-python",
   "name": "python",
   "nbconvert_exporter": "python",
   "pygments_lexer": "ipython3",
   "version": "3.6.3"
  }
 },
 "nbformat": 4,
 "nbformat_minor": 2
}
