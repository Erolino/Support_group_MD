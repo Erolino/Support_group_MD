{
 "cells": [
  {
   "cell_type": "markdown",
   "metadata": {},
   "source": [
    "# WORD2VEC"
   ]
  },
  {
   "cell_type": "code",
   "execution_count": 12,
   "metadata": {
    "collapsed": true
   },
   "outputs": [],
   "source": [
    "from os.path import join as joinp\n",
    "import pandas as pd\n",
    "import numpy as np\n",
    "import codecs\n",
    "import itertools as it\n",
    "import spacy\n",
    "import boto3\n",
    "from gensim.models import Phrases\n",
    "from gensim.models.word2vec import LineSentence\n",
    "\n",
    "nlp = spacy.load('en')\n",
    "\n",
    "spacy.lang.en.STOP_WORDS.add(\"-PRON-\")\n",
    "spacy.lang.en.STOP_WORDS.add(\"'\")"
   ]
  },
  {
   "cell_type": "code",
   "execution_count": 9,
   "metadata": {
    "collapsed": true
   },
   "outputs": [],
   "source": [
    "pilot_path='/Users/eran/Galvanize_more_repositories/Support_group_MD/pilot'  # thr directory with the final files of the project\n",
    "word_path='/Users/eran/Galvanize_more_repositories/Support_group_MD/word2vec_files'  # thr directory with the final files of the project\n"
   ]
  },
  {
   "cell_type": "markdown",
   "metadata": {},
   "source": [
    "importing word2vec"
   ]
  },
  {
   "cell_type": "code",
   "execution_count": 15,
   "metadata": {},
   "outputs": [
    {
     "data": {
      "text/plain": [
       "'/Users/eran/Galvanize_more_repositories/Support_group_MD/word2vec_files/word2vec_model_all'"
      ]
     },
     "execution_count": 15,
     "metadata": {},
     "output_type": "execute_result"
    }
   ],
   "source": [
    "from gensim.models import Word2Vec\n",
    "\n",
    "trigram_sentences = LineSentence(joinp(pilot_path,'trigram_sentences_all.txt'))\n",
    "# old: trigram_sentences = LineSentence(trigram_sentences_filepath)\n",
    "\n",
    "#word2vec_filepath = joinp(word_path, 'word2vec_model_all')\n",
    "joinp(word_path, 'word2vec_model_all')"
   ]
  },
  {
   "cell_type": "markdown",
   "metadata": {},
   "source": [
    "just to remember how trigram.. looks like"
   ]
  },
  {
   "cell_type": "code",
   "execution_count": 11,
   "metadata": {},
   "outputs": [
    {
     "name": "stdout",
     "output_type": "stream",
     "text": [
      "hii coconut_nectar and coconut_butter ok to have when treat candida\n",
      "\n",
      "thank for -PRON- help\n",
      "\n",
      "not sure about coconut_butter\n",
      "\n",
      "coconut_nectar would be a definite no because of the high natural sugar_content\n",
      "\n"
     ]
    }
   ],
   "source": [
    "with codecs.open(joinp(pilot_path,'trigram_sentences_all.txt'), encoding='utf_8') as f:\n",
    "    for sent in it.islice(f, 0, 4):\n",
    "        print(sent)"
   ]
  },
  {
   "cell_type": "code",
   "execution_count": 21,
   "metadata": {},
   "outputs": [
    {
     "name": "stderr",
     "output_type": "stream",
     "text": [
      "/Users/eran/anaconda3/lib/python3.6/site-packages/ipykernel_launcher.py:15: DeprecationWarning: Call to deprecated `iter` (Attribute will be removed in 4.0.0, use self.epochs instead).\n",
      "  from ipykernel import kernelapp as app\n"
     ]
    },
    {
     "name": "stdout",
     "output_type": "stream",
     "text": [
      "12 training epochs so far.\n",
      "CPU times: user 26min 13s, sys: 5.76 s, total: 26min 18s\n",
      "Wall time: 7min 28s\n"
     ]
    }
   ],
   "source": [
    "%%time\n",
    "\n",
    "# this is a bit time consuming - make the if statement True\n",
    "# if you want to train the word2vec model yourself.\n",
    "if 1 == 1:\n",
    "\n",
    "    # initiate the model and perform the first epoch of training\n",
    "    candi2vec = Word2Vec(trigram_sentences, size=100, window=5,\n",
    "                        min_count=20, sg=1, workers=4)\n",
    "    \n",
    "    #old: candi2vec.save(word2vec_filepath)\n",
    "    candi2vec.save(joinp(word_path, 'word2vec_model_all'))\n",
    "    # perform another 11 epochs of training\n",
    "    for i in range(1,12):\n",
    "\n",
    "        candi2vec.train(trigram_sentences,total_examples=candi2vec.corpus_count, epochs=candi2vec.iter,)\n",
    "        candi2vec.save(joinp(word_path, 'word2vec_model_all'))\n",
    "        \n",
    "# load the finished model from disk\n",
    "candi2vec = Word2Vec.load(joinp(word_path, 'word2vec_model_all'))\n",
    "candi2vec.init_sims()\n",
    "\n",
    "print(u'{} training epochs so far.'.format(candi2vec.train_count))"
   ]
  },
  {
   "cell_type": "code",
   "execution_count": 23,
   "metadata": {},
   "outputs": [
    {
     "name": "stdout",
     "output_type": "stream",
     "text": [
      "9,032 terms in the candi2vec vocabulary.\n"
     ]
    }
   ],
   "source": [
    "print(u'{:,} terms in the candi2vec vocabulary.'.format(len(candi2vec.wv.vocab))) "
   ]
  },
  {
   "cell_type": "markdown",
   "metadata": {},
   "source": [
    "Let's take a peek at the word vectors our model has learned. We'll create a pandas DataFrame with the terms as the row labels, and the 100 dimensions of the word vector model as the columns."
   ]
  },
  {
   "cell_type": "code",
   "execution_count": 27,
   "metadata": {
    "collapsed": true
   },
   "outputs": [],
   "source": [
    "from six import iteritems"
   ]
  },
  {
   "cell_type": "code",
   "execution_count": 36,
   "metadata": {},
   "outputs": [
    {
     "name": "stderr",
     "output_type": "stream",
     "text": [
      "/Users/eran/anaconda3/lib/python3.6/site-packages/ipykernel_launcher.py:13: DeprecationWarning: Call to deprecated `syn0` (Attribute will be removed in 4.0.0, use self.wv.vectors instead).\n",
      "  del sys.path[0]\n"
     ]
    }
   ],
   "source": [
    "# build a list of the terms, integer indices,\n",
    "# and term counts from the candi2vec model vocabulary\n",
    "ordered_vocab = [(term, voc.index, voc.count) for term, voc in candi2vec.wv.vocab.items()]\n",
    "\n",
    "# sort by the term counts, so the most common terms appear first\n",
    "ordered_vocab = sorted(ordered_vocab, key=lambda k: k[2])\n",
    "\n",
    "# unzip the terms, integer indices, and counts into separate lists\n",
    "ordered_terms, term_indices, term_counts = zip(*ordered_vocab)\n",
    "\n",
    "# create a DataFrame with the food2vec vectors as data,\n",
    "# and the terms as row labels\n",
    "word_vectors = pd.DataFrame(candi2vec.wv.syn0[term_indices, :], index=ordered_terms)"
   ]
  },
  {
   "cell_type": "code",
   "execution_count": 40,
   "metadata": {},
   "outputs": [
    {
     "name": "stdout",
     "output_type": "stream",
     "text": [
      "matrix shape: (9032, 100)\n"
     ]
    },
    {
     "data": {
      "text/html": [
       "<div>\n",
       "<style>\n",
       "    .dataframe thead tr:only-child th {\n",
       "        text-align: right;\n",
       "    }\n",
       "\n",
       "    .dataframe thead th {\n",
       "        text-align: left;\n",
       "    }\n",
       "\n",
       "    .dataframe tbody tr th {\n",
       "        vertical-align: top;\n",
       "    }\n",
       "</style>\n",
       "<table border=\"1\" class=\"dataframe\">\n",
       "  <thead>\n",
       "    <tr style=\"text-align: right;\">\n",
       "      <th></th>\n",
       "      <th>0</th>\n",
       "      <th>1</th>\n",
       "      <th>2</th>\n",
       "      <th>3</th>\n",
       "      <th>4</th>\n",
       "      <th>5</th>\n",
       "      <th>6</th>\n",
       "      <th>7</th>\n",
       "      <th>8</th>\n",
       "      <th>9</th>\n",
       "      <th>...</th>\n",
       "      <th>90</th>\n",
       "      <th>91</th>\n",
       "      <th>92</th>\n",
       "      <th>93</th>\n",
       "      <th>94</th>\n",
       "      <th>95</th>\n",
       "      <th>96</th>\n",
       "      <th>97</th>\n",
       "      <th>98</th>\n",
       "      <th>99</th>\n",
       "    </tr>\n",
       "  </thead>\n",
       "  <tbody>\n",
       "    <tr>\n",
       "      <th>nori</th>\n",
       "      <td>0.681589</td>\n",
       "      <td>0.086686</td>\n",
       "      <td>0.237987</td>\n",
       "      <td>0.628737</td>\n",
       "      <td>-0.286396</td>\n",
       "      <td>0.799993</td>\n",
       "      <td>-0.451227</td>\n",
       "      <td>0.068365</td>\n",
       "      <td>-0.874252</td>\n",
       "      <td>-0.267618</td>\n",
       "      <td>...</td>\n",
       "      <td>-0.492964</td>\n",
       "      <td>0.164013</td>\n",
       "      <td>-0.310790</td>\n",
       "      <td>0.293377</td>\n",
       "      <td>-0.286912</td>\n",
       "      <td>-0.445305</td>\n",
       "      <td>-0.250312</td>\n",
       "      <td>1.029296</td>\n",
       "      <td>-0.805014</td>\n",
       "      <td>-0.175689</td>\n",
       "    </tr>\n",
       "    <tr>\n",
       "      <th>read_elsewhere</th>\n",
       "      <td>0.499326</td>\n",
       "      <td>0.662274</td>\n",
       "      <td>-0.624381</td>\n",
       "      <td>-0.966111</td>\n",
       "      <td>-0.090979</td>\n",
       "      <td>0.385780</td>\n",
       "      <td>0.060170</td>\n",
       "      <td>-0.100796</td>\n",
       "      <td>0.475549</td>\n",
       "      <td>-0.234469</td>\n",
       "      <td>...</td>\n",
       "      <td>-0.340177</td>\n",
       "      <td>0.203632</td>\n",
       "      <td>-0.516947</td>\n",
       "      <td>-0.121309</td>\n",
       "      <td>-0.139134</td>\n",
       "      <td>0.094469</td>\n",
       "      <td>0.448722</td>\n",
       "      <td>-0.230956</td>\n",
       "      <td>0.101692</td>\n",
       "      <td>0.763892</td>\n",
       "    </tr>\n",
       "    <tr>\n",
       "      <th>rectal_itch</th>\n",
       "      <td>-0.146520</td>\n",
       "      <td>1.186770</td>\n",
       "      <td>-0.712997</td>\n",
       "      <td>-0.325527</td>\n",
       "      <td>0.082472</td>\n",
       "      <td>0.629991</td>\n",
       "      <td>-0.045502</td>\n",
       "      <td>-0.233636</td>\n",
       "      <td>-0.738069</td>\n",
       "      <td>0.720573</td>\n",
       "      <td>...</td>\n",
       "      <td>-0.402532</td>\n",
       "      <td>0.216625</td>\n",
       "      <td>0.037251</td>\n",
       "      <td>-0.271751</td>\n",
       "      <td>0.371983</td>\n",
       "      <td>-0.211234</td>\n",
       "      <td>-0.469016</td>\n",
       "      <td>0.126783</td>\n",
       "      <td>-1.030901</td>\n",
       "      <td>-0.219837</td>\n",
       "    </tr>\n",
       "    <tr>\n",
       "      <th>rope</th>\n",
       "      <td>-0.194221</td>\n",
       "      <td>0.404943</td>\n",
       "      <td>0.456506</td>\n",
       "      <td>1.566476</td>\n",
       "      <td>0.608982</td>\n",
       "      <td>-0.165681</td>\n",
       "      <td>0.101460</td>\n",
       "      <td>0.243865</td>\n",
       "      <td>-0.371924</td>\n",
       "      <td>-0.137304</td>\n",
       "      <td>...</td>\n",
       "      <td>-0.447617</td>\n",
       "      <td>-0.002306</td>\n",
       "      <td>-0.222654</td>\n",
       "      <td>-0.527519</td>\n",
       "      <td>0.343860</td>\n",
       "      <td>-0.207709</td>\n",
       "      <td>-0.494058</td>\n",
       "      <td>-1.052127</td>\n",
       "      <td>-0.821473</td>\n",
       "      <td>-0.119269</td>\n",
       "    </tr>\n",
       "    <tr>\n",
       "      <th>an_intestinal_overgrowth</th>\n",
       "      <td>-0.238418</td>\n",
       "      <td>0.164938</td>\n",
       "      <td>-0.127787</td>\n",
       "      <td>-0.495216</td>\n",
       "      <td>-0.585488</td>\n",
       "      <td>0.882389</td>\n",
       "      <td>-0.110022</td>\n",
       "      <td>-0.183745</td>\n",
       "      <td>0.140242</td>\n",
       "      <td>0.219921</td>\n",
       "      <td>...</td>\n",
       "      <td>-0.082567</td>\n",
       "      <td>0.454462</td>\n",
       "      <td>-0.015244</td>\n",
       "      <td>-0.180688</td>\n",
       "      <td>1.209564</td>\n",
       "      <td>0.139542</td>\n",
       "      <td>-0.616158</td>\n",
       "      <td>-0.308763</td>\n",
       "      <td>-0.305312</td>\n",
       "      <td>-0.171400</td>\n",
       "    </tr>\n",
       "  </tbody>\n",
       "</table>\n",
       "<p>5 rows × 100 columns</p>\n",
       "</div>"
      ],
      "text/plain": [
       "                                0         1         2         3         4   \\\n",
       "nori                      0.681589  0.086686  0.237987  0.628737 -0.286396   \n",
       "read_elsewhere            0.499326  0.662274 -0.624381 -0.966111 -0.090979   \n",
       "rectal_itch              -0.146520  1.186770 -0.712997 -0.325527  0.082472   \n",
       "rope                     -0.194221  0.404943  0.456506  1.566476  0.608982   \n",
       "an_intestinal_overgrowth -0.238418  0.164938 -0.127787 -0.495216 -0.585488   \n",
       "\n",
       "                                5         6         7         8         9   \\\n",
       "nori                      0.799993 -0.451227  0.068365 -0.874252 -0.267618   \n",
       "read_elsewhere            0.385780  0.060170 -0.100796  0.475549 -0.234469   \n",
       "rectal_itch               0.629991 -0.045502 -0.233636 -0.738069  0.720573   \n",
       "rope                     -0.165681  0.101460  0.243865 -0.371924 -0.137304   \n",
       "an_intestinal_overgrowth  0.882389 -0.110022 -0.183745  0.140242  0.219921   \n",
       "\n",
       "                            ...           90        91        92        93  \\\n",
       "nori                        ...    -0.492964  0.164013 -0.310790  0.293377   \n",
       "read_elsewhere              ...    -0.340177  0.203632 -0.516947 -0.121309   \n",
       "rectal_itch                 ...    -0.402532  0.216625  0.037251 -0.271751   \n",
       "rope                        ...    -0.447617 -0.002306 -0.222654 -0.527519   \n",
       "an_intestinal_overgrowth    ...    -0.082567  0.454462 -0.015244 -0.180688   \n",
       "\n",
       "                                94        95        96        97        98  \\\n",
       "nori                     -0.286912 -0.445305 -0.250312  1.029296 -0.805014   \n",
       "read_elsewhere           -0.139134  0.094469  0.448722 -0.230956  0.101692   \n",
       "rectal_itch               0.371983 -0.211234 -0.469016  0.126783 -1.030901   \n",
       "rope                      0.343860 -0.207709 -0.494058 -1.052127 -0.821473   \n",
       "an_intestinal_overgrowth  1.209564  0.139542 -0.616158 -0.308763 -0.305312   \n",
       "\n",
       "                                99  \n",
       "nori                     -0.175689  \n",
       "read_elsewhere            0.763892  \n",
       "rectal_itch              -0.219837  \n",
       "rope                     -0.119269  \n",
       "an_intestinal_overgrowth -0.171400  \n",
       "\n",
       "[5 rows x 100 columns]"
      ]
     },
     "execution_count": 40,
     "metadata": {},
     "output_type": "execute_result"
    }
   ],
   "source": [
    "print(\"matrix shape:\",word_vectors.shape)\n",
    "word_vectors.head()"
   ]
  },
  {
   "cell_type": "markdown",
   "metadata": {},
   "source": [
    "### most similar topics"
   ]
  },
  {
   "cell_type": "code",
   "execution_count": 41,
   "metadata": {
    "collapsed": true
   },
   "outputs": [],
   "source": [
    "def get_related_terms(token, topn=10):\n",
    "    \"\"\"\n",
    "    look up the topn most similar terms to token\n",
    "    and print them as a formatted list\n",
    "    \"\"\"\n",
    "\n",
    "    for word, similarity in candi2vec.most_similar(positive=[token], topn=topn):\n",
    "\n",
    "        print(u'{:20} {}'.format(word, round(similarity, 3)))"
   ]
  },
  {
   "cell_type": "code",
   "execution_count": 42,
   "metadata": {},
   "outputs": [
    {
     "name": "stdout",
     "output_type": "stream",
     "text": [
      "abx                  0.51\n",
      "round                0.505\n",
      "ppi_’s               0.504\n",
      "flagyl               0.498\n",
      "birth_control        0.486\n",
      "antibiotic           0.474\n",
      "nizoral              0.469\n",
      "tail                 0.462\n",
      "tylenol              0.461\n",
      "diflucan             0.461\n"
     ]
    },
    {
     "name": "stderr",
     "output_type": "stream",
     "text": [
      "/Users/eran/anaconda3/lib/python3.6/site-packages/ipykernel_launcher.py:7: DeprecationWarning: Call to deprecated `most_similar` (Method will be removed in 4.0.0, use self.wv.most_similar() instead).\n",
      "  import sys\n"
     ]
    }
   ],
   "source": [
    "get_related_terms(u'antibiotics')"
   ]
  },
  {
   "cell_type": "code",
   "execution_count": 43,
   "metadata": {},
   "outputs": [
    {
     "name": "stdout",
     "output_type": "stream",
     "text": [
      "ache                 0.762\n",
      "discomfort           0.753\n",
      "cramp                0.711\n",
      "muscle_pain          0.703\n",
      "bladder              0.672\n",
      "neck                 0.669\n",
      "chest                0.669\n",
      "nausea               0.668\n",
      "irritation           0.664\n",
      "joint_pain           0.664\n"
     ]
    },
    {
     "name": "stderr",
     "output_type": "stream",
     "text": [
      "/Users/eran/anaconda3/lib/python3.6/site-packages/ipykernel_launcher.py:7: DeprecationWarning: Call to deprecated `most_similar` (Method will be removed in 4.0.0, use self.wv.most_similar() instead).\n",
      "  import sys\n"
     ]
    }
   ],
   "source": [
    "get_related_terms(u'pain')"
   ]
  },
  {
   "cell_type": "code",
   "execution_count": 47,
   "metadata": {},
   "outputs": [
    {
     "name": "stdout",
     "output_type": "stream",
     "text": [
      "therapy              0.562\n",
      "diet                 0.539\n",
      "journey              0.536\n",
      "recovery             0.532\n",
      "infestation          0.525\n",
      "program              0.506\n",
      "protocol             0.504\n",
      "healing              0.474\n",
      "stage                0.467\n",
      "healing_process      0.464\n"
     ]
    },
    {
     "name": "stderr",
     "output_type": "stream",
     "text": [
      "/Users/eran/anaconda3/lib/python3.6/site-packages/ipykernel_launcher.py:7: DeprecationWarning: Call to deprecated `most_similar` (Method will be removed in 4.0.0, use self.wv.most_similar() instead).\n",
      "  import sys\n"
     ]
    }
   ],
   "source": [
    "get_related_terms(u'treatment')"
   ]
  },
  {
   "cell_type": "markdown",
   "metadata": {},
   "source": [
    "### word algebra"
   ]
  },
  {
   "cell_type": "markdown",
   "metadata": {},
   "source": [
    "### (+)"
   ]
  },
  {
   "cell_type": "code",
   "execution_count": 52,
   "metadata": {},
   "outputs": [],
   "source": [
    "def word_algebra(add=[], subtract=[], topn=3):\n",
    "    \"\"\"\n",
    "    combine the vectors associated with the words provided\n",
    "    in add= and subtract=, look up the topn most similar\n",
    "    terms to the combined vector, and print the result(s)\n",
    "    \"\"\"\n",
    "    answers = candi2vec.most_similar(positive=add, negative=subtract, topn=topn)\n",
    "    \n",
    "    for term, similarity in answers:\n",
    "        print(term)"
   ]
  },
  {
   "cell_type": "markdown",
   "metadata": {},
   "source": [
    "candida symptoms:\n",
    "    \n",
    "    candida + symptom = ?"
   ]
  },
  {
   "cell_type": "code",
   "execution_count": 70,
   "metadata": {},
   "outputs": [
    {
     "name": "stdout",
     "output_type": "stream",
     "text": [
      "candida_overgrowth\n",
      "oral_thrush\n",
      "yeast_infection\n",
      "brain_fog\n",
      "infestation\n",
      "thrush\n",
      "die_off_symptom\n",
      "fatigue\n",
      "candidiasis\n",
      "infection\n"
     ]
    },
    {
     "name": "stderr",
     "output_type": "stream",
     "text": [
      "/Users/eran/anaconda3/lib/python3.6/site-packages/ipykernel_launcher.py:7: DeprecationWarning: Call to deprecated `most_similar` (Method will be removed in 4.0.0, use self.wv.most_similar() instead).\n",
      "  import sys\n"
     ]
    }
   ],
   "source": [
    "word_algebra(add=[u'symptom',u'candida'],topn=10)"
   ]
  },
  {
   "cell_type": "code",
   "execution_count": 71,
   "metadata": {},
   "outputs": [
    {
     "name": "stdout",
     "output_type": "stream",
     "text": [
      "anti_fungal\n",
      "die_off_symptom\n",
      "sympton\n",
      "diflucan\n",
      "natural_antifungal\n",
      "die_off\n",
      "side_effect\n",
      "symtom\n",
      "oregano_oil\n",
      "brain_fog\n"
     ]
    },
    {
     "name": "stderr",
     "output_type": "stream",
     "text": [
      "/Users/eran/anaconda3/lib/python3.6/site-packages/ipykernel_launcher.py:7: DeprecationWarning: Call to deprecated `most_similar` (Method will be removed in 4.0.0, use self.wv.most_similar() instead).\n",
      "  import sys\n"
     ]
    }
   ],
   "source": [
    "word_algebra(add=[u'symptom',u'antifungal'],topn=10)"
   ]
  },
  {
   "cell_type": "markdown",
   "metadata": {},
   "source": [
    "### (-)"
   ]
  },
  {
   "cell_type": "markdown",
   "metadata": {},
   "source": [
    "skin is to rash : head is to? \n",
    "    \n",
    "rash - skin + head = ?\n",
    "\n",
    "(didn't work very well.)"
   ]
  },
  {
   "cell_type": "code",
   "execution_count": 66,
   "metadata": {},
   "outputs": [
    {
     "name": "stdout",
     "output_type": "stream",
     "text": [
      "arm\n",
      "elbow\n",
      "neck\n"
     ]
    },
    {
     "name": "stderr",
     "output_type": "stream",
     "text": [
      "/Users/eran/anaconda3/lib/python3.6/site-packages/ipykernel_launcher.py:7: DeprecationWarning: Call to deprecated `most_similar` (Method will be removed in 4.0.0, use self.wv.most_similar() instead).\n",
      "  import sys\n"
     ]
    }
   ],
   "source": [
    "word_algebra(add=[u'rash',u'head'],subtract=[u'skin'])"
   ]
  },
  {
   "cell_type": "markdown",
   "metadata": {},
   "source": [
    "## Word Vector Visualization with t-SNE¶"
   ]
  },
  {
   "cell_type": "markdown",
   "metadata": {},
   "source": [
    "[t-Distributed Stochastic Neighbor Embedding](https://lvdmaaten.github.io/publications/papers/JMLR_2008.pdf), or *t-SNE* for short, is a dimensionality reduction technique to assist with visualizing high-dimensional datasets. It attempts to map high-dimensional data onto a low two- or three-dimensional representation such that the relative distances between points are preserved as closely as possible in both high-dimensional and low-dimensional space.\n",
    "\n",
    "scikit-learn provides a convenient implementation of the t-SNE algorithm with its [TSNE](http://scikit-learn.org/stable/modules/generated/sklearn.manifold.TSNE.html) class."
   ]
  },
  {
   "cell_type": "code",
   "execution_count": 72,
   "metadata": {
    "collapsed": true
   },
   "outputs": [],
   "source": [
    "from sklearn.manifold import TSNE"
   ]
  },
  {
   "cell_type": "code",
   "execution_count": 77,
   "metadata": {
    "collapsed": true
   },
   "outputs": [],
   "source": [
    "import pickle\n",
    "spacy.lang.en.STOP_WORDS.add(\"-PRON-\")\n",
    "spacy.lang.en.STOP_WORDS.add(\"'\")\n",
    "spacy.lang.en.STOP_WORDS.add(\"’\")\n",
    "spacy.lang.en.STOP_WORDS.add(\"-\")\n",
    "\n",
    "tsne_input = word_vectors.drop(spacy.lang.en.STOP_WORDS, errors=u'ignore')\n",
    "tsne_input = tsne_input.head(3000)"
   ]
  },
  {
   "cell_type": "code",
   "execution_count": 74,
   "metadata": {},
   "outputs": [
    {
     "data": {
      "text/html": [
       "<div>\n",
       "<style>\n",
       "    .dataframe thead tr:only-child th {\n",
       "        text-align: right;\n",
       "    }\n",
       "\n",
       "    .dataframe thead th {\n",
       "        text-align: left;\n",
       "    }\n",
       "\n",
       "    .dataframe tbody tr th {\n",
       "        vertical-align: top;\n",
       "    }\n",
       "</style>\n",
       "<table border=\"1\" class=\"dataframe\">\n",
       "  <thead>\n",
       "    <tr style=\"text-align: right;\">\n",
       "      <th></th>\n",
       "      <th>0</th>\n",
       "      <th>1</th>\n",
       "      <th>2</th>\n",
       "      <th>3</th>\n",
       "      <th>4</th>\n",
       "      <th>5</th>\n",
       "      <th>6</th>\n",
       "      <th>7</th>\n",
       "      <th>8</th>\n",
       "      <th>9</th>\n",
       "      <th>...</th>\n",
       "      <th>90</th>\n",
       "      <th>91</th>\n",
       "      <th>92</th>\n",
       "      <th>93</th>\n",
       "      <th>94</th>\n",
       "      <th>95</th>\n",
       "      <th>96</th>\n",
       "      <th>97</th>\n",
       "      <th>98</th>\n",
       "      <th>99</th>\n",
       "    </tr>\n",
       "  </thead>\n",
       "  <tbody>\n",
       "    <tr>\n",
       "      <th>nori</th>\n",
       "      <td>0.681589</td>\n",
       "      <td>0.086686</td>\n",
       "      <td>0.237987</td>\n",
       "      <td>0.628737</td>\n",
       "      <td>-0.286396</td>\n",
       "      <td>0.799993</td>\n",
       "      <td>-0.451227</td>\n",
       "      <td>0.068365</td>\n",
       "      <td>-0.874252</td>\n",
       "      <td>-0.267618</td>\n",
       "      <td>...</td>\n",
       "      <td>-0.492964</td>\n",
       "      <td>0.164013</td>\n",
       "      <td>-0.310790</td>\n",
       "      <td>0.293377</td>\n",
       "      <td>-0.286912</td>\n",
       "      <td>-0.445305</td>\n",
       "      <td>-0.250312</td>\n",
       "      <td>1.029296</td>\n",
       "      <td>-0.805014</td>\n",
       "      <td>-0.175689</td>\n",
       "    </tr>\n",
       "    <tr>\n",
       "      <th>read_elsewhere</th>\n",
       "      <td>0.499326</td>\n",
       "      <td>0.662274</td>\n",
       "      <td>-0.624381</td>\n",
       "      <td>-0.966111</td>\n",
       "      <td>-0.090979</td>\n",
       "      <td>0.385780</td>\n",
       "      <td>0.060170</td>\n",
       "      <td>-0.100796</td>\n",
       "      <td>0.475549</td>\n",
       "      <td>-0.234469</td>\n",
       "      <td>...</td>\n",
       "      <td>-0.340177</td>\n",
       "      <td>0.203632</td>\n",
       "      <td>-0.516947</td>\n",
       "      <td>-0.121309</td>\n",
       "      <td>-0.139134</td>\n",
       "      <td>0.094469</td>\n",
       "      <td>0.448722</td>\n",
       "      <td>-0.230956</td>\n",
       "      <td>0.101692</td>\n",
       "      <td>0.763892</td>\n",
       "    </tr>\n",
       "    <tr>\n",
       "      <th>rectal_itch</th>\n",
       "      <td>-0.146520</td>\n",
       "      <td>1.186770</td>\n",
       "      <td>-0.712997</td>\n",
       "      <td>-0.325527</td>\n",
       "      <td>0.082472</td>\n",
       "      <td>0.629991</td>\n",
       "      <td>-0.045502</td>\n",
       "      <td>-0.233636</td>\n",
       "      <td>-0.738069</td>\n",
       "      <td>0.720573</td>\n",
       "      <td>...</td>\n",
       "      <td>-0.402532</td>\n",
       "      <td>0.216625</td>\n",
       "      <td>0.037251</td>\n",
       "      <td>-0.271751</td>\n",
       "      <td>0.371983</td>\n",
       "      <td>-0.211234</td>\n",
       "      <td>-0.469016</td>\n",
       "      <td>0.126783</td>\n",
       "      <td>-1.030901</td>\n",
       "      <td>-0.219837</td>\n",
       "    </tr>\n",
       "    <tr>\n",
       "      <th>rope</th>\n",
       "      <td>-0.194221</td>\n",
       "      <td>0.404943</td>\n",
       "      <td>0.456506</td>\n",
       "      <td>1.566476</td>\n",
       "      <td>0.608982</td>\n",
       "      <td>-0.165681</td>\n",
       "      <td>0.101460</td>\n",
       "      <td>0.243865</td>\n",
       "      <td>-0.371924</td>\n",
       "      <td>-0.137304</td>\n",
       "      <td>...</td>\n",
       "      <td>-0.447617</td>\n",
       "      <td>-0.002306</td>\n",
       "      <td>-0.222654</td>\n",
       "      <td>-0.527519</td>\n",
       "      <td>0.343860</td>\n",
       "      <td>-0.207709</td>\n",
       "      <td>-0.494058</td>\n",
       "      <td>-1.052127</td>\n",
       "      <td>-0.821473</td>\n",
       "      <td>-0.119269</td>\n",
       "    </tr>\n",
       "    <tr>\n",
       "      <th>an_intestinal_overgrowth</th>\n",
       "      <td>-0.238418</td>\n",
       "      <td>0.164938</td>\n",
       "      <td>-0.127787</td>\n",
       "      <td>-0.495216</td>\n",
       "      <td>-0.585488</td>\n",
       "      <td>0.882389</td>\n",
       "      <td>-0.110022</td>\n",
       "      <td>-0.183745</td>\n",
       "      <td>0.140242</td>\n",
       "      <td>0.219921</td>\n",
       "      <td>...</td>\n",
       "      <td>-0.082567</td>\n",
       "      <td>0.454462</td>\n",
       "      <td>-0.015244</td>\n",
       "      <td>-0.180688</td>\n",
       "      <td>1.209564</td>\n",
       "      <td>0.139542</td>\n",
       "      <td>-0.616158</td>\n",
       "      <td>-0.308763</td>\n",
       "      <td>-0.305312</td>\n",
       "      <td>-0.171400</td>\n",
       "    </tr>\n",
       "  </tbody>\n",
       "</table>\n",
       "<p>5 rows × 100 columns</p>\n",
       "</div>"
      ],
      "text/plain": [
       "                                0         1         2         3         4   \\\n",
       "nori                      0.681589  0.086686  0.237987  0.628737 -0.286396   \n",
       "read_elsewhere            0.499326  0.662274 -0.624381 -0.966111 -0.090979   \n",
       "rectal_itch              -0.146520  1.186770 -0.712997 -0.325527  0.082472   \n",
       "rope                     -0.194221  0.404943  0.456506  1.566476  0.608982   \n",
       "an_intestinal_overgrowth -0.238418  0.164938 -0.127787 -0.495216 -0.585488   \n",
       "\n",
       "                                5         6         7         8         9   \\\n",
       "nori                      0.799993 -0.451227  0.068365 -0.874252 -0.267618   \n",
       "read_elsewhere            0.385780  0.060170 -0.100796  0.475549 -0.234469   \n",
       "rectal_itch               0.629991 -0.045502 -0.233636 -0.738069  0.720573   \n",
       "rope                     -0.165681  0.101460  0.243865 -0.371924 -0.137304   \n",
       "an_intestinal_overgrowth  0.882389 -0.110022 -0.183745  0.140242  0.219921   \n",
       "\n",
       "                            ...           90        91        92        93  \\\n",
       "nori                        ...    -0.492964  0.164013 -0.310790  0.293377   \n",
       "read_elsewhere              ...    -0.340177  0.203632 -0.516947 -0.121309   \n",
       "rectal_itch                 ...    -0.402532  0.216625  0.037251 -0.271751   \n",
       "rope                        ...    -0.447617 -0.002306 -0.222654 -0.527519   \n",
       "an_intestinal_overgrowth    ...    -0.082567  0.454462 -0.015244 -0.180688   \n",
       "\n",
       "                                94        95        96        97        98  \\\n",
       "nori                     -0.286912 -0.445305 -0.250312  1.029296 -0.805014   \n",
       "read_elsewhere           -0.139134  0.094469  0.448722 -0.230956  0.101692   \n",
       "rectal_itch               0.371983 -0.211234 -0.469016  0.126783 -1.030901   \n",
       "rope                      0.343860 -0.207709 -0.494058 -1.052127 -0.821473   \n",
       "an_intestinal_overgrowth  1.209564  0.139542 -0.616158 -0.308763 -0.305312   \n",
       "\n",
       "                                99  \n",
       "nori                     -0.175689  \n",
       "read_elsewhere            0.763892  \n",
       "rectal_itch              -0.219837  \n",
       "rope                     -0.119269  \n",
       "an_intestinal_overgrowth -0.171400  \n",
       "\n",
       "[5 rows x 100 columns]"
      ]
     },
     "execution_count": 74,
     "metadata": {},
     "output_type": "execute_result"
    }
   ],
   "source": [
    "tsne_input.head()"
   ]
  },
  {
   "cell_type": "code",
   "execution_count": 75,
   "metadata": {
    "collapsed": true
   },
   "outputs": [],
   "source": [
    "tsne_filepath = joinp(word_path,u'tsne_model')\n",
    "\n",
    "tsne_vectors_filepath = joinp(word_path,u'tsne_vectors.npy')"
   ]
  },
  {
   "cell_type": "code",
   "execution_count": 79,
   "metadata": {},
   "outputs": [
    {
     "name": "stdout",
     "output_type": "stream",
     "text": [
      "CPU times: user 1min 20s, sys: 6.62 s, total: 1min 27s\n",
      "Wall time: 1min 28s\n"
     ]
    }
   ],
   "source": [
    "%%time\n",
    "\n",
    "if 1 == 1:\n",
    "    \n",
    "    tsne = TSNE()\n",
    "    tsne_vectors = tsne.fit_transform(tsne_input.values)\n",
    "    \n",
    "    #with open(joinp(pilot_path,'ldavis_25'), 'wb') as f:\n",
    "       # pickle.dump(LDAvis_prepared, f)\n",
    "        \n",
    "    with open(tsne_filepath, 'wb') as f:\n",
    "        pickle.dump(tsne, f)\n",
    "\n",
    "    pd.np.save(tsne_vectors_filepath, tsne_vectors)\n",
    "    \n",
    "with codecs.open(tsne_filepath,'rb') as f:\n",
    "    tsne = pickle.load(f)\n",
    "    \n",
    "tsne_vectors = pd.np.load(tsne_vectors_filepath)\n",
    "\n",
    "tsne_vectors = pd.DataFrame(tsne_vectors,\n",
    "                            index=pd.Index(tsne_input.index),\n",
    "                            columns=[u'x_coord', u'y_coord'])"
   ]
  },
  {
   "cell_type": "code",
   "execution_count": 80,
   "metadata": {},
   "outputs": [
    {
     "data": {
      "text/html": [
       "<div>\n",
       "<style>\n",
       "    .dataframe thead tr:only-child th {\n",
       "        text-align: right;\n",
       "    }\n",
       "\n",
       "    .dataframe thead th {\n",
       "        text-align: left;\n",
       "    }\n",
       "\n",
       "    .dataframe tbody tr th {\n",
       "        vertical-align: top;\n",
       "    }\n",
       "</style>\n",
       "<table border=\"1\" class=\"dataframe\">\n",
       "  <thead>\n",
       "    <tr style=\"text-align: right;\">\n",
       "      <th></th>\n",
       "      <th>x_coord</th>\n",
       "      <th>y_coord</th>\n",
       "    </tr>\n",
       "  </thead>\n",
       "  <tbody>\n",
       "    <tr>\n",
       "      <th>nori</th>\n",
       "      <td>-32.414089</td>\n",
       "      <td>4.430001</td>\n",
       "    </tr>\n",
       "    <tr>\n",
       "      <th>read_elsewhere</th>\n",
       "      <td>-1.827348</td>\n",
       "      <td>24.623209</td>\n",
       "    </tr>\n",
       "    <tr>\n",
       "      <th>rectal_itch</th>\n",
       "      <td>26.511175</td>\n",
       "      <td>-11.523407</td>\n",
       "    </tr>\n",
       "    <tr>\n",
       "      <th>rope</th>\n",
       "      <td>11.826066</td>\n",
       "      <td>6.896718</td>\n",
       "    </tr>\n",
       "    <tr>\n",
       "      <th>an_intestinal_overgrowth</th>\n",
       "      <td>28.036572</td>\n",
       "      <td>-1.203107</td>\n",
       "    </tr>\n",
       "  </tbody>\n",
       "</table>\n",
       "</div>"
      ],
      "text/plain": [
       "                            x_coord    y_coord\n",
       "nori                     -32.414089   4.430001\n",
       "read_elsewhere            -1.827348  24.623209\n",
       "rectal_itch               26.511175 -11.523407\n",
       "rope                      11.826066   6.896718\n",
       "an_intestinal_overgrowth  28.036572  -1.203107"
      ]
     },
     "execution_count": 80,
     "metadata": {},
     "output_type": "execute_result"
    }
   ],
   "source": [
    "# now we have 2 dimentional space:\n",
    "tsne_vectors.head()"
   ]
  },
  {
   "cell_type": "markdown",
   "metadata": {},
   "source": [
    "### Plotting with Bokeh"
   ]
  },
  {
   "cell_type": "code",
   "execution_count": 87,
   "metadata": {},
   "outputs": [
    {
     "data": {
      "text/html": [
       "\n",
       "    <div class=\"bk-root\">\n",
       "        <a href=\"https://bokeh.pydata.org\" target=\"_blank\" class=\"bk-logo bk-logo-small bk-logo-notebook\"></a>\n",
       "        <span id=\"dfedafe6-17ea-4d79-8b7b-1a6356c2038b\">Loading BokehJS ...</span>\n",
       "    </div>"
      ]
     },
     "metadata": {},
     "output_type": "display_data"
    },
    {
     "data": {
      "application/javascript": [
       "\n",
       "(function(root) {\n",
       "  function now() {\n",
       "    return new Date();\n",
       "  }\n",
       "\n",
       "  var force = true;\n",
       "\n",
       "  if (typeof (root._bokeh_onload_callbacks) === \"undefined\" || force === true) {\n",
       "    root._bokeh_onload_callbacks = [];\n",
       "    root._bokeh_is_loading = undefined;\n",
       "  }\n",
       "\n",
       "  var JS_MIME_TYPE = 'application/javascript';\n",
       "  var HTML_MIME_TYPE = 'text/html';\n",
       "  var EXEC_MIME_TYPE = 'application/vnd.bokehjs_exec.v0+json';\n",
       "  var CLASS_NAME = 'output_bokeh rendered_html';\n",
       "\n",
       "  /**\n",
       "   * Render data to the DOM node\n",
       "   */\n",
       "  function render(props, node) {\n",
       "    var script = document.createElement(\"script\");\n",
       "    node.appendChild(script);\n",
       "  }\n",
       "\n",
       "  /**\n",
       "   * Handle when an output is cleared or removed\n",
       "   */\n",
       "  function handleClearOutput(event, handle) {\n",
       "    var cell = handle.cell;\n",
       "\n",
       "    var id = cell.output_area._bokeh_element_id;\n",
       "    var server_id = cell.output_area._bokeh_server_id;\n",
       "    // Clean up Bokeh references\n",
       "    if (id !== undefined) {\n",
       "      Bokeh.index[id].model.document.clear();\n",
       "      delete Bokeh.index[id];\n",
       "    }\n",
       "\n",
       "    if (server_id !== undefined) {\n",
       "      // Clean up Bokeh references\n",
       "      var cmd = \"from bokeh.io.state import curstate; print(curstate().uuid_to_server['\" + server_id + \"'].get_sessions()[0].document.roots[0]._id)\";\n",
       "      cell.notebook.kernel.execute(cmd, {\n",
       "        iopub: {\n",
       "          output: function(msg) {\n",
       "            var element_id = msg.content.text.trim();\n",
       "            Bokeh.index[element_id].model.document.clear();\n",
       "            delete Bokeh.index[element_id];\n",
       "          }\n",
       "        }\n",
       "      });\n",
       "      // Destroy server and session\n",
       "      var cmd = \"import bokeh.io.notebook as ion; ion.destroy_server('\" + server_id + \"')\";\n",
       "      cell.notebook.kernel.execute(cmd);\n",
       "    }\n",
       "  }\n",
       "\n",
       "  /**\n",
       "   * Handle when a new output is added\n",
       "   */\n",
       "  function handleAddOutput(event, handle) {\n",
       "    var output_area = handle.output_area;\n",
       "    var output = handle.output;\n",
       "\n",
       "    // limit handleAddOutput to display_data with EXEC_MIME_TYPE content only\n",
       "    if ((output.output_type != \"display_data\") || (!output.data.hasOwnProperty(EXEC_MIME_TYPE))) {\n",
       "      return\n",
       "    }\n",
       "\n",
       "    var toinsert = output_area.element.find(`.${CLASS_NAME.split(' ')[0]}`);\n",
       "\n",
       "    if (output.metadata[EXEC_MIME_TYPE][\"id\"] !== undefined) {\n",
       "      toinsert[0].firstChild.textContent = output.data[JS_MIME_TYPE];\n",
       "      // store reference to embed id on output_area\n",
       "      output_area._bokeh_element_id = output.metadata[EXEC_MIME_TYPE][\"id\"];\n",
       "    }\n",
       "    if (output.metadata[EXEC_MIME_TYPE][\"server_id\"] !== undefined) {\n",
       "      var bk_div = document.createElement(\"div\");\n",
       "      bk_div.innerHTML = output.data[HTML_MIME_TYPE];\n",
       "      var script_attrs = bk_div.children[0].attributes;\n",
       "      for (var i = 0; i < script_attrs.length; i++) {\n",
       "        toinsert[0].firstChild.setAttribute(script_attrs[i].name, script_attrs[i].value);\n",
       "      }\n",
       "      // store reference to server id on output_area\n",
       "      output_area._bokeh_server_id = output.metadata[EXEC_MIME_TYPE][\"server_id\"];\n",
       "    }\n",
       "  }\n",
       "\n",
       "  function register_renderer(events, OutputArea) {\n",
       "\n",
       "    function append_mime(data, metadata, element) {\n",
       "      // create a DOM node to render to\n",
       "      var toinsert = this.create_output_subarea(\n",
       "        metadata,\n",
       "        CLASS_NAME,\n",
       "        EXEC_MIME_TYPE\n",
       "      );\n",
       "      this.keyboard_manager.register_events(toinsert);\n",
       "      // Render to node\n",
       "      var props = {data: data, metadata: metadata[EXEC_MIME_TYPE]};\n",
       "      render(props, toinsert[0]);\n",
       "      element.append(toinsert);\n",
       "      return toinsert\n",
       "    }\n",
       "\n",
       "    /* Handle when an output is cleared or removed */\n",
       "    events.on('clear_output.CodeCell', handleClearOutput);\n",
       "    events.on('delete.Cell', handleClearOutput);\n",
       "\n",
       "    /* Handle when a new output is added */\n",
       "    events.on('output_added.OutputArea', handleAddOutput);\n",
       "\n",
       "    /**\n",
       "     * Register the mime type and append_mime function with output_area\n",
       "     */\n",
       "    OutputArea.prototype.register_mime_type(EXEC_MIME_TYPE, append_mime, {\n",
       "      /* Is output safe? */\n",
       "      safe: true,\n",
       "      /* Index of renderer in `output_area.display_order` */\n",
       "      index: 0\n",
       "    });\n",
       "  }\n",
       "\n",
       "  // register the mime type if in Jupyter Notebook environment and previously unregistered\n",
       "  if (root.Jupyter !== undefined) {\n",
       "    var events = require('base/js/events');\n",
       "    var OutputArea = require('notebook/js/outputarea').OutputArea;\n",
       "\n",
       "    if (OutputArea.prototype.mime_types().indexOf(EXEC_MIME_TYPE) == -1) {\n",
       "      register_renderer(events, OutputArea);\n",
       "    }\n",
       "  }\n",
       "\n",
       "  \n",
       "  if (typeof (root._bokeh_timeout) === \"undefined\" || force === true) {\n",
       "    root._bokeh_timeout = Date.now() + 5000;\n",
       "    root._bokeh_failed_load = false;\n",
       "  }\n",
       "\n",
       "  var NB_LOAD_WARNING = {'data': {'text/html':\n",
       "     \"<div style='background-color: #fdd'>\\n\"+\n",
       "     \"<p>\\n\"+\n",
       "     \"BokehJS does not appear to have successfully loaded. If loading BokehJS from CDN, this \\n\"+\n",
       "     \"may be due to a slow or bad network connection. Possible fixes:\\n\"+\n",
       "     \"</p>\\n\"+\n",
       "     \"<ul>\\n\"+\n",
       "     \"<li>re-rerun `output_notebook()` to attempt to load from CDN again, or</li>\\n\"+\n",
       "     \"<li>use INLINE resources instead, as so:</li>\\n\"+\n",
       "     \"</ul>\\n\"+\n",
       "     \"<code>\\n\"+\n",
       "     \"from bokeh.resources import INLINE\\n\"+\n",
       "     \"output_notebook(resources=INLINE)\\n\"+\n",
       "     \"</code>\\n\"+\n",
       "     \"</div>\"}};\n",
       "\n",
       "  function display_loaded() {\n",
       "    var el = document.getElementById(\"dfedafe6-17ea-4d79-8b7b-1a6356c2038b\");\n",
       "    if (el != null) {\n",
       "      el.textContent = \"BokehJS is loading...\";\n",
       "    }\n",
       "    if (root.Bokeh !== undefined) {\n",
       "      if (el != null) {\n",
       "        el.textContent = \"BokehJS \" + root.Bokeh.version + \" successfully loaded.\";\n",
       "      }\n",
       "    } else if (Date.now() < root._bokeh_timeout) {\n",
       "      setTimeout(display_loaded, 100)\n",
       "    }\n",
       "  }\n",
       "\n",
       "\n",
       "  function run_callbacks() {\n",
       "    try {\n",
       "      root._bokeh_onload_callbacks.forEach(function(callback) { callback() });\n",
       "    }\n",
       "    finally {\n",
       "      delete root._bokeh_onload_callbacks\n",
       "    }\n",
       "    console.info(\"Bokeh: all callbacks have finished\");\n",
       "  }\n",
       "\n",
       "  function load_libs(js_urls, callback) {\n",
       "    root._bokeh_onload_callbacks.push(callback);\n",
       "    if (root._bokeh_is_loading > 0) {\n",
       "      console.log(\"Bokeh: BokehJS is being loaded, scheduling callback at\", now());\n",
       "      return null;\n",
       "    }\n",
       "    if (js_urls == null || js_urls.length === 0) {\n",
       "      run_callbacks();\n",
       "      return null;\n",
       "    }\n",
       "    console.log(\"Bokeh: BokehJS not loaded, scheduling load and callback at\", now());\n",
       "    root._bokeh_is_loading = js_urls.length;\n",
       "    for (var i = 0; i < js_urls.length; i++) {\n",
       "      var url = js_urls[i];\n",
       "      var s = document.createElement('script');\n",
       "      s.src = url;\n",
       "      s.async = false;\n",
       "      s.onreadystatechange = s.onload = function() {\n",
       "        root._bokeh_is_loading--;\n",
       "        if (root._bokeh_is_loading === 0) {\n",
       "          console.log(\"Bokeh: all BokehJS libraries loaded\");\n",
       "          run_callbacks()\n",
       "        }\n",
       "      };\n",
       "      s.onerror = function() {\n",
       "        console.warn(\"failed to load library \" + url);\n",
       "      };\n",
       "      console.log(\"Bokeh: injecting script tag for BokehJS library: \", url);\n",
       "      document.getElementsByTagName(\"head\")[0].appendChild(s);\n",
       "    }\n",
       "  };var element = document.getElementById(\"dfedafe6-17ea-4d79-8b7b-1a6356c2038b\");\n",
       "  if (element == null) {\n",
       "    console.log(\"Bokeh: ERROR: autoload.js configured with elementid 'dfedafe6-17ea-4d79-8b7b-1a6356c2038b' but no matching script tag was found. \")\n",
       "    return false;\n",
       "  }\n",
       "\n",
       "  var js_urls = [\"https://cdn.pydata.org/bokeh/release/bokeh-0.12.10.min.js\", \"https://cdn.pydata.org/bokeh/release/bokeh-widgets-0.12.10.min.js\", \"https://cdn.pydata.org/bokeh/release/bokeh-tables-0.12.10.min.js\", \"https://cdn.pydata.org/bokeh/release/bokeh-gl-0.12.10.min.js\"];\n",
       "\n",
       "  var inline_js = [\n",
       "    function(Bokeh) {\n",
       "      Bokeh.set_log_level(\"info\");\n",
       "    },\n",
       "    \n",
       "    function(Bokeh) {\n",
       "      \n",
       "    },\n",
       "    function(Bokeh) {\n",
       "      console.log(\"Bokeh: injecting CSS: https://cdn.pydata.org/bokeh/release/bokeh-0.12.10.min.css\");\n",
       "      Bokeh.embed.inject_css(\"https://cdn.pydata.org/bokeh/release/bokeh-0.12.10.min.css\");\n",
       "      console.log(\"Bokeh: injecting CSS: https://cdn.pydata.org/bokeh/release/bokeh-widgets-0.12.10.min.css\");\n",
       "      Bokeh.embed.inject_css(\"https://cdn.pydata.org/bokeh/release/bokeh-widgets-0.12.10.min.css\");\n",
       "      console.log(\"Bokeh: injecting CSS: https://cdn.pydata.org/bokeh/release/bokeh-tables-0.12.10.min.css\");\n",
       "      Bokeh.embed.inject_css(\"https://cdn.pydata.org/bokeh/release/bokeh-tables-0.12.10.min.css\");\n",
       "    }\n",
       "  ];\n",
       "\n",
       "  function run_inline_js() {\n",
       "    \n",
       "    if ((root.Bokeh !== undefined) || (force === true)) {\n",
       "      for (var i = 0; i < inline_js.length; i++) {\n",
       "        inline_js[i].call(root, root.Bokeh);\n",
       "      }if (force === true) {\n",
       "        display_loaded();\n",
       "      }} else if (Date.now() < root._bokeh_timeout) {\n",
       "      setTimeout(run_inline_js, 100);\n",
       "    } else if (!root._bokeh_failed_load) {\n",
       "      console.log(\"Bokeh: BokehJS failed to load within specified timeout.\");\n",
       "      root._bokeh_failed_load = true;\n",
       "    } else if (force !== true) {\n",
       "      var cell = $(document.getElementById(\"dfedafe6-17ea-4d79-8b7b-1a6356c2038b\")).parents('.cell').data().cell;\n",
       "      cell.output_area.append_execute_result(NB_LOAD_WARNING)\n",
       "    }\n",
       "\n",
       "  }\n",
       "\n",
       "  if (root._bokeh_is_loading === 0) {\n",
       "    console.log(\"Bokeh: BokehJS loaded, going straight to plotting\");\n",
       "    run_inline_js();\n",
       "  } else {\n",
       "    load_libs(js_urls, function() {\n",
       "      console.log(\"Bokeh: BokehJS plotting callback run at\", now());\n",
       "      run_inline_js();\n",
       "    });\n",
       "  }\n",
       "}(window));"
      ],
      "application/vnd.bokehjs_load.v0+json": "\n(function(root) {\n  function now() {\n    return new Date();\n  }\n\n  var force = true;\n\n  if (typeof (root._bokeh_onload_callbacks) === \"undefined\" || force === true) {\n    root._bokeh_onload_callbacks = [];\n    root._bokeh_is_loading = undefined;\n  }\n\n  \n\n  \n  if (typeof (root._bokeh_timeout) === \"undefined\" || force === true) {\n    root._bokeh_timeout = Date.now() + 5000;\n    root._bokeh_failed_load = false;\n  }\n\n  var NB_LOAD_WARNING = {'data': {'text/html':\n     \"<div style='background-color: #fdd'>\\n\"+\n     \"<p>\\n\"+\n     \"BokehJS does not appear to have successfully loaded. If loading BokehJS from CDN, this \\n\"+\n     \"may be due to a slow or bad network connection. Possible fixes:\\n\"+\n     \"</p>\\n\"+\n     \"<ul>\\n\"+\n     \"<li>re-rerun `output_notebook()` to attempt to load from CDN again, or</li>\\n\"+\n     \"<li>use INLINE resources instead, as so:</li>\\n\"+\n     \"</ul>\\n\"+\n     \"<code>\\n\"+\n     \"from bokeh.resources import INLINE\\n\"+\n     \"output_notebook(resources=INLINE)\\n\"+\n     \"</code>\\n\"+\n     \"</div>\"}};\n\n  function display_loaded() {\n    var el = document.getElementById(\"dfedafe6-17ea-4d79-8b7b-1a6356c2038b\");\n    if (el != null) {\n      el.textContent = \"BokehJS is loading...\";\n    }\n    if (root.Bokeh !== undefined) {\n      if (el != null) {\n        el.textContent = \"BokehJS \" + root.Bokeh.version + \" successfully loaded.\";\n      }\n    } else if (Date.now() < root._bokeh_timeout) {\n      setTimeout(display_loaded, 100)\n    }\n  }\n\n\n  function run_callbacks() {\n    try {\n      root._bokeh_onload_callbacks.forEach(function(callback) { callback() });\n    }\n    finally {\n      delete root._bokeh_onload_callbacks\n    }\n    console.info(\"Bokeh: all callbacks have finished\");\n  }\n\n  function load_libs(js_urls, callback) {\n    root._bokeh_onload_callbacks.push(callback);\n    if (root._bokeh_is_loading > 0) {\n      console.log(\"Bokeh: BokehJS is being loaded, scheduling callback at\", now());\n      return null;\n    }\n    if (js_urls == null || js_urls.length === 0) {\n      run_callbacks();\n      return null;\n    }\n    console.log(\"Bokeh: BokehJS not loaded, scheduling load and callback at\", now());\n    root._bokeh_is_loading = js_urls.length;\n    for (var i = 0; i < js_urls.length; i++) {\n      var url = js_urls[i];\n      var s = document.createElement('script');\n      s.src = url;\n      s.async = false;\n      s.onreadystatechange = s.onload = function() {\n        root._bokeh_is_loading--;\n        if (root._bokeh_is_loading === 0) {\n          console.log(\"Bokeh: all BokehJS libraries loaded\");\n          run_callbacks()\n        }\n      };\n      s.onerror = function() {\n        console.warn(\"failed to load library \" + url);\n      };\n      console.log(\"Bokeh: injecting script tag for BokehJS library: \", url);\n      document.getElementsByTagName(\"head\")[0].appendChild(s);\n    }\n  };var element = document.getElementById(\"dfedafe6-17ea-4d79-8b7b-1a6356c2038b\");\n  if (element == null) {\n    console.log(\"Bokeh: ERROR: autoload.js configured with elementid 'dfedafe6-17ea-4d79-8b7b-1a6356c2038b' but no matching script tag was found. \")\n    return false;\n  }\n\n  var js_urls = [\"https://cdn.pydata.org/bokeh/release/bokeh-0.12.10.min.js\", \"https://cdn.pydata.org/bokeh/release/bokeh-widgets-0.12.10.min.js\", \"https://cdn.pydata.org/bokeh/release/bokeh-tables-0.12.10.min.js\", \"https://cdn.pydata.org/bokeh/release/bokeh-gl-0.12.10.min.js\"];\n\n  var inline_js = [\n    function(Bokeh) {\n      Bokeh.set_log_level(\"info\");\n    },\n    \n    function(Bokeh) {\n      \n    },\n    function(Bokeh) {\n      console.log(\"Bokeh: injecting CSS: https://cdn.pydata.org/bokeh/release/bokeh-0.12.10.min.css\");\n      Bokeh.embed.inject_css(\"https://cdn.pydata.org/bokeh/release/bokeh-0.12.10.min.css\");\n      console.log(\"Bokeh: injecting CSS: https://cdn.pydata.org/bokeh/release/bokeh-widgets-0.12.10.min.css\");\n      Bokeh.embed.inject_css(\"https://cdn.pydata.org/bokeh/release/bokeh-widgets-0.12.10.min.css\");\n      console.log(\"Bokeh: injecting CSS: https://cdn.pydata.org/bokeh/release/bokeh-tables-0.12.10.min.css\");\n      Bokeh.embed.inject_css(\"https://cdn.pydata.org/bokeh/release/bokeh-tables-0.12.10.min.css\");\n    }\n  ];\n\n  function run_inline_js() {\n    \n    if ((root.Bokeh !== undefined) || (force === true)) {\n      for (var i = 0; i < inline_js.length; i++) {\n        inline_js[i].call(root, root.Bokeh);\n      }if (force === true) {\n        display_loaded();\n      }} else if (Date.now() < root._bokeh_timeout) {\n      setTimeout(run_inline_js, 100);\n    } else if (!root._bokeh_failed_load) {\n      console.log(\"Bokeh: BokehJS failed to load within specified timeout.\");\n      root._bokeh_failed_load = true;\n    } else if (force !== true) {\n      var cell = $(document.getElementById(\"dfedafe6-17ea-4d79-8b7b-1a6356c2038b\")).parents('.cell').data().cell;\n      cell.output_area.append_execute_result(NB_LOAD_WARNING)\n    }\n\n  }\n\n  if (root._bokeh_is_loading === 0) {\n    console.log(\"Bokeh: BokehJS loaded, going straight to plotting\");\n    run_inline_js();\n  } else {\n    load_libs(js_urls, function() {\n      console.log(\"Bokeh: BokehJS plotting callback run at\", now());\n      run_inline_js();\n    });\n  }\n}(window));"
     },
     "metadata": {},
     "output_type": "display_data"
    }
   ],
   "source": [
    "from bokeh.plotting import figure, show, output_notebook\n",
    "from bokeh.models import HoverTool, ColumnDataSource, value\n",
    "\n",
    "output_notebook()"
   ]
  },
  {
   "cell_type": "code",
   "execution_count": 86,
   "metadata": {},
   "outputs": [
    {
     "data": {
      "text/html": [
       "\n",
       "<div class=\"bk-root\">\n",
       "    <div class=\"bk-plotdiv\" id=\"2692f7ed-7105-4f24-aa68-d69722cfd65a\"></div>\n",
       "</div>"
      ]
     },
     "metadata": {},
     "output_type": "display_data"
    },
    {
     "data": {
      "application/javascript": [
       "(function(root) {\n",
       "  function embed_document(root) {\n",
       "    var docs_json = {\"ea45a728-a1c3-40f7-87e6-2e68e42131c5\":{\"roots\":{\"references\":[{\"attributes\":{},\"id\":\"ccad196b-ea36-454f-ad0d-f5d38ead2b6f\",\"type\":\"ResetTool\"},{\"attributes\":{\"plot\":null,\"text\":\"t-SNE Word Embeddings\",\"text_font_size\":{\"value\":\"16pt\"}},\"id\":\"4c67ffbe-1b98-4b8a-a64d-dfc6348551e8\",\"type\":\"Title\"},{\"attributes\":{\"callback\":null,\"overlay\":{\"id\":\"e3b997f6-7409-40cc-96c5-0bf60f6414a7\",\"type\":\"BoxAnnotation\"},\"renderers\":[{\"id\":\"59986c7c-ad72-4ad4-bf24-868fd9b30614\",\"type\":\"GlyphRenderer\"}]},\"id\":\"bd540f1f-6097-409d-88da-b80cd7418535\",\"type\":\"BoxSelectTool\"},{\"attributes\":{\"callback\":null},\"id\":\"242ebac9-b7d7-4662-9389-43f0f3963ad8\",\"type\":\"DataRange1d\"},{\"attributes\":{},\"id\":\"b6fb2824-dd15-4ed8-b908-c03e2206aa1a\",\"type\":\"PanTool\"},{\"attributes\":{\"callback\":null,\"tooltips\":\"@word\"},\"id\":\"d66373f5-1683-4380-bfa4-fa313eb05105\",\"type\":\"HoverTool\"},{\"attributes\":{\"fill_color\":{\"value\":\"#1f77b4\"},\"size\":{\"units\":\"screen\",\"value\":10},\"x\":{\"field\":\"x_coord\"},\"y\":{\"field\":\"y_coord\"}},\"id\":\"b2bc42ad-b888-4479-a58a-1acab83b3069\",\"type\":\"Circle\"},{\"attributes\":{\"callback\":null},\"id\":\"69c9e6f1-fccf-4da8-8449-bcc151483ea5\",\"type\":\"DataRange1d\"},{\"attributes\":{},\"id\":\"c617bcf4-a645-4661-891a-a0187f69f4d7\",\"type\":\"BasicTicker\"},{\"attributes\":{\"below\":[{\"id\":\"7180d7a8-8ae9-4f90-b44b-88605f54a7c9\",\"type\":\"LinearAxis\"}],\"left\":[{\"id\":\"dd5500f1-a18b-406f-afab-0e5ae3e839cc\",\"type\":\"LinearAxis\"}],\"outline_line_color\":{\"value\":null},\"plot_width\":900,\"renderers\":[{\"id\":\"7180d7a8-8ae9-4f90-b44b-88605f54a7c9\",\"type\":\"LinearAxis\"},{\"id\":\"c29d80fb-2ab8-43cd-982d-39fdabebf819\",\"type\":\"Grid\"},{\"id\":\"dd5500f1-a18b-406f-afab-0e5ae3e839cc\",\"type\":\"LinearAxis\"},{\"id\":\"8ae99a5a-5d17-4a40-b45f-b6a1a34669f2\",\"type\":\"Grid\"},{\"id\":\"f20107a4-eb27-4d98-b660-a1d3c4d7b68f\",\"type\":\"BoxAnnotation\"},{\"id\":\"e3b997f6-7409-40cc-96c5-0bf60f6414a7\",\"type\":\"BoxAnnotation\"},{\"id\":\"59986c7c-ad72-4ad4-bf24-868fd9b30614\",\"type\":\"GlyphRenderer\"}],\"title\":{\"id\":\"4c67ffbe-1b98-4b8a-a64d-dfc6348551e8\",\"type\":\"Title\"},\"toolbar\":{\"id\":\"a04bebb6-b7e8-4a4d-84c4-973aa3103132\",\"type\":\"Toolbar\"},\"x_range\":{\"id\":\"242ebac9-b7d7-4662-9389-43f0f3963ad8\",\"type\":\"DataRange1d\"},\"x_scale\":{\"id\":\"b86684cf-8c92-48d6-9b5f-db5ee58a5efb\",\"type\":\"LinearScale\"},\"y_range\":{\"id\":\"69c9e6f1-fccf-4da8-8449-bcc151483ea5\",\"type\":\"DataRange1d\"},\"y_scale\":{\"id\":\"8ac853e3-76e0-40b1-86a2-d93276a189a8\",\"type\":\"LinearScale\"}},\"id\":\"e366e9a3-4673-44c1-b202-2d64e24e8ff6\",\"subtype\":\"Figure\",\"type\":\"Plot\"},{\"attributes\":{\"formatter\":{\"id\":\"2db119bd-3535-4e9c-97e3-e10698796e4c\",\"type\":\"BasicTickFormatter\"},\"plot\":{\"id\":\"e366e9a3-4673-44c1-b202-2d64e24e8ff6\",\"subtype\":\"Figure\",\"type\":\"Plot\"},\"ticker\":{\"id\":\"c617bcf4-a645-4661-891a-a0187f69f4d7\",\"type\":\"BasicTicker\"},\"visible\":false},\"id\":\"dd5500f1-a18b-406f-afab-0e5ae3e839cc\",\"type\":\"LinearAxis\"},{\"attributes\":{\"grid_line_color\":{\"value\":null},\"plot\":{\"id\":\"e366e9a3-4673-44c1-b202-2d64e24e8ff6\",\"subtype\":\"Figure\",\"type\":\"Plot\"},\"ticker\":{\"id\":\"0621fd2c-0608-43b7-8533-e093084fc175\",\"type\":\"BasicTicker\"}},\"id\":\"c29d80fb-2ab8-43cd-982d-39fdabebf819\",\"type\":\"Grid\"},{\"attributes\":{},\"id\":\"8ac853e3-76e0-40b1-86a2-d93276a189a8\",\"type\":\"LinearScale\"},{\"attributes\":{},\"id\":\"b86684cf-8c92-48d6-9b5f-db5ee58a5efb\",\"type\":\"LinearScale\"},{\"attributes\":{},\"id\":\"0621fd2c-0608-43b7-8533-e093084fc175\",\"type\":\"BasicTicker\"},{\"attributes\":{\"dimension\":1,\"grid_line_color\":{\"value\":null},\"plot\":{\"id\":\"e366e9a3-4673-44c1-b202-2d64e24e8ff6\",\"subtype\":\"Figure\",\"type\":\"Plot\"},\"ticker\":{\"id\":\"c617bcf4-a645-4661-891a-a0187f69f4d7\",\"type\":\"BasicTicker\"}},\"id\":\"8ae99a5a-5d17-4a40-b45f-b6a1a34669f2\",\"type\":\"Grid\"},{\"attributes\":{\"bottom_units\":\"screen\",\"fill_alpha\":{\"value\":0.5},\"fill_color\":{\"value\":\"lightgrey\"},\"left_units\":\"screen\",\"level\":\"overlay\",\"line_alpha\":{\"value\":1.0},\"line_color\":{\"value\":\"black\"},\"line_dash\":[4,4],\"line_width\":{\"value\":2},\"plot\":null,\"render_mode\":\"css\",\"right_units\":\"screen\",\"top_units\":\"screen\"},\"id\":\"e3b997f6-7409-40cc-96c5-0bf60f6414a7\",\"type\":\"BoxAnnotation\"},{\"attributes\":{\"formatter\":{\"id\":\"e678d423-d283-46d5-b137-3c1306667b48\",\"type\":\"BasicTickFormatter\"},\"plot\":{\"id\":\"e366e9a3-4673-44c1-b202-2d64e24e8ff6\",\"subtype\":\"Figure\",\"type\":\"Plot\"},\"ticker\":{\"id\":\"0621fd2c-0608-43b7-8533-e093084fc175\",\"type\":\"BasicTicker\"},\"visible\":false},\"id\":\"7180d7a8-8ae9-4f90-b44b-88605f54a7c9\",\"type\":\"LinearAxis\"},{\"attributes\":{},\"id\":\"2db119bd-3535-4e9c-97e3-e10698796e4c\",\"type\":\"BasicTickFormatter\"},{\"attributes\":{},\"id\":\"e678d423-d283-46d5-b137-3c1306667b48\",\"type\":\"BasicTickFormatter\"},{\"attributes\":{\"bottom_units\":\"screen\",\"fill_alpha\":{\"value\":0.5},\"fill_color\":{\"value\":\"lightgrey\"},\"left_units\":\"screen\",\"level\":\"overlay\",\"line_alpha\":{\"value\":1.0},\"line_color\":{\"value\":\"black\"},\"line_dash\":[4,4],\"line_width\":{\"value\":2},\"plot\":null,\"render_mode\":\"css\",\"right_units\":\"screen\",\"top_units\":\"screen\"},\"id\":\"f20107a4-eb27-4d98-b660-a1d3c4d7b68f\",\"type\":\"BoxAnnotation\"},{\"attributes\":{\"data_source\":{\"id\":\"aae4f4ae-d22e-40c7-852b-56653eb4b279\",\"type\":\"ColumnDataSource\"},\"glyph\":{\"id\":\"43f56e97-17a2-4cbf-b68f-d344ca7a3047\",\"type\":\"Circle\"},\"hover_glyph\":{\"id\":\"b2bc42ad-b888-4479-a58a-1acab83b3069\",\"type\":\"Circle\"},\"muted_glyph\":null,\"nonselection_glyph\":{\"id\":\"b82a5183-68e6-41b4-8886-20a902e0fdfd\",\"type\":\"Circle\"},\"selection_glyph\":null,\"view\":{\"id\":\"93a6990f-f822-48f5-b257-144cbe9d4a93\",\"type\":\"CDSView\"}},\"id\":\"59986c7c-ad72-4ad4-bf24-868fd9b30614\",\"type\":\"GlyphRenderer\"},{\"attributes\":{\"active_drag\":\"auto\",\"active_inspect\":\"auto\",\"active_scroll\":{\"id\":\"cc3023ce-4c1d-4420-be10-983d591e53fc\",\"type\":\"WheelZoomTool\"},\"active_tap\":\"auto\",\"tools\":[{\"id\":\"b6fb2824-dd15-4ed8-b908-c03e2206aa1a\",\"type\":\"PanTool\"},{\"id\":\"cc3023ce-4c1d-4420-be10-983d591e53fc\",\"type\":\"WheelZoomTool\"},{\"id\":\"7be18dbd-4ee3-4c1c-91dd-1c8758e23eb2\",\"type\":\"BoxZoomTool\"},{\"id\":\"bd540f1f-6097-409d-88da-b80cd7418535\",\"type\":\"BoxSelectTool\"},{\"id\":\"ccad196b-ea36-454f-ad0d-f5d38ead2b6f\",\"type\":\"ResetTool\"},{\"id\":\"d66373f5-1683-4380-bfa4-fa313eb05105\",\"type\":\"HoverTool\"}]},\"id\":\"a04bebb6-b7e8-4a4d-84c4-973aa3103132\",\"type\":\"Toolbar\"},{\"attributes\":{\"source\":{\"id\":\"aae4f4ae-d22e-40c7-852b-56653eb4b279\",\"type\":\"ColumnDataSource\"}},\"id\":\"93a6990f-f822-48f5-b257-144cbe9d4a93\",\"type\":\"CDSView\"},{\"attributes\":{\"fill_alpha\":{\"value\":0.1},\"fill_color\":{\"value\":\"blue\"},\"line_alpha\":{\"value\":0.2},\"line_color\":{\"value\":\"blue\"},\"size\":{\"units\":\"screen\",\"value\":10},\"x\":{\"field\":\"x_coord\"},\"y\":{\"field\":\"y_coord\"}},\"id\":\"43f56e97-17a2-4cbf-b68f-d344ca7a3047\",\"type\":\"Circle\"},{\"attributes\":{},\"id\":\"cc3023ce-4c1d-4420-be10-983d591e53fc\",\"type\":\"WheelZoomTool\"},{\"attributes\":{\"callback\":null,\"column_names\":[\"x_coord\",\"y_coord\",\"index\"],\"data\":{\"index\":[\"nori\",\"read_elsewhere\",\"rectal_itch\",\"rope\",\"an_intestinal_overgrowth\",\"magnesium_glycinate\",\"calming\",\"insight_into\",\"le\",\"oddly_enough\",\"auto_immune_disorder\",\"vial\",\"barium\",\"6_gram\",\"crohns\",\"improve_greatly\",\"utterly\",\"interstitial_cystitis\",\"multiple_strain\",\"daily_regimen\",\"underarm\",\"wan\",\"library\",\"47\",\"injure\",\"epithelial_cell\",\"modulate\",\"erica\",\"map\",\"recomend\",\"forum_user\",\"aldosterone\",\"18_year_old\",\"tachycardia\",\"ordeal\",\"flash\",\"omeprazole\",\"inter_relate\",\"long_term_solution\",\"enzyme_production\",\"quit_coffee\",\"fully_heal\",\"buckwheat_flake\",\"ail\",\"'s\",\"30_40\",\"1999\",\"5x\",\"x2\",\"sing\",\"starving\",\"seat\",\"pig_out\",\"bit_confusing\",\"immunologic\",\"restoration\",\"chronic_sinus\",\"awaken\",\"preference\",\"ob_gyn\",\"thickener\",\"bounty\",\"glycogen\",\"mitigate\",\"0.1\",\"soft_stool\",\"generalize\",\"chug\",\"professor\",\"extreme_bloating\",\"extremely_bloated\",\"oppose\",\"ultimate_cure\",\"orgasm\",\"intimate\",\"dark_brown\",\"discoloration\",\"relatively_new\",\"blood_flow\",\"animal_meat\",\"coated\",\"immune_cell\",\"lactobacillus_plantarum\",\"vessel\",\"tempting\",\"ear_ache\",\"amazon_uk\",\"prescription_anti_fungal\",\"perscription\",\"overeating\",\"lauricidin\",\"debris\",\"mixer\",\"leakage\",\"foreskin\",\"false_positive\",\"gate\",\"avocadoe\",\"2_tbs\",\"moodiness\",\"rapid_weight_loss\",\"difulcan\",\"c\\u1ee7a\",\"refreshing\",\"brown_rice_quinoa\",\"choke\",\"completely_disappear\",\"ranch\",\"disable\",\"medical_profession\",\"paranoid_about\",\"sleep_apnea\",\"pessary\",\"fillet\",\"glue\",\"immense\",\"gulp\",\"1.0\",\"thrilled\",\"initial_cleanse\",\"protect_against\",\"uterus\",\"vsl_3\",\"ayurvedic_medicine\",\"acacia_fiber\",\"associated\",\"ibs_d\",\"enzymes\",\"interesting_article\",\"grape_fruit\",\"red_potato\",\"small_bowl\",\"pause\",\"hydrogen_breath_test\",\"attractive\",\"guard\",\"intelligent\",\"downright\",\"shortly_thereafter\",\"wallet\",\"fibrous\",\"chiropractic\",\"painfully\",\"eachother\",\"osteoporosis\",\"narrow_down\",\"liquor\",\"entry\",\"an_official\",\"8_ounce\",\"granule\",\"20_30_year\",\"fat_content\",\"matt\",\"convenience\",\"raise_blood_sugar\",\"tout\",\"enormous\",\"3_bm_\\u2019s\",\"cancer_patient\",\"135\",\"exceptionally\",\"co_factor\",\"lobster\",\"mercury_exposure\",\"perception\",\"healthy_eating\",\"vitality\",\"antiobiotic\",\"quinoa_brown_rice\",\"reoccur\",\"strenuous\",\"clump\",\"digestive_process\",\"waking\",\"water_filter\",\"undigested_food_particle\",\"peripheral\",\"zantac\",\"crook\",\"coffee_drinker\",\"candida_thrif\",\"re_balance\",\"non_toxic\",\"cbs_mutation\",\"faq\",\"second_batch\",\"reasoning_behind\",\"supress\",\"worthless\",\"http://www.thecandidadiet.com/forum/yaf_postst9434_die-off-remedies-post\\u2013will-edit-more-in-time.aspx_-raster\",\"proper_diagnosis\",\"incurable\",\"hemp_oil\",\"em\",\"historically\",\"h2o2\",\"quick_update\",\"doe\",\"hyperventilate\",\"abundant\",\"750\",\"joe\",\"within_minute\",\"neighbor\",\"stint\",\"science_behind\",\"hero\",\"worldwide\",\"pubmed\",\"mobilize\",\"http://www.thecandidadiet.com/forum/yaf_postst1222_chew-your-food-longer\\u2013simple-tip-to-improve-your-health.aspx\",\"cured\\u2019\",\"growth_factor\",\"excerpt\",\"pretty_damn\",\"desperately\",\"eaten\",\"down_regulate\",\"blessed\",\"lodge\",\"regular_md\",\"protection_against\",\"major_factor\",\"celtic\",\"mistakenly\",\"screening\",\"madness\",\"omega_6\",\"homeostasis\",\"wierd\",\"an_acidic_ph\",\"wander\",\"full_moon\",\"hardly_ever\",\"naturegirl27_write\",\"downer\",\"territory\",\"restricted\",\"rush_into\",\"pr\",\"brenda_watson\",\"i\\u00b4m_afraid\",\"humble\",\"brita\",\"park\",\"tightly\",\"deem\",\"northern\",\"herring\",\"significance\",\"15_blueberry\",\"annie_\\u2019s\",\"et\",\"chronic_insomnia\",\"unavailable\",\"animal_milk\",\"assessment\",\"feel_lethargic\",\"oh_man\",\"eastern\",\"methane\",\"vet\",\"leaky_guy\",\"low_ferritin\",\"cultured_veggie\",\"positive_attitude\",\"major_improvement\",\"slack\",\"heart_palpation\",\"sasha\",\"rancid\",\"mannitol\",\"6000\",\"uro\",\"naive\",\"plain_yoghurt\",\"lightly_cook\",\"poorly_absorb_by\",\"sicker_than\",\"bison\",\"store_buy_kefir\",\"dr._mercola\",\"labor\",\"evo\",\"green_leafy_vegetable\",\"hp\",\"vitamin_shop\",\"grease\",\"75_mg\",\"crispy\",\">_>\",\"turkish\",\"kefir_grains\",\"1_chicken_breast\",\"abe\",\"phase_2_item\",\"apo\",\"sock\",\"hum\",\"telephone\",\"real_deal\",\"klonopin\",\"overcook\",\"slice_per_day\",\"ethyl_alcohol\",\"baby_carrier\",\"quark\",\"debt\",\"ejaculate\",\"big_role\",\"penile\",\"crease\",\"sweep\",\"big_difference_between\",\"oral_suspension\",\"textbook\",\"phytic_acid\",\".if\",\"forth_between\",\"cater\",\"functional_medicine_doctor\",\"restroom\",\"improve_dramatically\",\"spend_thousand\",\"caloric\",\"topical_treatment\",\"cvs\",\"conflicting_info\",\"brain_chemistry\",\"human_cell\",\"flaxseed_meal\",\"holistic_dr\",\"formulate\",\"cautiously\",\"vsl3\",\"insanely\",\"tylenol\",\"quinoa_millet\",\"breed\",\"revolve_around\",\"an_endocrinologist\",\"aftertaste\",\"no_carbs\",\"hellish\",\"traumatic\",\"forearm\",\"swollen_lymph_node\",\"gamble\",\"quit_smoke\",\"10_pound\",\"bullshit\",\"six_month_ago\",\"glance\",\"adult_life\",\"urgent\",\"stage_2/3\",\"vegetables\",\"39\",\"athletic\",\"leg_muscle\",\"mushy\",\"underwear\",\"almost_instantly\",\"extremely_helpful\",\"natural_sweetener\",\"regenerate\",\"race_heart\",\"extremely_weak\",\"750_mg\",\"invasion\",\"persistant\",\"worst\",\"arrive_today\",\"costco\",\"culturelle\",\"1,000\",\"sourdough\",\"square\",\"allergy_intolerance\",\"mrs._candida\",\"nutritionally\",\"6_billion\",\"irregular_heartbeat\",\"proliferate\",\"red_patch\",\"ring_worm\",\"tinea\",\"specialty\",\"50/50\",\"bread_pasta\",\"2,000\",\"hello_everybody\",\"generally_speak\",\"during_phase_1\",\"mgl\",\"coordination\",\"drained\",\"crisis\",\"closely_related\",\"argentina\",\"perseverance\",\"900\",\"acacia\",\"sooth\",\"0_g\",\"laundry\",\"af_betafood\",\"stovariste\",\"lisa_\\u2019s\",\"frozen_vegetable\",\"aroma\",\"burdock\",\"antiseptic\",\"quinine\",\"an_indicator\",\"sincerely_able\",\"sally\",\"no_big_deal\",\"tray\",\"splash\",\"gluten_free_pasta\",\"fri\",\"vastly\",\"suicide\",\"100_gram\",\"scientific_study\",\"such_as_fermented_cod\",\"okra_pepsin\",\"participant\",\"butyrate\",\"56\",\"refined_carb\",\"per_dose\",\"probability\",\"wire\",\"underestimate\",\"deer\",\"secure\",\"household\",\"welt\",\"canker_sore\",\"ph_neutral\",\"exasperate\",\"old_self\",\"vast_majority\",\"mcdonalds\",\"specific_carbohydrate_diet\",\"difflucan\",\"selective\",\"choc\",\"specialist_who\",\"close_friend\",\"compounding_pharmacy\",\"milligram\",\"breastf\",\"writer\",\"non_pathogenic_form\",\"candia5\",\"function_normally\",\"90_billion\",\"deli\",\"enjoyment\",\"citrus_fruit\",\"irritant\",\"special_occasion\",\"hyperthyroidism\",\"polarize\",\"diversity\",\"improperly\",\"mend\",\"sibo_small\",\"ergosterol\",\"echinocandins\",\"forgo\",\"aa\",\"atp\",\"cardiovascular_disease\",\"electron\",\"consciousness\",\"crandall\",\"cell_mediate\",\"viral_infection\",\"amalgam_removal\",\"large_salad\",\"farmer_market\",\"toxic_load\",\"personal_message\",\"nasal_passage\",\"alas\",\"among_many\",\"hunt\",\"docter\",\"brain_function\",\"non_fat\",\"similarity\",\"blood_circulation\",\"progressive\",\"food\\u2019\",\"imagination\",\"leader\",\"candidastat\",\"oregon_grape\",\"anecdotal_evidence\",\"lunch_dinner\",\"udo_\\u2019s\",\"fence\",\"transient\",\"vital_organ\",\"iam\",\"heavy_metal_poisoning\",\"alcat\",\"colonisation\",\"\\u2019s_office\",\"intent\",\"mic\",\"a&d\",\"spanish\",\"obsessive\",\"fast_metabolism\",\"minimal_amount\",\"answering\",\"15th\",\"producer\",\"neutropenia\",\"thiamin\",\"bin\",\"15_g\",\"lifeway\",\"meadow\",\"pumpkin_muffin_bread\",\"nourishment\",\"enamel\",\"buckwheat_pasta\",\"small_town\",\"billion_per_capsule\",\"poss\",\"skim_milk\",\"51\",\"pap\",\"54\",\"malaise\",\"environmental_toxin\",\".the\",\"id\",\"reason_behind\",\"edamame\",\"play_havoc\",\"soooooo\",\"against_candida_albican\",\"wean_off\",\"into_account\",\"quick_search\",\"medical_history\",\"foil\",\"suicidal\",\"magnesium_calcium\",\"dvd\",\"bok_choy\",\"significant_change\",\"mb\",\"May\",\"chive\",\"fluconazole_itraconazole\",\"th2_mode\",\"commercial_yogurt\",\"dr._crook\",\"24_48_hour\",\"steamed_veg\",\"competitive\",\"mince_garlic\",\"customer_service\",\"proprietary_blend\",\"doctor_office\",\"flipper\",\"daily_requirement\",\"inulin_fos\",\"trader_joe\",\"ultimate_flora_critical_care\",\"rachelle\",\"glass_container\",\"chock\",\"blakek89_write\",\"healhy_write\",\"security_image\",\"hongo\",\"tratamiento\",\"green_onion\",\"steam_room_sauna_hot\",\"microbiome\",\"natural_approach\",\"pinworm\",\"clog_up\",\"reap\",\"tonsil_stone\",\"inaccurate\",\"less_frequent\",\"venison\",\"49\",\"chef\",\"reoccurr\",\"leach\",\"\\ud83d\\ude10\",\"annoy\",\"young_child\",\"8_9\",\"regrowth\",\"xanthan_gum\",\"jittery\",\"young_age\",\"repopulat\",\"150_billion\",\"prepp\",\"chemotherapy\",\"96\",\"puffy\",\"coco\",\"immune_booster\",\"gaia\",\"become_constipate\",\"ya\\u2019ll\",\"2015\",\"apologise\",\"rank\",\"cl\",\"52\",\"u_ml\",\"jaundice\",\"ginger_garlic\",\"canesten\",\"vain\",\"follow_an_anticandida\",\"teh\",\"alteration\",\"alarming\",\"spinach_salad\",\"uncooked\",\"disgust\",\"celery_cucumber\",\"would_consider_consult\",\"localize\",\"favorable\",\"slightly_elevated\",\"nerve_damage\",\"jim\",\"dao\",\"radical\",\"lose_faith\",\"pcr\",\"regularity\",\"since_january\",\"commensal\",\"weep\",\"leap\",\"shelf_stable\",\"refrigerated\",\"mount\",\"-no\",\"dds1\",\"6_tablespoon\",\"any_drawback\",\"high_potency\",\"midnight\",\"silicon_dioxide\",\"1,000_mg\",\"jarrow_formulas\",\"44\",\"hold_onto\",\"chronic_sinus_infection\",\"ferritin\",\"sf\",\"too_starchy\",\"xmas\",\"white_coat\",\"hy\",\"genova_diagnostic\",\"10th\",\"erase\",\"overloaded\",\"rice_pasta\",\"ouch\",\"resilient\",\"helpless\",\"fabric\",\"cauliflower_broccoli\",\"classify_as\",\"5th_day\",\"tbl\",\"kidney_function\",\"cancer_cell\",\"bright_red\",\"glandular\",\"navigate\",\"own_personal\",\"provider\",\"smear\",\"escherichia_coli\",\"salmonella\",\"fairly_certain\",\"resolution\",\"stomach_acid_level\",\"only_human_derive\",\"too_harsh\",\"brave\",\"retention\",\"hi_chris\",\"bottled\",\"depletion\",\"warrant\",\"dr_morse\",\"defensive\",\"twist\",\"ringing\",\"amanda\",\"half_ass\",\"robert\",\"seasonal\",\"cosmetic\",\"tail\",\"stevia_cinnamon\",\"nutmeg\",\"thecandidadiet.com\",\"progressively_bad\",\"pure_encapsulation\",\"lifelong\",\"hashimoto_\\u2019s\",\"cut_out_gluten\",\"chronic_prostatitis\",\"su\",\"starbucks\",\"withdrawal_symptom\",\"natropath\",\"detrimental_effect\",\"2x_daily\",\"megafood_megaflora\",\"overkill\",\"idiot\",\"appreciation\",\"seattle\",\"bouncy\",\"brittle\",\"amalgam_remove\",\"gray\",\"bitters\",\"8_month_ago\",\"st\",\"2-\",\"fork\",\"candisol\",\"station\",\"gg\",\"n_acetyl_cysteine\",\"symptomatic\",\"duty\",\"dom_\\u2019s_kefir\",\"transit\",\"policy\",\"summer_squash\",\"remote\",\"tee\",\"15_min\",\"magically\",\"intrigue\",\"worker\",\"offensive\",\"ween\",\"lactate\",\"crop_up\",\"oat_meal\",\"humid\",\"bile_flow\",\"12.5_mg\",\"debilitating\",\"sept\",\"distinguish\",\"search_engine\",\"thyroid_med\",\"chewable\",\"reccommend\",\"kolorex\",\"60_billion\",\"very_encouraging\",\"experimentation\",\"3000\",\"worthy\",\"stomache\",\"serious_illness\",\"vehicle\",\"soya_milk\",\"butyric_acid\",\"sandra\",\"cold_hand_foot\",\"jp\",\"outlook\",\"stall\",\"george\",\"horopito\",\"inspiring\",\"rupture\",\"payment\",\"soy_bean\",\"stomach_flu\",\"24_hour_period\",\"3_tbs\",\"7_g\",\"obsession\",\"taking\",\"non_organic_meat\",\"carrot_juice\",\"ferment_cod_liver\",\"kyolic\",\"pronounce\",\"minded\",\"much_conflicting_information\",\"kinesiologist\",\".its\",\"diced\",\"satisfactory\",\"drama\",\"toxic_effect\",\"viewpoint\",\"ace\",\"teaching\",\"bone_marrow\",\"palate\",\"triglyceride\",\"woozy\",\"oct\",\"healing_grace\",\"black_coffee\",\"stirfry\",\"kohlrabi\",\"kate\",\"zeolite\",\"urinary_issue\",\"nistatin\",\"country_life\",\"betaine_hci\",\"formaldehyde\",\"depend_on_whether\",\"pumpkin_pie\",\"euro\",\"designer\",\"guinea_pig\",\"p73\",\"brett\",\"monsanto\",\"post_title\",\"tangy\",\"degenerative_disease\",\"puree\",\"http://nutritiondata.self.com/facts/cereal-grains-and-pasta/5710/2\",\"(1\",\"rice_bran_flour\",\"hiatus_hernia\",\"low_fibre_diet\",\"usda\",\"bilberry\",\"por\",\"skg\",\"organic_non_sweeten\",\"kty\",\"hello_katy\",\"navel\",\"fluctuation\",\"asymptomatic\",\"rare_case\",\"inositol\",\"chicken_soup\",\"http://www.thecandidadiet.com/forum/yaf_postst4116_the-benefits-of-sweating-out-toxins-mineral-water-and-minerals.aspx\",\"technic\",\"surround_by\",\"one_size_fit\",\"an_ultrasound\",\"accustomed\",\"derail\",\"rice_quinoa\",\"800_mg\",\"annoyed\",\"thirty\",\"unhappy\",\"vulva\",\"weight_lifting\",\"booster\",\"tomatoes\",\"bpm\",\"heating\",\"prime\",\"cervical\",\"open_minded\",\"liposomal\",\"magnesium_zinc\",\"apple_cidar_vinegar\",\"exhausting\",\"anti_viral\",\"amphotericin_b\",\"an_overdose\",\"valerian\",\"collard\",\"jalapenos\",\"145\",\"mg_dl\",\"bombard\",\"slew\",\"poor_sleep\",\"penny\",\"still_persist\",\"consequently\",\"cluster\",\"greenish\",\"infuse\",\"fascinating\",\"intensify\",\"groin_area\",\"diligent\",\"cfu_per\",\"specialized\",\"dairy_intolerance\",\"comforting\",\"aerobic\",\"presentation\",\"depression_fatigue\",\"faecal\",\"several_week_ago\",\"uptake\",\"bile_production\",\"vitamin_c_1000_mg\",\"glucosamine\",\"barrett\",\"emphasize\",\"nutrition_fact\",\"spend_hundred\",\"beware\",\"plausible\",\"43\",\"nostril\",\"nutribullet\",\"tempeh\",\"nothing_wrong\",\"bank\",\"inorganic\",\"calf_muscle\",\"headaches\",\"allergies\",\"115\",\"gm\",\"light_headed\",\"benefit_than_detriment\",\"dime\",\"|\",\"contraction\",\"you\\u2019ll\",\"ashamed\",\"margarine\",\"oat_groat\",\"headache_nausea\",\"hormone_imbalance\",\"physical_therapy\",\"jerk\",\"similase\",\"gut_ecology\",\"describe_above\",\"pancreatic\",\"digestive_juice\",\"personal_opinion\",\"miracle_cure\",\"renew\",\"three_lac\",\"2004\",\"crippling\",\"sauna_hot_tub_jacuzzi\",\"eve\",\"helper\",\"alternative_method\",\"message_board\",\"cane_juice\",\"ridiculous_amount\",\"more_efficient\",\"lozenge\",\"bedtime\",\"hair_analysis\",\"bogus\",\"metagenics\",\"creamy_buckwheat\",\"bifidobacterium_bifidum\",\"bile_salt\",\"erection\",\"fifth\",\"cheddar\",\"food_grade_source\",\"stomach_upset\",\"teff_buckwheat\",\"candid\",\"most_recent\",\"illustrate\",\"theoretically\",\"manic\",\"magical\",\"sinus_congestion\",\"halt\",\"unwanted\",\"laser\",\"activation\",\"crohn_\\u2019s\",\"dr._mccombs\",\"flax_seed_oil\",\"efficiently\",\"methyl_group\",\"cardiovascular\",\"decaf\",\"critter\",\"non_pathogenic\",\"more_relaxed\",\"food_chain\",\"being_say\",\"semester\",\"enemas\",\"good\\u2019\",\"encompass\",\"pleo_ex\",\"mercury_vapor\",\"http://www.thecandidadiet.com/forum/yaf_postst6027_hydro-chloric-acid-and-health\\u2013written-by-dr\\u2013mccoombs.aspx_-raster\",\"6.5\",\"perceive\",\"slowly_reintroduce\",\"ppi_\\u2019s\",\"tt\",\"red_blood_cell\",\"until_phase_2\",\"anti_inflammatorie\",\"digestive_enzymes\",\"seldom\",\"23andme\",\"http://www.thecandidadiet.com/forum/yaf_postst4662_rotating-antifungals\\u2013why-we-shouldnt-do-it.aspx\",\"philosophy\",\"pathogenic_form\",\"remarkable\",\"rhodiola\",\"doable\",\"inadequate\",\"rabbit\",\"an_instant\",\"carpet\",\"young_coconut\",\"twin\",\"download\",\"anchovy\",\"overtime\",\"mgs\",\"thermometer\",\"stearic_acid\",\"owe\",\"inevitably\",\"fmt\",\"colon_wall\",\"24_hr\",\"exact_opposite\",\"diluted\",\"transmit\",\"shin\",\"dl\",\"food_30_+\",\"classic_symptom\",\"heel\",\"\\u00bc\",\"fee\",\"fungicidal_effect\",\"water_soluble\",\"watch_tv\",\"venture\",\"30min\",\"rooibos\",\"wholefood\",\"socialize\",\"mental_fog\",\"9_gram\",\"pantry\",\"goat_kefir\",\"vitamin_d_deficiency\",\"slow_process\",\"fry_chicken\",\"molybedenum\",\"sam_e\",\"room_temp\",\"wholesale\",\"i\\u201dm\",\"kiefer\",\"4_clove\",\"low_grade_fever\",\"ultimate_flora_50_billion\",\"mackerel\",\"grate\",\"patti\",\"doggiemama_write\",\"correct_ratio\",\"u_guy\",\"jamesb_write\",\"sparkle_water\",\"unsweetened_coconut\",\"religious\",\"lightly_steam\",\"scientific_research\",\"kelly\",\"cally\",\"chloroquine\",\"many_thank_richard\",\"bahrain\",\"extremely_tired\",\"fabulous\",\"flexible\",\"criterion\",\"6_ounce\",\"binder\",\"lurk\",\"pan_fry\",\"contribution\",\"fresh_herb\",\"drowsy\",\"conflict_information\",\"450_mg\",\"full_recovery\",\"immune_deficiency\",\"checkup\",\"positivity\",\"bedridden\",\"fit_into\",\"tense\",\"bro\",\"white_wine\",\"fecal_matter\",\"recur_yeast_infection\",\"depend_how\",\"deteriorate\",\"cardiologist\",\"involved\",\"sugars\",\"waffle\",\"little_bit_better\",\"prevalent\",\"significant_improvement\",\"salad_bar\",\"wear_off\",\"onions\",\"seeds\",\"negatively_affect\",\"http://www.thecandidadiet.com/forum/yaf_postst734_oral-thrush.aspx\",\"diarrhea_constipation\",\"evaluation\",\"abs\",\"ab\",\"relationship_between\",\"originate\",\"fist\",\"epstein_barr\",\"muscle_spasm\",\"thechosenone\",\"feverish\",\"flesh\",\"reject\",\"clinically\",\"don\",\"elevated_level\",\"vice_versa\",\"use_condom\",\"enormously\",\"veteran\",\"10_gram\",\"big_toe\",\"viable\",\"understandable\",\"naughty\",\"rose\",\"interfase\",\"an_infant\",\"noticable\",\"pathetic\",\"marshmallow\",\"unsweetened_almond_milk\",\"itchy_anus\",\"high_grade\",\"bye\",\"sound_familiar\",\"happening\",\"deep_fry\",\"http://www.thecandidadiet.com/forum/yaf_postsm9960_index-of-posts.aspx#post9960\",\"healing_property\",\"scab\",\"main_goal\",\"cold_foot\",\"song\",\"tim\",\"3x_daily\",\"tonsillitis\",\"chest_infection\",\"brick\",\"ofcourse\",\"renew_life_ultimate_flora\",\"suspension\",\"own_version\",\"15_mg\",\"accupuncture\",\"counter_productive\",\"very_fatigued\",\"asleep\",\"aggressively\",\"bearable\",\"skull\",\"fullness\",\"topping\",\"milestone\",\"jealous\",\"tread\",\"where_near\",\"fair_amount\",\"particular_brand\",\"raw_carrot\",\"equation\",\"undertake\",\"matrix\",\"chemically\",\"20_year_ago\",\"halfway\",\"other_ingredients\",\"likelihood\",\"170\",\"fragile\",\"great_weight_gain\",\"within_24_hour\",\"siga\",\"cornstarch\",\"pink_eye\",\"contemplate\",\"initiate\",\"bubbly\",\"metal_toxicity\",\"bounce_back\",\"coil\",\"bare_minimum\",\"meridian\",\"renal\",\"tar\",\"cal_mag\",\"raster-\",\"isolation\",\"whatnot\",\"fiance\",\"mm\",\"low_grade\",\"phrase\",\"denture\",\"ice_pack\",\"nitric_oxide\",\"acat\",\"mysterious\",\"bacillus_coagulan\",\"saut\\u00e9ed\",\"chronic_vaginal_yeast_infection\",\"sauna_hot_tub_steam\",\"refrain_from\",\"plasma\",\"derange_mineral_transport\",\"toxic_substance\",\"tesco\",\"relatively_low\",\"new_batch\",\"definetely\",\"36_hour\",\"dry_cough\",\"intervention\",\"organic_grass_feed\",\"chap_lip\",\"prescribe_medication\",\"potentially_harmful\",\"helen\",\"phil\",\"non_organic_chicken\",\"full_blown\",\"crud\",\"safe_side\",\"spaghetti_squash\",\"divide_into\",\"interview\",\"by_thorne_research\",\"$_20\",\"committed\",\"low_sugar_content\",\"positive_thinking\",\"hpv\",\"take_into_account\",\"protien\",\"universe\",\"methionine_synthase\",\"potentially_dangerous\",\"fowl\",\"romaine\",\"hamper\",\"chiro\",\"boss\",\"human_intestine\",\"amine\",\"central_nervous_system\",\"spoonfuls\",\"home_remedy\",\"drizzle\",\"tradition\",\"3_tsp\",\"rocket\",\"swiss_chard\",\".im\",\"cranberry_pill\",\"-the\",\"prune\",\"hull\",\"4_tbs\",\"vegetable_cellulose\",\"zap\",\"\\u20ac\",\"hal\",\"hal123\",\"tre\",\"katy_gillett_write\",\"\\uf0a7\",\"synergistic_effect\",\"immune_support\",\"tick\",\"30_g\",\"cabinet\",\"non_absorb\",\"supervision\",\"starting_point\",\"antiviral\",\"anti_parasitic\",\"hemp_powder\",\"nearby\",\"formula_sf722\",\"eyelid\",\"email_address\",\"gorge\",\"cloud\",\"spittle_test\",\"mindfulness\",\"backwards\",\"despair\",\"arrowroot\",\"congest\",\"bbq\",\"blood_count\",\"xanax\",\"oily_skin\",\"past_6_month\",\"parallel\",\"picky\",\"vagus_nerve\",\"big_picture\",\"die_off\\u2019\",\"informed\",\"latex\",\"gluten_wheat\",\"intensely\",\"see_an_allergist\",\"fungemia\",\"lactase\",\"fermented_veggie\",\"backup\",\"medical_school\",\"monistat\",\".so\",\"stranger\",\"1/2_teaspoon\",\"pollution\",\"bastard\",\"promote_digestion\",\"bucket\",\"marshmallow_root\",\"desperately_need\",\"relaxing\",\"gurgling\",\"roll_oats\",\"teaspoonful\",\"molar\",\"declare\",\"poke\",\"big_factor\",\"wit\",\"belching\",\"human_derive_strain\",\"worrisome\",\"cripple\",\"military\",\"super_strict\",\"soy_lecithin\",\"peroxide\",\"lemon_grass\",\"skin_irritation\",\"beauty\",\"2.5_year\",\"kiwi\",\"pea_protein\",\"updated\",\"caprilic_acid\",\"denial\",\"geographic_tongue\",\"contributor\",\"little_girl\",\"quackery\",\"dietician\",\"il\",\"red_bell_pepper\",\"subsequently\",\"shellfish\",\"online_store\",\"endocrinologist\",\"grape_seed\",\"anna\\u201cin\",\"1/4_teaspoon\",\"flaky\",\"sunny\",\"yacon_syrup\",\"onion_powder\",\"old_habit\",\"stressor\",\"courage\",\"$_50\",\"industrial\",\"loo\",\"ash\",\"exclusively\",\"pistachio\",\"buttermilk\",\"fluffy\",\"upgrade\",\"1-\",\"predispose\",\"intestinal_permeability\",\"profound\",\"creation\",\"nonetheless\",\"norway\",\"didn\\u00b4t\",\"web_page\",\"definitive\",\"consider_consult\",\"micro_organism\",\"doterra\",\"dentist_who\",\"echo\",\"gosh\",\"vit_e\",\"print_out\",\"toxic_mold\",\"pastry\",\"morphogenesis\",\"inevitable\",\"accurately\",\"spend_$\",\"holistic_md\",\"maca\",\"duodenum\",\"grill_chicken\",\"sugar_addiction\",\"white_thread\",\"steam_veggie\",\"5_min\",\"enteric_coat\",\"apolactoferrin\",\"hdl\",\"integrative_thereaputic\",\"http://www.candidaplan.com/store/candida-testing/\",\"recipie\",\"saccharomyces\",\"kyle\",\"40_g\",\"holland\",\"texas\",\"oat_bran_cereal\",\"food_particle\",\"ascorbate\",\"output\",\"garbanzo_bean\",\"pomegranate\",\"contain_lactobacillus_acidophilus\",\"lady_who\",\"irrigation\",\"dds\",\"salicylate\",\"daniel\",\"zuchinni\",\"safe\\u2019\",\"affected\",\"hooray\",\"fresh_almond_butter\",\"apple_pectin\",\"cooler\",\"ought\",\"http://www.mccombsplan.com/new/media_center/index.php\",\"wat\",\"quality_brand\",\"amazon_carry\",\"molybendum\",\"without_ice\",\"advocado\",\"gfse\",\"buckwheat_crispbread\",\"princeofsin_write\",\"helpme_write\",\"una\",\"well_document\",\"since_2008\",\"temporary_relief\",\"slight_headache\",\"vaginal_candidiasis\",\"recent_study\",\"2x_per_day\",\"most_popular\",\"beneficial_mineral\",\"^\",\"700\",\"conventional_medicine\",\"thirst\",\"auto_immune\",\"data\",\"chronic_disease\",\"gal\",\"chalk\",\"downfall\",\"vulvodynia\",\"college_student\",\"pete\",\"intact\",\"wiki\",\"chocolate_bar\",\"archive\",\"praise\",\"pharmaceutical_probiotic\",\"stool_testing\",\"fresh_air\",\"seasonal_allergy\",\"transplant\",\"collard_green\",\"test_kit\",\"left_eye\",\"reset\",\"e3afa\",\"prominent\",\"cig\",\"side_dish\",\"alfalfa\",\"pumpkin_muffin\",\"digestive_grape_bitters\",\"kasha\",\"nattokinase\",\"tapioca_starch\",\"wether\",\"medicate\",\"turpentine\",\"general_rule\",\"finished\",\"ray\",\"avocados\",\"chard\",\"high_quantity\",\"beans\",\"near_future\",\"blood_sugar_drop\",\"social_anxiety\",\"low_mood\",\"ra\",\"vitamin_b_complex\",\"superficial\",\"overgrown\",\"an_athlete\",\"worth_look_into\",\"cold_flu\",\"diverse\",\"cube\",\"vaginal_discharge\",\"derm\",\"dam\",\"achy_joint\",\"solaray\",\"stomach_discomfort\",\"internal_organ\",\"examination\",\"several_month_ago\",\"go_downhill\",\"0.5\",\"ground_turkey\",\"deposit\",\"defence\",\"eye_floater\",\"filling_remove\",\"deep_into\",\"an_alkaline\",\"terrible_headache\",\"sustainable\",\"infusion\",\"rheumatoid_arthritis\",\"nature_\\u2019s\",\"hydrated\",\"e_book\",\"veggie_broth\",\"survivor\",\"big_pharma\",\"ct\",\"compile\",\"candida_hypo_sensitization\",\"virulence\",\"monosaccharide\",\"goat_milk_yogurt\",\"muscle_testing\",\"populate\",\"vast\",\"abroad\",\"knife\",\"forest\",\"derivative\",\"totally_agree\",\"medically\",\"pcos\",\"marketing\",\"1000_mcg\",\"worth_note\",\"outdoors\",\"disregard\",\"sporadic\",\"dont\",\"can\\u00b4t\",\"self_esteem\",\"necessarily_mean\",\"inflammatory_bowel_disease\",\"caffeinat\",\"cutler_protocol\",\"availability\",\"ssri_\\u2019s\",\"experimental\",\"average_person\",\"heart_beat\",\"pioneer\",\"deficit\",\"carbonation\",\"digestible\",\"addicted\",\"snack_between_meal\",\"diaper_rash\",\"chili\",\"marry\",\"additional_information\",\"indirectly\",\"doesn\\u00b4t\",\"autoimmunity\",\"peppermint_oil\",\"sharp_pain\",\"debunk\",\"celery_stick\",\"irish\",\"black_red\",\"blood_brain_barrier\",\"10_12\",\"per_bottle\",\"balancing\",\"trouble_digest\",\"flora_imbalance\",\"neurological_symptom\",\"rebecca\",\"co_worker\",\"contain_human_micro\",\"driver\",\"fart\",\"bragg\",\"caffeine_withdrawal\",\"distribute\",\"openly\",\"seven_month\",\"nervousness\",\"disc\",\"chemtrail\",\"richard\",\"fearful\",\"thriving\",\"hike\",\"dha\",\"polish\",\"exhale\",\"titanium_dioxide\",\"hyphal\",\"stalk\",\"gravy\",\"ldl\",\"hot_shower\",\".i\\u2019m\",\"contain_dextrose\",\"genetically_modify\",\"pufa\",\"constipation_remedy\",\"vivonex\",\"violently\",\"stage_1_long_term\",\"dm\",\"oestrogen\",\"aluminum_free_baking_powder\",\"allowed_foods_list\",\"acetyl_l_carnitine\",\"zapper\",\"zoe\",\"fry_egg\",\"mariegirl_write\",\"ranger\",\"korean\",\"hobby\",\"low_abdomen\",\"1500\",\"refill\",\"humidity\",\"main_culprit\",\"syptom\",\".my\",\"jack\",\"competition\",\"recurrent_yeast_infection\",\"poland\",\"prohibit\",\"http://www.thecandidadiet.com/forum/yaf_postst9282_raster-s-safe-food-list.aspx\",\"more_comfortable\",\"25_year_old\",\"facilitate\",\"lightheaded\",\"cognitive\",\"achey\",\"rasters\",\"h2o\",\"saving\",\"king\",\"species\",\"bloom\",\"gun\",\"play_around_with\",\"concrete\",\"root_vegetable\",\"black_olive\",\"valve\",\"float_around\",\"sane\",\"vsl#3\",\"dan\",\"lamasil\",\"precious\",\"ables\",\"genius\",\"capability\",\"burn_tongue\",\"an_absolute\",\"15_20\",\"steriod\",\"readily\",\"enjoyable\",\"loop\",\"holistically\",\"extremely_sensitive\",\"tea_spoon\",\"massage_therapist\",\"brutal\",\"very_knowledgeable\",\"tryptophan\",\"blurry\",\"pdf\",\"flair_up\",\"cringe\",\"correction\",\"barberry\",\"ingredients\",\"sabotage\",\"highly_allergic\",\"make_perfect_sense\",\"bore\",\"spp\",\"7th\",\"noticing\",\"rely\",\"terrain\",\"bloating_constipation\",\"investigation\",\"moderately\",\"enough_calorie\",\"best_avoid\",\"complex_carbohydrate\",\"hearing\",\"grapefruit_extract\",\"strongly_recommend\",\"programme\",\"34\",\"healthful\",\"calendula\",\"reproductive\",\"during_pregnancy\",\"white_film\",\"organize\",\"beleive\",\"sweaty\",\"antibacterial_property\",\"hyphae\",\"ingrediant\",\"go_backwards\",\"infrared_sauna\",\"white_potato\",\"feasible\",\"hypo\",\"evening_meal\",\"los\",\"wicked\",\"bipolar\",\"ptsd\",\"blog_post\",\"fourth_day\",\"fairly_new\",\"recommend_consult\",\"farmer_\\u2019s_market\",\"supplier\",\"beta_blocker\",\"memory_loss\",\"shopping_list\",\"200_g\",\"shy\",\"vague\",\"distract\",\"daunting\",\"psychologically\",\"ear_ring\",\"par\",\"buckwheat_cereal\",\"stream\",\"privately\",\"taco\",\"spacey\",\"hump\",\"zombie\",\"microflora\",\"cm\",\"genital_area\",\"chitinase\",\"negative_side_effect\",\"lunch_salad\",\"high_sulfur\",\"donor\",\"flavonoid\",\"carcinogenic\",\"most_important_part\",\"3_tbsp\",\"healing_journey\",\"objective\",\"gram_per\",\"noon\",\"magnesium_oxide\",\"blended\",\"continued\",\"splurge\",\"rye_bread\",\"michelle\",\"live_blood_analysis\",\"villi\",\"starch_content\",\"1500_mg\",\"eu\",\"financially\",\"mentality\",\"soldier\",\"radio_show\",\"juniper_berry\",\"scoby\",\"kyle_write\",\"-kyle\",\"silent\",\"adventure\",\"mash_potato\",\"vegan_catlady\",\"stupid_question\",\"preferred\",\"excercise\",\"learning\",\"malfunction\",\"2003\",\"yard\",\"fully_understand\",\"20_14\",\"witness\",\"pureed\",\"saccharomyces_cerevisiae\",\"testimonies\",\"small_glass\",\"kefir_starter_kit\",\"planning\",\"bagel\",\"lactose_free_milk\",\"regular_table_salt\",\"subsp\",\"1:1\",\"nick\",\"handbag\",\"jose\",\"ion\",\"prescribe_nystatin\",\"island\",\"until_stage_2\",\"cold_sore\",\"breast_feed\",\"topical_cream\",\"vit_d3\",\"implication\",\"writing\",\"small_serving\",\"bond\",\"since_november\",\"ease_into\",\"strictly_follow\",\"sarah\",\"nystatin_retention_enema\",\"supplemental\",\"collagen\",\"toe_nail\",\"superfood\",\"tract\",\"nhs\",\"integrity\",\"k.\",\"trend\",\"spread_throughout\",\"shut\",\"hungover\",\"biotic\",\"$_$\",\"donna\",\"buildup\",\"damaged\",\"recede\",\"z\",\"horror_story\",\"mold_exposure\",\"wisdom_tooth\",\"snap\",\"tartar\",\"scrotum\",\"neti_pot\",\"sucker\",\"felt\",\"reassurance\",\"worrying\",\"soften\",\"victory\",\"correspond\",\"contain_maltodextrin\",\"flushing\",\"significantly_reduce\",\"red_rash\",\"invader\",\"connected\",\"micro\",\"trough\",\"vegetable_glycerin\",\"corn_syrup\",\"manuka_honey\",\"ketogenic_diet\",\"6_week_ago\",\"nipple\",\"cod\",\"thank_mark_uk\",\"cardamom\",\"jasmine\",\"miscarriage\",\"anti_histamine\",\"red_thyme_oil\",\"determination\",\"sachet\",\"16_oz\",\"contains\",\"gone\",\"long_chain\",\"invaluable\",\"balloon\",\"adrenal_exhaustion\",\"worthwhile\",\"band\",\"reinforce\",\"can\\u2019t\",\"counselor\",\"an_inch\",\"1/4_tsp\",\"susan\",\"bomb\",\"abstain_from\",\"fresh_lemon_juice\",\"folliculitis\",\"sympathy\",\"@raster\",\"julia\",\"lactobacillus_rhamnosus\",\"pig\",\"michael\",\"saying\",\"carbon_dioxide\",\"distinct\",\"aunt\",\"muscle_twitch\",\"http://www.livingnetwork.co.za/chelationnetwork/chelation-the-andy-cutler-protocol/\",\"investment\",\"deep_breathing\",\"tad\",\"dill\",\"pore\",\"fragrance\",\"grand\",\"pin_point\",\"suppressor_cell\",\"devise\",\"an_abundance\",\"foam\",\"several_round\",\"systemic_candidiasis\",\"comt\",\"insufficient\",\"fizz\",\"second_fermentation\",\"prebiotics\",\"speech\",\"outer\",\"hen\",\"160\",\"wrist\",\"miraculous\",\"ob\",\"phytostan\",\"profit\",\"dhea\",\"extracellular\",\"thyroid_adrenal\",\"flu_shot\",\"safe_bet\",\"skim\",\"comprise\",\"sourdough_bread\",\"fatty_fish\",\"high_concentration\",\"accident\",\"prebiotic_property\",\"suffice\",\"rice_corn\",\"cal_mag_zinc\",\"phenomenon\",\"pharma_industry\",\"adrenal_function\",\"per_cup\",\"kefir_starter\",\"chuck\",\"jeopardize\",\"minimise\",\"dt\",\"pearl\",\"latka\",\"cornerstone\",\"algae\",\"5_gram\",\"mango\",\"develop_resistance\",\"md_who\",\"hassle\",\"infectious_disease\",\"muscular\",\"peppers\",\"pau_d_arco\",\"chronic_stress\",\"black_seed_oil\",\"whichev\",\"nowhere_near\",\"tall\",\"carb_craving\",\"nail_fungus\",\"testicle\",\"fodmaps\",\"knuckle\",\"benadryl\",\"kale_spinach\",\"havoc\",\"focus_on_heal\",\"battle_against\",\"massively\",\"jay\",\"loosen\",\"east\",\"105\",\"modification\",\"sprouts\",\"25_billion\",\"beta\",\"funky\",\"paralyze\",\"dilemma\",\"agony\",\"herxheimer_reaction\",\"long_term_battle\",\"hypoallergenic\",\"each_individual\",\"bilirubin\",\"grumpy\",\"admittedly\",\"submit\",\"staff\",\"foremost\",\"mini\",\"indicative\",\"fresh_ginger\",\"sweet_craving\",\"l._acidophilus\",\"synergy\",\"incase\",\"fool\",\"interpretation\",\"saturate\",\"discard\",\"drill\",\"bedroom\",\"spaghetti\",\"healer\",\"boiling_water\",\"summarize\",\"wing\",\"retreat\",\"20_+\",\"grey\",\"starvation\",\"contradictory\",\"dominant\",\"lupus\",\"\\u2019d\",\"rear\",\"stomach_ulcer\",\"vega\",\"flucanazole\",\"efficient\",\"hypoglycaemia\",\"run_across\",\"an_ongoing\",\"candida\\u2019\",\"mucus_membrane\",\"bullet\",\"occurrence\",\"into_consideration\",\"buffer\",\"itchy_scalp\",\"commercially\",\"underlying\",\"vitamin_k\",\"modern_medicine\",\"radiation\",\"abnormality\",\"generation\",\"72_hour\",\"ripen\",\"sufficient_amount\",\"candizyme\",\"glove\",\"display\",\"amalgam_illness\",\"sterile\",\"15_billion\",\"klebsiella\",\"fresh_lemon\",\"general_discussion\",\"overproduction\",\"grass_feed\",\"unsafe\",\"golden_seal\",\"4000_mg\",\"ashwaghanda\",\"turn_into_sugar\",\"splenda\",\"sprint\",\"mccombs\",\"sickly\",\"per_each_bite\",\"precise\",\"misleading\",\"subtle\",\"grandmother\",\"bob\",\"lactobacillus_acidophilus_dds-1\",\"usp\",\"into_glucose\",\"awkward\",\"red_cabbage\",\"fizzy\",\"chlorophyll\",\"puke\",\"delighted\",\"bupleurum\",\"black_seed\",\"tamarind\",\"pau\\u00e7p_jose_write\",\"natto\",\"12_g\",\"chemical_sensitivity\",\"oral_candidiasis\",\"low_libido\",\"dirt\",\"impressive\",\"art\",\"month_mark\",\"romaine_lettuce\",\"positive_diagnosis\",\"metronidazole\",\"high_sugar_content\",\"aloud\",\"sand\",\"nyc\",\"forgive\",\"bacillus\",\"3rd_week\",\"abate\",\"contradiction\",\"throw_away\",\"further_along\",\"reputable\",\"before_each_meal\",\"local_supermarket\",\"conflicting_information\",\"breakfast_lunch\",\"runner\",\"give_birth\",\"prescribe_diflucan\",\"red_bump\",\"couple_week_ago\",\"hcl_hydro_chloric_acid\",\"incapable\",\"pina\",\"savory\",\"large_number\",\"sweet_taste\",\"certainty\",\"lord\",\"shredded\",\"kidney_bean\",\"bulb\",\"clove_oil\",\"nutri\",\"upwards\",\"high_strength\",\"resonate_with\",\"unprotected_sex\",\"prescript_assist\",\"yr_old\",\"reappear\",\"goat_\\u2019s\",\"sheep\",\"scaly\",\"deep_breath\",\"awareness\",\"hi_everybody\",\"becuase\",\"object\",\"silver_filling\",\"lemonade\",\"menstruation\",\"oil_pull_therapy\",\"unprocessed\",\"thank_goodness\",\"diet-\",\"melon\",\"traditionally\",\"facility\",\"oregon_grape_root\",\"unpredictable\",\"scientific_evidence\",\"excessively\",\"1/2_tsp\",\"wired\",\"ironically\",\"nutiva\",\"whitish\",\"merry\",\"call_hmf_neuro\",\"alkaline_environment\",\"cholacol\",\"less_than_1\",\"acidify\",\"sprouted\",\"bifidobacteria\",\"riboflavin\",\"galbladder\",\"advil\",\"painkiller\",\"slightly_damage\",\"iv_chelation\",\"beef_pork\",\"20_g\",\"fermented_vegetable\",\"an_auto_immune\",\"th\",\"healthy_gut_flora\",\"ag_+\",\"biochemistry\",\"chapter\",\"disability\",\"intracellular_yeast\",\"a.m.\",\"yucky\",\"histamine_reaction\",\"sunlight\",\"creme\",\"courgette\",\"sole\",\"magnesium_chloride\",\"large_portion\",\"intestinal_inflammation\",\"landlord\",\"convert_into\",\"comparable\",\"edible\",\"artery\",\"tablet_form\",\"big_fan\",\"at_bedtime\",\"blood_panel\",\"gratitude\",\"10_min\",\"preferable\",\"intestinal_candidiasis\",\"perk\",\"stain\",\"necessity\",\"negative_thought\",\"dehydrator\",\"endotoxin\",\"wasabi\",\"hav\",\"maac\",\"cheer_thoma\",\"lauren_write\",\"bitter_receptor\",\"lynda\",\"lily\",\"slowly_introduce\",\"fighter\",\"genuinely\",\"an_idiot\",\"high_fibre\",\"running\",\"refund\",\"legit\",\"appt\",\"7_8\",\"i\\u2019d\",\"severe_diarrhea\",\"west\",\"anti_parasite\",\"scope\",\"behold\",\"stray\",\"cocoa_powder\",\"http://nutritiondata.self.com/\",\"aged\",\"mainstream\",\"infectious\",\"france\",\"rent\",\"residual\",\"upsetting\",\"siberian_ginseng\",\"stamina\",\"stink\",\"mega\",\"decaf_coffee\",\"query\",\"raw_sauerkraut\",\"pau_darco\",\"sneezing\",\"72\",\"dislike\",\"translation\",\"taste_sweet\",\"clock\",\"ahh\",\"hayfever\",\"anal\",\"an_adult\",\"dvjorge_\\u2019s\",\"oat_bran_flour\",\"crowd_out\",\"discouraged\",\"beneficial_gut_flora\",\"offset\",\"stiffness\",\"fennel_seed\",\"opening\",\"enable\",\"\\u00bd\",\"new_york\",\"remotely\",\"antibiotics\",\"whip\",\"embarrassed\",\"tan\",\"truly_believe\",\"ease_off\",\"dissipate\",\"bud\",\"impaired\",\"20_mg\",\"dutch\",\"ultrasound\",\"cranky\",\"trillion\",\"timmy\",\"antifungal_agent\",\"perfectly_healthy\",\"echinocandin\",\"rescue\",\"invade\",\"mtrr\",\"guest\",\"exceed\",\"consensus\",\"allergic_response\",\"motion\",\"colon_hydrotherapy\",\"swanson\",\"brownie\",\"b-12\",\"worsening\",\"http://www.thecandidadiet.com/forum/yaf_postst8180_doing-too-much-too-fast.aspx\",\"assay\",\"thiol\",\"5000_mg\",\"storm\",\"choline\",\"seman\",\"reg\",\"20_drop\",\"surface_area\",\"player\",\"reminder\",\"mission\",\"oops\",\"alternatively\",\"stump\",\"tilapia\",\"harden\",\"tomorrow_morning\",\"kefir_lady\",\"brocoli\",\"endurance\",\"chlofloso_write\",\"curry_powder\",\"william\",\"dosent\",\"alexpargino_write\",\"http://www.thecandidadiet.com/forum/yaf_postsm11590_molybdenum-and-dieoff-symptoms.aspx#post11590\",\"shipment\",\"doxycycline\",\"invent\",\"destruction\",\"very_informative\",\"peak\",\"1.5_year\",\"$_100\",\"constipated\",\"stupidly\",\"united_states\",\"ny\",\"hot_flash\",\"al\",\"foul\",\"angel\",\"curb\",\"guilt\",\"refrigeration\",\"non_dairy\",\"borax\",\"peptide\",\"controversy\",\"drink_green_tea\",\"2014\",\"newly\",\"bitterness\",\"oat_milk\",\"urticaria\",\"disaster\",\"gynecologist\",\"go_overboard\",\"surge\",\"homemade_sauerkraut\",\"800\",\"fall_apart\",\"snow\",\"alexalgebra\",\"most_accurate\",\"beta_carotene\",\"retest\",\"improved\",\"molecular\",\"galactose\",\"least_amount\",\"5th\",\"miso\",\"sanity\",\"lil\",\"shiver\",\"immune_reaction\",\"rainbow\",\"abel\",\"low_sex_drive\",\"adverse\",\"psyllium_husk_powder\",\"gluten_free_bread\",\"xday2dazex_write\",\"ancient\",\"ulcerative_colitis\",\"dextrin\",\"rumble\",\"x_factor\",\"predict\",\"600\",\"nov\",\"candy_bar\",\"nutritional_deficiency\",\"folk_who\",\"useful_information\",\"coz\",\"counterproductive\",\"excessive_amount\",\"throat_coat_tea\",\"1000557_write\",\"flip\",\"intestinal_bacteria\",\"light_exercise\",\"sooo_much\",\"mexican\",\"aluminum_free\",\"wholegrain\",\"primal_defense\",\"iron_level\",\"dark_circle_under\",\"lavender_oil\",\"more_importantly\",\"infertility\",\"ssri\",\"suppression\",\"biology\",\"vulvar\",\"ppl\",\"spain\",\"manual\",\"regular_bowel_movement\",\"veggie_soup\",\"ben\",\"thomasjoel2\",\"morn\",\"friendly_flora\",\"misdiagnos\",\"bifidus\",\"fungal_growth\",\"gnc\",\"autistic_child\",\"waste_money\",\"moody\",\"julie\",\"negate\",\"warm_lemon_water\",\"clostridium\",\"devil\",\"ayurvedic\",\"sol\",\"wash_away\",\"making\",\"dental_work\",\"co_op\",\"sinus_headache\",\"ammonia_production\",\"truck\",\"deb\",\"patent\",\"saute\",\"stew\",\"recovery_period\",\"lucylu\",\"organic_virgin_coconut_oil\",\"spelt\",\"nikki_write\",\"-day\",\"uncertain\",\"fermenting\",\"fogginess\",\"corticosteroid\",\"q\",\"marriage\",\"detoxing\",\"senna\",\"sap\",\"rebound\",\"chair\",\"release_ammonia\",\"stray_from\",\"logically\",\"must_admit\",\"last_resort\",\"spiral\",\"20_year_old\",\"picky_eater\",\"purge\",\"esophageal\",\"recently_diagnose\",\"mental_state\",\"twitching\",\"detox_properly\",\"youtube\",\"6_8\",\"exert\",\"ten_year\",\"albican\",\"vegetable_broth\",\"sting\",\"reflect\",\"fade_away\",\"conscious\",\"chinese_herb\",\"buckwheat_teff\",\"piss\",\"microbiota\",\"mild_headache\",\"blood_glucose\",\"rot\",\"yougurt\",\"sequence\",\"brazil_nut\",\"steal\",\"tbh\",\"brain_fog_fatigue\",\"anemic\",\"contain_fos\",\"brown_rice_bran_flour\",\"se\",\"heather\",\"microscopic\",\"hiatal_hernia\",\"gluten_sensitivity\",\"absolutely_nothing\",\"plantain\",\"national\",\"yogi\",\"inherit\",\"recurrence\",\"bacterial_flora\",\"relieved\",\"morph\",\"seed_extract\",\"paul\",\"b5\",\"rage\",\"lick\",\"span\",\"scientifically\",\"unrefined\",\"e.\",\"offender\",\"wind_up\",\"organization\",\"daily_routine\",\"finance\",\"i\\u00b4ll\",\"1/3_cup\",\"expertise\",\"wheat_grass\",\"multi_vit\",\"hypothesis\",\"step_forward\",\"salt_intake\",\"antagonistic\",\"witch\",\"sepsis\",\"an_immediate\",\"half_cup\",\"cheat_item\",\"angor\",\"cost_$\",\"highlight\",\"polyene\",\"coworker\",\"craft\",\"cell_membrane\",\"ridiculously\",\"dough\",\"ripe\",\"interact_with\",\"golden\",\"coincide_with\",\"raw_apple_cider\",\"black_rice\",\"degrade\",\"import\",\"softgel\",\"buckwheat_noodle\",\"garlic_tablet\",\"bible\",\"raw_goat_milk\",\"sober\",\"fresh_veggie\",\"nsaid\",\"drinking_kefir\",\"http://www.thecandidadiet.com/forum/yaf_postst746_coconut-flour-bread.aspx\",\"analyze_by\",\"hang_around\",\"becca\",\"dependable\",\"bare\",\"completely_optional\",\"si\",\"ergo_baby_carrier\",\"colonise\",\"rag\",\"sex_life\",\"holistic_approach\",\"rather_quickly\",\"drinker\",\"urgency\",\"partial\",\"doom\",\"lengthy\",\"assess\",\"align\",\"opportunistic\",\"overseas\",\"lover\",\"hiya\",\"psychosomatic\",\"vicious_cycle\",\"stuffy_nose\",\"functional_medicine\",\"flue\",\"makeup\",\"working\",\"chronic_illness\",\"3/4\",\"zone\",\"bang\",\"transport\",\"weird_feeling\",\"shed_some_light\",\"calorie_intake\",\"40_mg\",\"equipment\",\"body_odor\",\"arsenic\",\"nauseate\",\"quick_response\",\"i\\u2019ll\",\"slide\",\"oat_flour\",\"possess\",\"century\",\"starting\",\"drink_nettle_leaf_tea\",\"freeze_dry\",\"well_being\",\"dense\",\"anywhere_near\",\"seller\",\"gluten_free_oats\",\"surgeon\",\"facebook\",\"by_thorne\",\"technology\",\"clothing\",\"specific_brand\",\"myriad\",\"wheel\",\"intermittent\",\"omit\",\"carcinogen\",\"underlying_because\",\"megafood\",\"sulfite\",\"an_ulcer\",\"illegal\",\"harvest\",\"rebalanc\",\"function_properly\",\"by_standard_process\",\"get_bored\",\"card\",\"favour\",\"deadly\",\"addictive\",\"ground_beef\",\"collection\",\"p.\",\"hepatitis\",\"lesion\",\"bifido\",\"dds-1_strain\",\"owner\",\"wheat_free\",\"earn\",\"andy_cutler_\\u2019s\",\"chronic_inflammation\",\"reintroduction\",\"gunk\",\"100_pure\",\"soul\",\"walmart\",\"behave\",\"oxidative_stress\",\"scrape\",\"mcoomb\",\"epithelium\",\"glycerol\",\"2006\",\"crunchy\",\"ester_c\",\"tbs\",\"sodium_chlorite\",\"regard_h\",\"golf\",\"ramble\",\"natural_substance\",\"exit\",\"clotrimazole\",\"nystatin_tablet\",\"obesity\",\"baker\",\"insulin_resistance\",\"portland\",\"remark\",\"38\",\"overlap\",\"blanket\",\"instance\",\"prescription_medication\",\"toxin_release\",\"broke\",\"please_note\",\"wtf\",\"lean_towards\",\"ebook\",\"incorrectly\",\"water_retention\",\"impede\",\"adhesion\",\"tobacco\",\"threshold\",\"stack\",\"chew_gum\",\"username\",\"compromise_immune_system\",\"adrenaline\",\"nursing\",\"snacks\",\"bacterium\",\"medical_condition\",\"socially\",\"green_salad\",\"app\",\"spend_money\",\"rice_cracker\",\"mouth_wash\",\"t.\",\"unexplained\",\"remainder\",\"co_infection\",\"quest\",\"cold_press\",\"beach\",\"bonus\",\"chemist\",\"vaginal_itching\",\"forte\",\"jerusalem_artichoke\",\"pain_killer\",\"natural_path\",\"before_bedtime\",\"stinging\",\"lipid\",\"disruption\",\"chicken_beef\",\"successfully_treat\",\"versus\",\"$_5\",\"hook\",\"strict_anti\",\"stool_analysis\",\"10_mg\",\"kcal\",\"ketchup\",\"yield\",\"lisa_richards\",\"boiling\",\"lactobacilli\",\"daily_intake\",\"sage\",\"simple_carbohydrate\",\"nature_\\u2019s_way\",\"mouthful\",\"correlation\",\"50_g\",\"modern\",\"incident\",\"clarity\",\"deodorant\",\"shitty\",\"steer_clear\",\"stiff\",\"4000\",\"strangely\",\"unclear\",\"vanilla_bean\",\"crust\",\"risk_factor\",\"poor_memory\",\"climb\",\"whole_wheat\",\"disadvantage\",\"cysteine\",\"mitochondria\",\"shortly\",\"overactive\",\"multi_antifungal\",\"4.5\",\"thank_jd\",\"hypersensitive\",\"flavoring\",\"vitamin_b6\",\"untill\",\"drop_per_day\",\"pectin\",\"africa\",\"candidasis\",\"beneficial_environment\",\"no_idea_why\",\"batter\",\"homeopathic_medicine\",\"produce_ammonia\",\"natural_ratio\",\"citricidal\",\"broth_soup\",\"carrie\",\"http://www.thecandidadiet.com/forum/yaf_postst1922_index-of-posts.aspx\",\"adya_clarity\",\"asia\",\"dry_food_item\",\"conflicting\",\"gradually_increase\",\"john\",\"ppi\",\"screen\",\"plant_base\",\"allot\",\"realistic\",\"periodically\",\"file\",\"smelly\",\"communicate\",\"defect\",\"dandelion_tea\",\"benign\",\"grace\",\"steadily\",\"reassure\",\"nourish\",\"bum\",\"wreck\",\"trauma\",\"herx\",\"income\",\"border\",\"quack\",\"progressively\",\"ham\",\"dare\",\"sneak\",\"live_culture\",\"feel_crappy\",\"150mcg\",\"positively\",\"55\",\"chelation_therapy\",\"reactivate\",\"congested\",\"friday_night\",\"gluten_dairy\",\"mucous_membrane\",\"diagnostic\",\"antibody_test\",\"walking\",\"similar_situation\",\"neutrophil\",\"toxic_metal\",\"condiment\",\"abx\",\"feel_guilty\",\"pasteurize\",\"accuse\",\"eg\",\"itchy_ear\",\"main_concern\",\"wheat_flour\"],\"x_coord\":{\"__ndarray__\":\"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\",\"dtype\":\"float32\",\"shape\":[3000]},\"y_coord\":{\"__ndarray__\":\"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\",\"dtype\":\"float32\",\"shape\":[3000]}}},\"id\":\"aae4f4ae-d22e-40c7-852b-56653eb4b279\",\"type\":\"ColumnDataSource\"},{\"attributes\":{\"overlay\":{\"id\":\"f20107a4-eb27-4d98-b660-a1d3c4d7b68f\",\"type\":\"BoxAnnotation\"}},\"id\":\"7be18dbd-4ee3-4c1c-91dd-1c8758e23eb2\",\"type\":\"BoxZoomTool\"},{\"attributes\":{\"fill_alpha\":{\"value\":0.1},\"fill_color\":{\"value\":\"#1f77b4\"},\"line_alpha\":{\"value\":0.1},\"line_color\":{\"value\":\"#1f77b4\"},\"size\":{\"units\":\"screen\",\"value\":10},\"x\":{\"field\":\"x_coord\"},\"y\":{\"field\":\"y_coord\"}},\"id\":\"b82a5183-68e6-41b4-8886-20a902e0fdfd\",\"type\":\"Circle\"}],\"root_ids\":[\"e366e9a3-4673-44c1-b202-2d64e24e8ff6\"]},\"title\":\"Bokeh Application\",\"version\":\"0.12.10\"}};\n",
       "    var render_items = [{\"docid\":\"ea45a728-a1c3-40f7-87e6-2e68e42131c5\",\"elementid\":\"2692f7ed-7105-4f24-aa68-d69722cfd65a\",\"modelid\":\"e366e9a3-4673-44c1-b202-2d64e24e8ff6\"}];\n",
       "\n",
       "    root.Bokeh.embed.embed_items(docs_json, render_items);\n",
       "  }\n",
       "\n",
       "  if (root.Bokeh !== undefined) {\n",
       "    embed_document(root);\n",
       "  } else {\n",
       "    var attempts = 0;\n",
       "    var timer = setInterval(function(root) {\n",
       "      if (root.Bokeh !== undefined) {\n",
       "        embed_document(root);\n",
       "        clearInterval(timer);\n",
       "      }\n",
       "      attempts++;\n",
       "      if (attempts > 100) {\n",
       "        console.log(\"Bokeh: ERROR: Unable to embed document because BokehJS library is missing\")\n",
       "        clearInterval(timer);\n",
       "      }\n",
       "    }, 10, root)\n",
       "  }\n",
       "})(window);"
      ],
      "application/vnd.bokehjs_exec.v0+json": ""
     },
     "metadata": {
      "application/vnd.bokehjs_exec.v0+json": {
       "id": "e366e9a3-4673-44c1-b202-2d64e24e8ff6"
      }
     },
     "output_type": "display_data"
    }
   ],
   "source": [
    "# add our DataFrame as a ColumnDataSource for Bokeh\n",
    "plot_data = ColumnDataSource(tsne_vectors)\n",
    "\n",
    "# create the plot and configure the\n",
    "# title, dimensions, and tools\n",
    "tsne_plot = figure(title=u't-SNE Word Embeddings',\n",
    "                   plot_width = 900,\n",
    "                   plot_height = 600,\n",
    "                   tools= (u'pan, wheel_zoom, box_zoom,'\n",
    "                           u'box_select, reset'),\n",
    "                   active_scroll=u'wheel_zoom')\n",
    "\n",
    "# add a hover tool to display words on roll-over\n",
    "tsne_plot.add_tools( HoverTool(tooltips = u'@word') )\n",
    "\n",
    "# draw the words as circles on the plot\n",
    "tsne_plot.circle(u'x_coord', u'y_coord', source=plot_data,\n",
    "                 color=u'blue', line_alpha=0.2, fill_alpha=0.1,\n",
    "                 size=10, hover_line_color=u'black')\n",
    "\n",
    "# configure visual elements of the plot\n",
    "tsne_plot.title.text_font_size = value(u'16pt')\n",
    "tsne_plot.xaxis.visible = False\n",
    "tsne_plot.yaxis.visible = False\n",
    "tsne_plot.grid.grid_line_color = None\n",
    "tsne_plot.outline_line_color = None\n",
    "\n",
    "# engage!\n",
    "show(tsne_plot);"
   ]
  },
  {
   "cell_type": "code",
   "execution_count": null,
   "metadata": {
    "collapsed": true
   },
   "outputs": [],
   "source": []
  }
 ],
 "metadata": {
  "kernelspec": {
   "display_name": "Python 3",
   "language": "python",
   "name": "python3"
  },
  "language_info": {
   "codemirror_mode": {
    "name": "ipython",
    "version": 3
   },
   "file_extension": ".py",
   "mimetype": "text/x-python",
   "name": "python",
   "nbconvert_exporter": "python",
   "pygments_lexer": "ipython3",
   "version": "3.6.3"
  }
 },
 "nbformat": 4,
 "nbformat_minor": 2
}
