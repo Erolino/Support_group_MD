{
 "cells": [
  {
   "cell_type": "markdown",
   "metadata": {},
   "source": [
    "# Web-Scaraping TheCandidaDiet.com"
   ]
  },
  {
   "cell_type": "markdown",
   "metadata": {},
   "source": [
    "#### due to error 403, couldn't just use \"requests.get\". For getting the webpage I referred to this:\n",
    "#### https://stackoverflow.com/questions/16627227/http-error-403-in-python-3-web-scraping"
   ]
  },
  {
   "cell_type": "code",
   "execution_count": 1,
   "metadata": {
    "collapsed": true
   },
   "outputs": [],
   "source": [
    "#The web_byte is a byte object returned by the server and the content type present in webpage is mostly utf-8. \n",
    "#Therefore you need to decode web_byte using decode method.\n",
    "\n",
    "from urllib.request import Request, urlopen\n",
    "url=\"https://www.thecandidadiet.com/forums/forum/general-discussion/\"\n",
    "req = Request(url, headers={'User-Agent': 'Chrome/63.0.3239.108'})\n",
    "\n",
    "web_byte = urlopen(req).read()\n",
    "\n",
    "webpage = web_byte.decode('utf-8')"
   ]
  },
  {
   "cell_type": "markdown",
   "metadata": {},
   "source": [
    "### 1. equivalent function for getting a webpage type = str:"
   ]
  },
  {
   "cell_type": "code",
   "execution_count": 2,
   "metadata": {
    "collapsed": true
   },
   "outputs": [],
   "source": [
    "def getpage(youRL):\n",
    "    from urllib.request import Request, urlopen\n",
    "    try:\n",
    "        req = Request(youRL, headers={'User-Agent': 'Chrome/63.0.3239.108'})\n",
    "        web_byte = urlopen(req).read()\n",
    "        webpage = web_byte.decode('utf-8')\n",
    "        if webpage is None: \n",
    "            print('page is None')\n",
    "        return webpage\n",
    "    except IndexError:\n",
    "        return 'failed to get page with \"fancy request\"'"
   ]
  },
  {
   "cell_type": "markdown",
   "metadata": {},
   "source": [
    "#### Import BeautifulSoup and create object for the main page: \"home›The Candida Forum›Candida Questions\""
   ]
  },
  {
   "cell_type": "code",
   "execution_count": 3,
   "metadata": {
    "collapsed": true
   },
   "outputs": [],
   "source": [
    "from bs4 import BeautifulSoup as soup\n",
    "bsob=soup(webpage,\"html.parser\") # creates a bs object from the mane page: \"home›The Candida Forum›Candida Questions\""
   ]
  },
  {
   "cell_type": "markdown",
   "metadata": {},
   "source": [
    "#### Get the links to topics (main posts) on that page (the 1st page)"
   ]
  },
  {
   "cell_type": "code",
   "execution_count": 4,
   "metadata": {},
   "outputs": [
    {
     "data": {
      "text/plain": [
       "['https://www.thecandidadiet.com/forums/topic/candida-in-prostate-58/',\n",
       " 'https://www.thecandidadiet.com/forums/topic/die-off-remedies-post-51/',\n",
       " 'https://www.thecandidadiet.com/forums/topic/chips-and-easy-quick-snacks-or-lunch/',\n",
       " 'https://www.thecandidadiet.com/forums/topic/about-to-start-using-oral-nystatin/',\n",
       " 'https://www.thecandidadiet.com/forums/topic/nystatin-powder-cost-1500-for-month-supply-75/',\n",
       " 'https://www.thecandidadiet.com/forums/topic/doxycycline-and-fluconazole/',\n",
       " 'https://www.thecandidadiet.com/forums/topic/midcycle-bleeding-on-diet/',\n",
       " 'https://www.thecandidadiet.com/forums/topic/i-did-a-gut-test-candida-was-found/',\n",
       " 'https://www.thecandidadiet.com/forums/topic/living-environment/',\n",
       " 'https://www.thecandidadiet.com/forums/topic/killer-sugar/',\n",
       " 'https://www.thecandidadiet.com/forums/topic/lost-weight/',\n",
       " 'https://www.thecandidadiet.com/forums/topic/turkey-bacon-sugar-question/',\n",
       " 'https://www.thecandidadiet.com/forums/topic/yerba-matte/',\n",
       " 'https://www.thecandidadiet.com/forums/topic/help-on-specific-dosing-of-suppliments-not-covered-in-the-book/',\n",
       " 'https://www.thecandidadiet.com/forums/topic/are-carbs-candida-friendly/']"
      ]
     },
     "execution_count": 4,
     "metadata": {},
     "output_type": "execute_result"
    }
   ],
   "source": [
    "topic_links_W_tags=bsob.select('a.bbp-topic-permalink')\n",
    "topic_links_W_tags[0]\n",
    "links=[link.get('href') for link in topic_links_W_tags] \n",
    "del links[0] ## deleting the 1st link (only on the 1st page) cause it's irrelevant \n",
    "links"
   ]
  },
  {
   "cell_type": "markdown",
   "metadata": {},
   "source": [
    "### 2. equivalent function for getting the links on 1 page"
   ]
  },
  {
   "cell_type": "code",
   "execution_count": 5,
   "metadata": {
    "collapsed": true
   },
   "outputs": [],
   "source": [
    "def pagelinks(page):\n",
    "    bsob=soup(page,\"html.parser\") # creates a bs object from the mane page: \"home›The Candida Forum›Candida Questions\"\n",
    "    topic_links_W_tags=bsob.select('a.bbp-topic-permalink')\n",
    "    topic_links_W_tags[0]\n",
    "    links=[link.get('href') for link in topic_links_W_tags] \n",
    "    if links[0]=='https://www.thecandidadiet.com/forums/topic/useful-links-and-forum-posts-25/':\n",
    "        del links[0] ## deleting the 1st link (only on the 1st page) cause it's irrelevant \n",
    "    return links"
   ]
  },
  {
   "cell_type": "code",
   "execution_count": 6,
   "metadata": {},
   "outputs": [
    {
     "data": {
      "text/plain": [
       "['https://www.thecandidadiet.com/forums/topic/amazing-grass-green-superfood-safe/',\n",
       " 'https://www.thecandidadiet.com/forums/topic/candida-pain-under-right-ribs-on-diet/',\n",
       " 'https://www.thecandidadiet.com/forums/topic/advice-re-oregano-oil-supplement-needed/',\n",
       " 'https://www.thecandidadiet.com/forums/topic/oat-bran-nausea/',\n",
       " 'https://www.thecandidadiet.com/forums/topic/tip-of-penis-tinglesitches-in-6-yr-old-boy-1/',\n",
       " 'https://www.thecandidadiet.com/forums/topic/help-with-candida/',\n",
       " 'https://www.thecandidadiet.com/forums/topic/why-am-i-so-constipated-with-what-i-am-eating-please-help/',\n",
       " 'https://www.thecandidadiet.com/forums/topic/diabetic-with-candida/',\n",
       " 'https://www.thecandidadiet.com/forums/topic/good-naturopathic-dr-in-the-uk/',\n",
       " 'https://www.thecandidadiet.com/forums/topic/candida-help/',\n",
       " 'https://www.thecandidadiet.com/forums/topic/are-teriyaki-coconut-aminos-acceptable-on-diet/',\n",
       " 'https://www.thecandidadiet.com/forums/topic/are-teriyaki-coconut-aminos-acceptable-on-diet-2/',\n",
       " 'https://www.thecandidadiet.com/forums/topic/can-you-still-have-candida-overgrowth-if-youve-never-had-a-yeast-infection/',\n",
       " 'https://www.thecandidadiet.com/forums/topic/immune-suppressant-please-help/',\n",
       " 'https://www.thecandidadiet.com/forums/topic/vegan/']"
      ]
     },
     "execution_count": 6,
     "metadata": {},
     "output_type": "execute_result"
    }
   ],
   "source": [
    "pagelinks(getpage('https://www.thecandidadiet.com/forums/forum/general-discussion/page/2/'))"
   ]
  },
  {
   "cell_type": "markdown",
   "metadata": {},
   "source": [
    "### 3. equivalent function for Going to the next page"
   ]
  },
  {
   "cell_type": "code",
   "execution_count": 51,
   "metadata": {},
   "outputs": [],
   "source": [
    "def nextPageLink(page):\n",
    "    bsob=soup(page,\"html.parser\")\n",
    "    next_page_links_W_tag=bsob.find('a',class_='next page-numbers')\n",
    "    link=next_page_links_W_tag.get('href')\n",
    "    return link"
   ]
  },
  {
   "cell_type": "code",
   "execution_count": 8,
   "metadata": {},
   "outputs": [],
   "source": [
    "y=getpage(\"https://www.thecandidadiet.com/forums/forum/general-discussion/page/3/\")"
   ]
  },
  {
   "cell_type": "code",
   "execution_count": 9,
   "metadata": {},
   "outputs": [],
   "source": [
    "from bs4 import BeautifulSoup as soup\n",
    "bs_ob=soup(y,\"html.parser\")"
   ]
  },
  {
   "cell_type": "code",
   "execution_count": 10,
   "metadata": {},
   "outputs": [
    {
     "name": "stdout",
     "output_type": "stream",
     "text": [
      "<a class=\"next page-numbers\" href=\"https://www.thecandidadiet.com/forums/forum/general-discussion/page/4/\">→</a>\n"
     ]
    },
    {
     "data": {
      "text/plain": [
       "'https://www.thecandidadiet.com/forums/forum/general-discussion/page/4/'"
      ]
     },
     "execution_count": 10,
     "metadata": {},
     "output_type": "execute_result"
    }
   ],
   "source": [
    "nextPageLink(bs_ob)"
   ]
  },
  {
   "cell_type": "code",
   "execution_count": 11,
   "metadata": {},
   "outputs": [
    {
     "data": {
      "text/plain": [
       "'https://www.thecandidadiet.com/forums/forum/general-discussion/page/2/'"
      ]
     },
     "execution_count": 11,
     "metadata": {},
     "output_type": "execute_result"
    }
   ],
   "source": [
    "next_page_links_W_tag=bsob.find('a',class_='next page-numbers')\n",
    "next_page_links_W_tag.get('href')\n",
    "#next_page_links=[next_page_links.get('href') for next_page_links in next_page_links_W_tag]"
   ]
  },
  {
   "cell_type": "markdown",
   "metadata": {},
   "source": [
    "#### Get text (users, posts, comments) from posts"
   ]
  },
  {
   "cell_type": "code",
   "execution_count": 12,
   "metadata": {
    "collapsed": true
   },
   "outputs": [],
   "source": [
    "# get page\n",
    "x=getpage('https://www.thecandidadiet.com/forums/topic/yerba-matte/')"
   ]
  },
  {
   "cell_type": "markdown",
   "metadata": {},
   "source": [
    "make list of post and comments:"
   ]
  },
  {
   "cell_type": "code",
   "execution_count": 13,
   "metadata": {},
   "outputs": [
    {
     "data": {
      "text/plain": [
       "['Is Yerba Matte okay to drink? (organic, tea form steeped myself)? It does not say in the book.Thanks!',\n",
       " 'It’s low in caffeine so I think it would be a better option than coffee or regular tea.',\n",
       " 'I figured it was okay but knew it still had some caffeine so wasn’t sure! Thanks so much for the response!! 🙂']"
      ]
     },
     "execution_count": 13,
     "metadata": {},
     "output_type": "execute_result"
    }
   ],
   "source": [
    "## make list of post and comments\n",
    "bsob=soup(x,\"html.parser\") # creates a bs object from the mane page: \"home›The Candida Forum›Candida Questions\"\n",
    "post_text_w_tag=bsob.find_all(\"div\",class_=\"bbp-reply-content\")#gdbbx-quote-wrapper-176128\")\n",
    "post_text=[post.get_text() for post in post_text_w_tag]\n",
    "del post_text[0],post_text[-1] # deleting the 1st and last entry cause they return \"posts\"\n",
    "post_text"
   ]
  },
  {
   "cell_type": "markdown",
   "metadata": {},
   "source": [
    "get user name:"
   ]
  },
  {
   "cell_type": "code",
   "execution_count": 14,
   "metadata": {},
   "outputs": [
    {
     "data": {
      "text/plain": [
       "5"
      ]
     },
     "execution_count": 14,
     "metadata": {},
     "output_type": "execute_result"
    }
   ],
   "source": [
    "user_name_w_tag=bsob.find_all(\"div\",class_=\"bbp-reply-author\")\n",
    "len(user_name_w_tag)"
   ]
  },
  {
   "cell_type": "code",
   "execution_count": 15,
   "metadata": {},
   "outputs": [
    {
     "data": {
      "text/plain": [
       "<div class=\"bbp-reply-author\"> <a class=\"bbp-author-avatar\" href=\"https://www.thecandidadiet.com/forums/users/fuzzypeach/\" rel=\"nofollow\" title=\"View fuzzypeach's profile\"><img alt=\"\" class=\"avatar avatar-80 photo\" height=\"80\" src=\"https://secure.gravatar.com/avatar/91477260c5fca5765d86ce2ae1b41e56?s=80&amp;d=mm&amp;r=g\" srcset=\"https://secure.gravatar.com/avatar/91477260c5fca5765d86ce2ae1b41e56?s=160&amp;d=mm&amp;r=g 2x\" width=\"80\"/></a><br/><a class=\"bbp-author-name\" href=\"https://www.thecandidadiet.com/forums/users/fuzzypeach/\" rel=\"nofollow\" title=\"View fuzzypeach's profile\">fuzzypeach</a><br/><div class=\"bbp-author-role\">Participant</div><div class=\"gdbbx-user-stats\"><div class=\"gdbbx-user-stats-block gdbbx-user-stats-topics\"> <span class=\"gdbbx-label\">Topics:</span> <span class=\"gdbbx-value\">2</span></div><div class=\"gdbbx-user-stats-block gdbbx-user-stats-replies\"> <span class=\"gdbbx-label\">Replies:</span> <span class=\"gdbbx-value\">2</span></div></div></div>"
      ]
     },
     "execution_count": 15,
     "metadata": {},
     "output_type": "execute_result"
    }
   ],
   "source": [
    "user_name_w_tag[1]"
   ]
  },
  {
   "cell_type": "code",
   "execution_count": 16,
   "metadata": {},
   "outputs": [
    {
     "name": "stdout",
     "output_type": "stream",
     "text": [
      "[<a class=\"bbp-author-name\" href=\"https://www.thecandidadiet.com/forums/users/fuzzypeach/\" rel=\"nofollow\" title=\"View fuzzypeach's profile\">fuzzypeach</a>]\n"
     ]
    }
   ],
   "source": [
    "user_parent=user_name_w_tag[1].find_all(\"a\",class_=\"bbp-author-name\")\n",
    "print(user_parent)\n",
    "if user_parent==[]:\n",
    "    print(\"no author name found\")"
   ]
  },
  {
   "cell_type": "code",
   "execution_count": 17,
   "metadata": {},
   "outputs": [
    {
     "data": {
      "text/plain": [
       "'fuzzypeach'"
      ]
     },
     "execution_count": 17,
     "metadata": {},
     "output_type": "execute_result"
    }
   ],
   "source": [
    "user_parent[0].get_text()"
   ]
  },
  {
   "cell_type": "code",
   "execution_count": 18,
   "metadata": {},
   "outputs": [
    {
     "data": {
      "text/plain": [
       "'fuzzypeach'"
      ]
     },
     "execution_count": 18,
     "metadata": {},
     "output_type": "execute_result"
    }
   ],
   "source": [
    "pastusers=[[1,'fuzzypeach'],[2,'shlomi']]\n",
    "pastusers[0][1]"
   ]
  },
  {
   "cell_type": "markdown",
   "metadata": {},
   "source": [
    "### 4. equivalent function of getting the username and the post they posted"
   ]
  },
  {
   "cell_type": "code",
   "execution_count": 19,
   "metadata": {
    "collapsed": true
   },
   "outputs": [],
   "source": [
    "import pandas as pd\n",
    "def getUserPost(page):\n",
    "    #post section:\n",
    "    bsob=soup(page,\"html.parser\")\n",
    "    post_text_w_tag=bsob.find_all(\"div\",class_=\"bbp-reply-content\")#gdbbx-quote-wrapper-176128\")\n",
    "    post_text=[post.get_text() for post in post_text_w_tag]\n",
    "    del post_text[0],post_text[-1] # deleting the 1st and last entry cause they return \"posts\"\n",
    "    \n",
    "    #user section:\n",
    "    user=[]\n",
    "    user_name_w_tag=bsob.find_all(\"div\",class_=\"bbp-reply-author\")\n",
    "    for item in user_name_w_tag:\n",
    "        user_parent=item.find_all(\"a\",class_=\"bbp-author-name\")\n",
    "        if user_parent==[]:\n",
    "            pass\n",
    "        else:\n",
    "            username=user_parent[0].get_text()\n",
    "            user.append(username)\n",
    "    \n",
    "    df=pd.DataFrame({'user_name':user,'post_text':post_text}) \n",
    "    df=df[['user_name','post_text']]\n",
    "    return df \n",
    "    "
   ]
  },
  {
   "cell_type": "markdown",
   "metadata": {},
   "source": [
    "#### cocatinating the different posts into a bif df"
   ]
  },
  {
   "cell_type": "code",
   "execution_count": 20,
   "metadata": {
    "collapsed": true
   },
   "outputs": [],
   "source": [
    "# concatinate dfs using:\n",
    "#frames = [df1, df2, df3]\n",
    "#result = pd.concat(frames)"
   ]
  },
  {
   "cell_type": "code",
   "execution_count": 21,
   "metadata": {},
   "outputs": [
    {
     "name": "stdout",
     "output_type": "stream",
     "text": [
      "     user_name                                          post_text\n",
      "0  healthylife  HelloI have been on this diet for 6 months wit...\n"
     ]
    }
   ],
   "source": [
    "x=getpage('https://www.thecandidadiet.com/forums/topic/doxycycline-and-fluconazole/')\n",
    "df1=getUserPost(x)\n",
    "print(df1)"
   ]
  },
  {
   "cell_type": "code",
   "execution_count": 22,
   "metadata": {},
   "outputs": [
    {
     "name": "stdout",
     "output_type": "stream",
     "text": [
      "     user_name                                          post_text\n",
      "0  breemanning  Hello! I’m pretty much sucking at this diet be...\n"
     ]
    }
   ],
   "source": [
    "p=getpage('https://www.thecandidadiet.com/forums/topic/chips-and-easy-quick-snacks-or-lunch/')\n",
    "df2=getUserPost(p)\n",
    "print(df2)"
   ]
  },
  {
   "cell_type": "code",
   "execution_count": 23,
   "metadata": {},
   "outputs": [
    {
     "data": {
      "text/html": [
       "<div>\n",
       "<style>\n",
       "    .dataframe thead tr:only-child th {\n",
       "        text-align: right;\n",
       "    }\n",
       "\n",
       "    .dataframe thead th {\n",
       "        text-align: left;\n",
       "    }\n",
       "\n",
       "    .dataframe tbody tr th {\n",
       "        vertical-align: top;\n",
       "    }\n",
       "</style>\n",
       "<table border=\"1\" class=\"dataframe\">\n",
       "  <thead>\n",
       "    <tr style=\"text-align: right;\">\n",
       "      <th></th>\n",
       "      <th>user_name</th>\n",
       "      <th>post_text</th>\n",
       "    </tr>\n",
       "  </thead>\n",
       "  <tbody>\n",
       "    <tr>\n",
       "      <th>0</th>\n",
       "      <td>healthylife</td>\n",
       "      <td>HelloI have been on this diet for 6 months wit...</td>\n",
       "    </tr>\n",
       "    <tr>\n",
       "      <th>0</th>\n",
       "      <td>breemanning</td>\n",
       "      <td>Hello! I’m pretty much sucking at this diet be...</td>\n",
       "    </tr>\n",
       "  </tbody>\n",
       "</table>\n",
       "</div>"
      ],
      "text/plain": [
       "     user_name                                          post_text\n",
       "0  healthylife  HelloI have been on this diet for 6 months wit...\n",
       "0  breemanning  Hello! I’m pretty much sucking at this diet be..."
      ]
     },
     "execution_count": 23,
     "metadata": {},
     "output_type": "execute_result"
    }
   ],
   "source": [
    "frames = [df1, df2]\n",
    "result = pd.concat(frames)\n",
    "result"
   ]
  },
  {
   "cell_type": "code",
   "execution_count": 24,
   "metadata": {},
   "outputs": [
    {
     "data": {
      "text/html": [
       "<div>\n",
       "<style>\n",
       "    .dataframe thead tr:only-child th {\n",
       "        text-align: right;\n",
       "    }\n",
       "\n",
       "    .dataframe thead th {\n",
       "        text-align: left;\n",
       "    }\n",
       "\n",
       "    .dataframe tbody tr th {\n",
       "        vertical-align: top;\n",
       "    }\n",
       "</style>\n",
       "<table border=\"1\" class=\"dataframe\">\n",
       "  <thead>\n",
       "    <tr style=\"text-align: right;\">\n",
       "      <th></th>\n",
       "      <th>user_name</th>\n",
       "      <th>post_text</th>\n",
       "    </tr>\n",
       "  </thead>\n",
       "  <tbody>\n",
       "  </tbody>\n",
       "</table>\n",
       "</div>"
      ],
      "text/plain": [
       "Empty DataFrame\n",
       "Columns: [user_name, post_text]\n",
       "Index: []"
      ]
     },
     "execution_count": 24,
     "metadata": {},
     "output_type": "execute_result"
    }
   ],
   "source": [
    "col_names =  ['user_name', 'post_text']\n",
    "df0=pd.DataFrame(columns = col_names)\n",
    "df0"
   ]
  },
  {
   "cell_type": "code",
   "execution_count": 25,
   "metadata": {},
   "outputs": [
    {
     "data": {
      "text/html": [
       "<div>\n",
       "<style>\n",
       "    .dataframe thead tr:only-child th {\n",
       "        text-align: right;\n",
       "    }\n",
       "\n",
       "    .dataframe thead th {\n",
       "        text-align: left;\n",
       "    }\n",
       "\n",
       "    .dataframe tbody tr th {\n",
       "        vertical-align: top;\n",
       "    }\n",
       "</style>\n",
       "<table border=\"1\" class=\"dataframe\">\n",
       "  <thead>\n",
       "    <tr style=\"text-align: right;\">\n",
       "      <th></th>\n",
       "      <th>user_name</th>\n",
       "      <th>post_text</th>\n",
       "    </tr>\n",
       "  </thead>\n",
       "  <tbody>\n",
       "    <tr>\n",
       "      <th>0</th>\n",
       "      <td>healthylife</td>\n",
       "      <td>HelloI have been on this diet for 6 months wit...</td>\n",
       "    </tr>\n",
       "    <tr>\n",
       "      <th>0</th>\n",
       "      <td>breemanning</td>\n",
       "      <td>Hello! I’m pretty much sucking at this diet be...</td>\n",
       "    </tr>\n",
       "  </tbody>\n",
       "</table>\n",
       "</div>"
      ],
      "text/plain": [
       "     user_name                                          post_text\n",
       "0  healthylife  HelloI have been on this diet for 6 months wit...\n",
       "0  breemanning  Hello! I’m pretty much sucking at this diet be..."
      ]
     },
     "execution_count": 25,
     "metadata": {},
     "output_type": "execute_result"
    }
   ],
   "source": [
    "frames = [df0, result]\n",
    "result2 = pd.concat(frames)\n",
    "result2"
   ]
  },
  {
   "cell_type": "code",
   "execution_count": 26,
   "metadata": {
    "collapsed": true
   },
   "outputs": [],
   "source": [
    "def mother(youRhell=None):\n",
    "#     make empty df to put all the data in it:\n",
    "    col_names =  ['user_name', 'post_text']\n",
    "    df0=pd.DataFrame(columns = col_names)\n",
    "    #    \" get the 1st page with links {using getpage()}\"\n",
    "    page=getpage(youRhell)\n",
    "#        \"if page is main discussion -> get the list of links {using pagelinks()}\"\n",
    "    links=pagelinks(page)\n",
    "    for link in links:\n",
    "        topic=getpage(link)\n",
    "        df=getUserPost(topic)\n",
    "        #concatenate the df to the big df:\n",
    "        frames = [df0, df]\n",
    "        df0 = pd.concat(frames)\n",
    "    return df0"
   ]
  },
  {
   "cell_type": "code",
   "execution_count": 27,
   "metadata": {
    "collapsed": true
   },
   "outputs": [],
   "source": [
    "g=mother('https://www.thecandidadiet.com/forums/forum/general-discussion/')"
   ]
  },
  {
   "cell_type": "code",
   "execution_count": 28,
   "metadata": {},
   "outputs": [
    {
     "data": {
      "text/html": [
       "<div>\n",
       "<style>\n",
       "    .dataframe thead tr:only-child th {\n",
       "        text-align: right;\n",
       "    }\n",
       "\n",
       "    .dataframe thead th {\n",
       "        text-align: left;\n",
       "    }\n",
       "\n",
       "    .dataframe tbody tr th {\n",
       "        vertical-align: top;\n",
       "    }\n",
       "</style>\n",
       "<table border=\"1\" class=\"dataframe\">\n",
       "  <thead>\n",
       "    <tr style=\"text-align: right;\">\n",
       "      <th></th>\n",
       "      <th>user_name</th>\n",
       "      <th>post_text</th>\n",
       "    </tr>\n",
       "  </thead>\n",
       "  <tbody>\n",
       "    <tr>\n",
       "      <th>0</th>\n",
       "      <td>candida_sucks</td>\n",
       "      <td>How many of you guys have experience with cand...</td>\n",
       "    </tr>\n",
       "    <tr>\n",
       "      <th>1</th>\n",
       "      <td>Thomas</td>\n",
       "      <td>candida_sucks wrote: How many of you guys have...</td>\n",
       "    </tr>\n",
       "    <tr>\n",
       "      <th>2</th>\n",
       "      <td>jamesb</td>\n",
       "      <td>An underactive thyroid is thought to be linked...</td>\n",
       "    </tr>\n",
       "    <tr>\n",
       "      <th>3</th>\n",
       "      <td>Riinehart</td>\n",
       "      <td>Wow, I have the exact same symptoms. Glad you ...</td>\n",
       "    </tr>\n",
       "    <tr>\n",
       "      <th>4</th>\n",
       "      <td>candida_sucks</td>\n",
       "      <td>Riinehart wrote: Wow, I have the exact same sy...</td>\n",
       "    </tr>\n",
       "  </tbody>\n",
       "</table>\n",
       "</div>"
      ],
      "text/plain": [
       "       user_name                                          post_text\n",
       "0  candida_sucks  How many of you guys have experience with cand...\n",
       "1         Thomas  candida_sucks wrote: How many of you guys have...\n",
       "2         jamesb  An underactive thyroid is thought to be linked...\n",
       "3      Riinehart  Wow, I have the exact same symptoms. Glad you ...\n",
       "4  candida_sucks  Riinehart wrote: Wow, I have the exact same sy..."
      ]
     },
     "execution_count": 28,
     "metadata": {},
     "output_type": "execute_result"
    }
   ],
   "source": [
    "g.head()"
   ]
  },
  {
   "cell_type": "code",
   "execution_count": 30,
   "metadata": {},
   "outputs": [
    {
     "data": {
      "text/plain": [
       "'candida_sucks wrote: How many of you guys have experience with candida getting in your prostate? I don’t see much talk of it in this forum, but from what I’ve read elsewhere it’s rather common. From what I understand, the prostate is an alkaline environment, and therefore candida-friendly. I appear to have it in mine. Symptoms include mild balanitis (mild, yet annoying), rectal itch, and waking up at night too frequently to use the bathroom. Lower abdomen seems generally inflamed, as well. I already know that I did not contract this sexually. I had/have candida overgrowth in the intestines as well. I guess that somehow the candida moves from the small intestines to the prostate; I don’t pretend to know the mechanism of the transition. I’ve been on a candida diet for 9 weeks now. It’s not the same diet this forum uses, but it’s pretty similar. The aforementioned prostate symptoms fluctuate quite a bit, just like other die-off symptoms tend to do. Anyway, my questions for the forum are as follows: 1) Are anti-fungals effective at eliminating candida in the prostate? Or just the intestines? 2) If anyone has had candida in their prostate, how long did it take to kill it off? 3) Would lemon water help with this? I know it’s supposed to be good for the urinary tract… Thanks Yes, mate you are not alone. I have the same symptoms. I dont know so much about your questions but wait here in the forum are people like Able and raster who know a hell of a lot about candida and are sure to help you with your questions. yours Thomas'"
      ]
     },
     "execution_count": 30,
     "metadata": {},
     "output_type": "execute_result"
    }
   ],
   "source": [
    "g.iloc[1,1]"
   ]
  },
  {
   "cell_type": "code",
   "execution_count": 76,
   "metadata": {},
   "outputs": [],
   "source": [
    "youRhell=\"https://www.thecandidadiet.com/forums/forum/general-discussion/\"\n",
    "def mother(youRhell=None):    \n",
    "    # let's measure the time it takes to run this scraper\n",
    "    start_time = time.time()\n",
    "    # make empty df to put all the data in it:\n",
    "    col_names =  ['user_name','topic_ID', 'post_text']\n",
    "    df0=pd.DataFrame(columns = col_names)\n",
    "    #    \" get the 1st page with links {using getpage()}\"\n",
    "    ii=0\n",
    "    topicNum=0\n",
    "    while ii<4:\n",
    "        page=getpage(youRhell)\n",
    "        ii=ii+1\n",
    "        print('downloading',ii,\"pages out of 610\")\n",
    "        links=pagelinks(page)\n",
    "        for link in links:\n",
    "            topic=getpage(link)\n",
    "            df=getUserPost(topic)\n",
    "            topicNum=topicNum+1\n",
    "            df['topic_ID']=topicNum\n",
    "            #concatenate the df to the big df:\n",
    "            frames = [df0, df]\n",
    "            df0 = pd.concat(frames)\n",
    "        try:\n",
    "            youRhell=nextPageLink(page)\n",
    "        except: AttributeError   \n",
    "        finally: \n",
    "            if page==[]:\n",
    "                break\n",
    "    time.sleep(1) # to not scrape it too fast\n",
    "    print(\"scraping time =\",round(time.time() - start_time,2),\"sec\")\n",
    "    # 2 secs X 610 pages is 610 sec so substract that..\n",
    "    return df0[['user_name','topic_ID', 'post_text']]"
   ]
  },
  {
   "cell_type": "code",
   "execution_count": 65,
   "metadata": {
    "collapsed": true
   },
   "outputs": [],
   "source": [
    "# try page that is 2 pages from the end:\n",
    "urll='https://www.thecandidadiet.com/forums/forum/general-discussion/page/609/'"
   ]
  },
  {
   "cell_type": "code",
   "execution_count": 77,
   "metadata": {},
   "outputs": [
    {
     "name": "stdout",
     "output_type": "stream",
     "text": [
      "downloading 1 pages out of 610\n",
      "downloading 2 pages out of 610\n",
      "downloading 3 pages out of 610\n",
      "downloading 4 pages out of 610\n",
      "scraping time = 6.81 sec\n"
     ]
    }
   ],
   "source": [
    "g=mother(urll)"
   ]
  },
  {
   "cell_type": "code",
   "execution_count": 78,
   "metadata": {},
   "outputs": [
    {
     "data": {
      "text/plain": [
       "70"
      ]
     },
     "execution_count": 78,
     "metadata": {},
     "output_type": "execute_result"
    }
   ],
   "source": [
    "len(g)"
   ]
  },
  {
   "cell_type": "code",
   "execution_count": 71,
   "metadata": {},
   "outputs": [
    {
     "data": {
      "text/html": [
       "<div>\n",
       "<style>\n",
       "    .dataframe thead tr:only-child th {\n",
       "        text-align: right;\n",
       "    }\n",
       "\n",
       "    .dataframe thead th {\n",
       "        text-align: left;\n",
       "    }\n",
       "\n",
       "    .dataframe tbody tr th {\n",
       "        vertical-align: top;\n",
       "    }\n",
       "</style>\n",
       "<table border=\"1\" class=\"dataframe\">\n",
       "  <thead>\n",
       "    <tr style=\"text-align: right;\">\n",
       "      <th></th>\n",
       "      <th>user_name</th>\n",
       "      <th>topic_ID</th>\n",
       "      <th>post_text</th>\n",
       "    </tr>\n",
       "  </thead>\n",
       "  <tbody>\n",
       "    <tr>\n",
       "      <th>0</th>\n",
       "      <td>yes178</td>\n",
       "      <td>1</td>\n",
       "      <td>This diet list fish as one of the foods to eat...</td>\n",
       "    </tr>\n",
       "    <tr>\n",
       "      <th>1</th>\n",
       "      <td>anna</td>\n",
       "      <td>1</td>\n",
       "      <td>Yes you can eat shrimps, crabs, clams,and muss...</td>\n",
       "    </tr>\n",
       "    <tr>\n",
       "      <th>0</th>\n",
       "      <td>john</td>\n",
       "      <td>2</td>\n",
       "      <td>I was recently diagnosed with candida by my na...</td>\n",
       "    </tr>\n",
       "    <tr>\n",
       "      <th>1</th>\n",
       "      <td>Cécile</td>\n",
       "      <td>2</td>\n",
       "      <td>From what I read, it’s not something that you ...</td>\n",
       "    </tr>\n",
       "    <tr>\n",
       "      <th>2</th>\n",
       "      <td>TT</td>\n",
       "      <td>2</td>\n",
       "      <td>The liver toxicity is to do with the natural a...</td>\n",
       "    </tr>\n",
       "  </tbody>\n",
       "</table>\n",
       "</div>"
      ],
      "text/plain": [
       "  user_name topic_ID                                          post_text\n",
       "0    yes178        1  This diet list fish as one of the foods to eat...\n",
       "1      anna        1  Yes you can eat shrimps, crabs, clams,and muss...\n",
       "0      john        2  I was recently diagnosed with candida by my na...\n",
       "1    Cécile        2  From what I read, it’s not something that you ...\n",
       "2        TT        2  The liver toxicity is to do with the natural a..."
      ]
     },
     "execution_count": 71,
     "metadata": {},
     "output_type": "execute_result"
    }
   ],
   "source": [
    "g.head()"
   ]
  },
  {
   "cell_type": "code",
   "execution_count": 72,
   "metadata": {},
   "outputs": [
    {
     "data": {
      "text/html": [
       "<div>\n",
       "<style>\n",
       "    .dataframe thead tr:only-child th {\n",
       "        text-align: right;\n",
       "    }\n",
       "\n",
       "    .dataframe thead th {\n",
       "        text-align: left;\n",
       "    }\n",
       "\n",
       "    .dataframe tbody tr th {\n",
       "        vertical-align: top;\n",
       "    }\n",
       "</style>\n",
       "<table border=\"1\" class=\"dataframe\">\n",
       "  <thead>\n",
       "    <tr style=\"text-align: right;\">\n",
       "      <th></th>\n",
       "      <th>user_name</th>\n",
       "      <th>topic_ID</th>\n",
       "      <th>post_text</th>\n",
       "    </tr>\n",
       "  </thead>\n",
       "  <tbody>\n",
       "    <tr>\n",
       "      <th>2</th>\n",
       "      <td>Cécile</td>\n",
       "      <td>28</td>\n",
       "      <td>By the way, I don’t know about the painkillers...</td>\n",
       "    </tr>\n",
       "    <tr>\n",
       "      <th>3</th>\n",
       "      <td>tammyneys</td>\n",
       "      <td>28</td>\n",
       "      <td>Cecile, thanks for the advice it makes me feel...</td>\n",
       "    </tr>\n",
       "    <tr>\n",
       "      <th>0</th>\n",
       "      <td>poodlelady</td>\n",
       "      <td>29</td>\n",
       "      <td>I just found out about candida from a co-worke...</td>\n",
       "    </tr>\n",
       "    <tr>\n",
       "      <th>1</th>\n",
       "      <td>anna</td>\n",
       "      <td>29</td>\n",
       "      <td>There are 3 stages to a Candida diet.. you can...</td>\n",
       "    </tr>\n",
       "    <tr>\n",
       "      <th>0</th>\n",
       "      <td>anna</td>\n",
       "      <td>30</td>\n",
       "      <td>This forum is for just about anything Candida-...</td>\n",
       "    </tr>\n",
       "  </tbody>\n",
       "</table>\n",
       "</div>"
      ],
      "text/plain": [
       "    user_name topic_ID                                          post_text\n",
       "2      Cécile       28  By the way, I don’t know about the painkillers...\n",
       "3   tammyneys       28  Cecile, thanks for the advice it makes me feel...\n",
       "0  poodlelady       29  I just found out about candida from a co-worke...\n",
       "1        anna       29  There are 3 stages to a Candida diet.. you can...\n",
       "0        anna       30  This forum is for just about anything Candida-..."
      ]
     },
     "execution_count": 72,
     "metadata": {},
     "output_type": "execute_result"
    }
   ],
   "source": [
    "g.tail()"
   ]
  },
  {
   "cell_type": "code",
   "execution_count": null,
   "metadata": {
    "collapsed": true
   },
   "outputs": [],
   "source": []
  }
 ],
 "metadata": {
  "kernelspec": {
   "display_name": "Python 3",
   "language": "python",
   "name": "python3"
  },
  "language_info": {
   "codemirror_mode": {
    "name": "ipython",
    "version": 3
   },
   "file_extension": ".py",
   "mimetype": "text/x-python",
   "name": "python",
   "nbconvert_exporter": "python",
   "pygments_lexer": "ipython3",
   "version": "3.6.3"
  }
 },
 "nbformat": 4,
 "nbformat_minor": 2
}
